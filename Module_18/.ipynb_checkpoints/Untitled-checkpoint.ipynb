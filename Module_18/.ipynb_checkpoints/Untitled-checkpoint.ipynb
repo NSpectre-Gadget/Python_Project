{
 "cells": [
  {
   "cell_type": "code",
   "execution_count": null,
   "id": "79a1dbbd-1b95-447c-9bd1-b86969814c2a",
   "metadata": {},
   "outputs": [],
   "source": []
  }
 ],
 "metadata": {
  "kernelspec": {
   "display_name": "",
   "name": ""
  },
  "language_info": {
   "name": ""
  }
 },
 "nbformat": 4,
 "nbformat_minor": 5
}
