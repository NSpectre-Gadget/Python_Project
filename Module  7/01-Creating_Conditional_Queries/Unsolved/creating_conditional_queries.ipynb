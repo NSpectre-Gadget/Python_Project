{
 "cells": [
  {
   "cell_type": "markdown",
   "metadata": {},
   "source": [
    "# Creating Conditional Queries\n",
    "\n",
    "In this activity, you’ll create SQL queries that each return a set of data based on the conditions that you specify. You’ll use the SQL `WHERE` clause to check the conditions and return the records that you want from your database.\n",
    "\n",
    "Instructions\n",
    "\n",
    "1. Import the required libraries and dependencies: Pandas, Path, and SQLAlchemy.\n",
    "\n",
    "2. Read stock_data.csv` into a new Pandas DataFrame.\n",
    "\n",
    "    > **Important** For this activity, you don’t need to set the “date” column as a `DatetimeIndex`.\n",
    "\n",
    "3. Set up a database connection by completing the following: \n",
    "\n",
    "    - Create the connection string for your new SQLite database.\n",
    "\n",
    "    - Pass the connection string to the `create_engine` function.\n",
    "\n",
    "    - Confirm the creation of the database engine.\n",
    "\n",
    "4. Use the `to_sql` function to create a new table named `stock_prices` in the database. To do so, use the information in the `stock_prices_df` DataFrame. Be sure to do the following:\n",
    "\n",
    "    - Include the parameters for the engine, the index, and replace the table if it already exists.\n",
    "\n",
    "    - Call the `table_names` function to confirm that the newly created table exists in the database.\n",
    "\n",
    "5. Write a SQL query to return the \"date\" and “TSLA” columns, where the “TSLA” value is less than 400. To run the query, call the `execute` function on the database engine. Review the list of results.\n",
    "\n",
    "6. Write a SQL query to return the \"date\" and “TSLA” columns, where the TSLA value is greater than 400. To run the query, call the `execute` function on the database engine. Review the list of results.\n",
    "\n",
    "7. Write a SQL query to return the “date”, “AAPL”, and “TSLA” columns, where the “date” column equals 2019-08-07. To run the query, call the `execute` function on the database engine. Review the list of results.\n",
    "\n",
    "\n",
    "    > **Hint** In the `stock_prices` table, the “date” column stores its data as strings and not as numerical values. To access this data via a SQL query, you need to place it in quotation marks&mdash;for example, “2019-08-07”.\n",
    "\n",
    "References\n",
    "\n",
    "[SQL SELECT](https://docs.microsoft.com/en-us/sql/t-sql/queries/select-transact-sql?view=sql-server-ver15)\n",
    "\n",
    "[SQL WHERE](https://docs.microsoft.com/en-us/sql/t-sql/queries/where-transact-sql?view=sql-server-ver15)\n",
    "\n",
    "[SQLAlchemy SQLite Create Engine](https://docs.sqlalchemy.org/en/14/core/engines.html#sqlite)\n",
    "\n",
    "[SQLAlchemy Core](https://docs.sqlalchemy.org/en/14/core/index.html)"
   ]
  },
  {
   "cell_type": "markdown",
   "metadata": {},
   "source": [
    "## Step 1: Import the required libraries and dependencies: Pandas, Path, and SQLAlchemy."
   ]
  },
  {
   "cell_type": "code",
   "execution_count": null,
   "metadata": {},
   "outputs": [],
   "source": [
    "# Import the required libraries and dependencies\n",
    "import pandas as pd\n",
    "import numpy as np\n",
    "import sqlalchemy\n"
   ]
  },
  {
   "cell_type": "markdown",
   "metadata": {},
   "source": [
    "## Step 2: Read stock_data.csv` into a new Pandas DataFrame.\n",
    "\n",
    "    > **Important** For this activity, you don’t need to set the “date” column as a `DatetimeIndex`."
   ]
  },
  {
   "cell_type": "code",
   "execution_count": null,
   "metadata": {},
   "outputs": [],
   "source": [
    "# Using the Pandas read_csv funcion and the Path module, \n",
    "# read \"stocks.csv\" file into a Pandas DataFrame\n",
    "\n",
    "stock_prices_df = pd.read_csv(Path(\"../Resources/stocks.csv\"))\n",
    " \n",
    "# Review the DataFrame\n",
    "stock_prices_df.head()\n"
   ]
  },
  {
   "cell_type": "markdown",
   "metadata": {},
   "source": [
    "## Step 3: Set up a database connection by completing the following: \n",
    "\n",
    "    - Create the connection string for your new SQLite database.\n",
    "\n",
    "    - Pass the connection string to the `create_engine` function.\n",
    "\n",
    "    - Confirm the creation of the database engine.\n"
   ]
  },
  {
   "cell_type": "code",
   "execution_count": null,
   "metadata": {},
   "outputs": [],
   "source": [
    "# Create the connection string for your SQLite database\n",
    "database_connection_string = \"sqlite:///\"\n",
    "\n",
    "# Pass the connection string to the SQLAlchemy create_engine function\n",
    "engine = sqlalchemy.create_engine(database_connection_string)\n",
    "\n",
    "# Confirm that the database engine was created.\n",
    "engine\n"
   ]
  },
  {
   "cell_type": "markdown",
   "metadata": {},
   "source": [
    "## Step 4: Use the `to_sql` function to create a new table named `stock_prices` in the database. To do so, use the information in the `stock_prices_df` DataFrame. Be sure to do the following:\n",
    "\n",
    "    - Include the parameters for the engine, the index, and replace the table if it already exists.\n",
    "\n",
    "    - Call the `table_names` function to confirm that the newly created table exists in the database.\n"
   ]
  },
  {
   "cell_type": "code",
   "execution_count": null,
   "metadata": {},
   "outputs": [],
   "source": [
    "# Using the stock_prices_df DataFrame, create a table called stocks_prices\n",
    "# inside your newly created database\n",
    "# Be sure to include the parameters for the engine, the index, and if_exists with the function\n",
    "stock_prices_df.to_sql('stocks_prices',engine, index=False,if_exists='replace')\n",
    "\n",
    "# Confirm that the table was created by calling the table_names function\n",
    "engine.table_names()\n"
   ]
  },
  {
   "cell_type": "markdown",
   "metadata": {},
   "source": [
    "## Step 5: Write a SQL query to return the \"date\" and “TSLA” columns, where the “TSLA” value is less than 400. To run the query, call the `execute` function on the database engine. Review the list of results."
   ]
  },
  {
   "cell_type": "code",
   "execution_count": null,
   "metadata": {
    "scrolled": true
   },
   "outputs": [],
   "source": [
    "# Write the SQL query to return the date and TSLA columns, where the TSLA value is less than 400.\n",
    "query_tsla_less_400 = \"\"\"\n",
    "SELECT date,TSLA FROM stock_prices WHERE TSLA=400\n",
    "\"\"\"\n",
    "\n",
    "# Call on the database engine to execute the query \n",
    "results = engine.execute(query_tsla_less_400)\n",
    "\n",
    "# List of the results of the database query\n",
    "lists(results)\n"
   ]
  },
  {
   "cell_type": "markdown",
   "metadata": {},
   "source": [
    "## Step 6: Write a SQL query to return the \"date\" and “TSLA” columns, where the TSLA value is greater than 400. To run the query, call the `execute` function on the database engine. Review the list of results."
   ]
  },
  {
   "cell_type": "code",
   "execution_count": null,
   "metadata": {
    "scrolled": true
   },
   "outputs": [],
   "source": [
    "# Write the SQL query to return the date and TSLA columns, where the TSLA value is greater than 400.\n",
    "query_tsla_greater_400 = \"\"\"\n",
    "SELECT date, TSLA\n",
    "FROM stock_prices\n",
    "WHERE TSLA>400\n",
    "\"\"\"\n",
    "\n",
    "# Call on the database engine to execute the query\n",
    "results = engine.execute(query_tsla_greater_400)\n",
    "\n",
    "# List of the results of the database query\n",
    "list(results)\n"
   ]
  },
  {
   "cell_type": "markdown",
   "metadata": {},
   "source": [
    "## Step 7: Write a SQL query to return the \"date\", “AAPL”, and “TSLA” columns, where the “date” column equals 2019-08-07. To run the query, call the `execute` function on the database engine. Review the list of results."
   ]
  },
  {
   "cell_type": "code",
   "execution_count": null,
   "metadata": {},
   "outputs": [],
   "source": [
    "query_date_2019_08_07 = \"\"\"\n",
    "SELECT date, AAPL, TSLA\n",
    "FROM stock_prices\n",
    "WHERE date=2019-08-07\n",
    "\"\"\"\n",
    "\n",
    "# Call on the database engine to execute the query\n",
    "results = engine.execute(query_date_2019_08_07)\n",
    "\n",
    "# List of the results of the database query\n",
    "lists(results)\n"
   ]
  },
  {
   "cell_type": "code",
   "execution_count": null,
   "metadata": {},
   "outputs": [],
   "source": []
  }
 ],
 "metadata": {
  "kernelspec": {
   "display_name": "dev",
   "language": "python",
   "name": "dev"
  },
  "language_info": {
   "codemirror_mode": {
    "name": "ipython",
    "version": 3
   },
   "file_extension": ".py",
   "mimetype": "text/x-python",
   "name": "python",
   "nbconvert_exporter": "python",
   "pygments_lexer": "ipython3",
   "version": "3.7.7"
  }
 },
 "nbformat": 4,
 "nbformat_minor": 4
}
