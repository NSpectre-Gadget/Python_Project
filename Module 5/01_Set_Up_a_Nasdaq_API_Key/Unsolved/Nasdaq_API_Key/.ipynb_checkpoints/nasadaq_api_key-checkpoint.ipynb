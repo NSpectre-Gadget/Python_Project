{
 "cells": [
  {
   "cell_type": "code",
   "execution_count": 1,
   "id": "440439e3-44ac-4cd1-971a-831fd14f0150",
   "metadata": {},
   "outputs": [],
   "source": [
    "import os\n",
    "from dotenv import load_dotenv"
   ]
  },
  {
   "cell_type": "code",
   "execution_count": 2,
   "id": "57888166-84ca-4499-be37-e9ff74f4162d",
   "metadata": {},
   "outputs": [
    {
     "data": {
      "text/plain": [
       "True"
      ]
     },
     "execution_count": 2,
     "metadata": {},
     "output_type": "execute_result"
    }
   ],
   "source": [
    "load_dotenv()"
   ]
  },
  {
   "cell_type": "code",
   "execution_count": 3,
   "id": "0f37b7e8-895a-44f9-b4de-83686d39e7ab",
   "metadata": {},
   "outputs": [
    {
     "data": {
      "text/plain": [
       "str"
      ]
     },
     "execution_count": 3,
     "metadata": {},
     "output_type": "execute_result"
    }
   ],
   "source": [
    "NASDAQ_API_KEY=os.getenv('NASDAQ_API_KEY')\n",
    "type (NASDAQ_API_KEY)"
   ]
  },
  {
   "cell_type": "code",
   "execution_count": 4,
   "id": "7a5fa229-c6a6-439d-b0ee-9c2c2a24e9f2",
   "metadata": {},
   "outputs": [
    {
     "data": {
      "text/plain": [
       "True"
      ]
     },
     "execution_count": 4,
     "metadata": {},
     "output_type": "execute_result"
    }
   ],
   "source": [
    "# Import the required libraries and dependencies\n",
    "import pandas as pd\n",
    "import os\n",
    "from dotenv import load_dotenv\n",
    "import requests\n",
    "import json\n",
    "\n",
    "# Load .env environment variables\n",
    "load_dotenv()"
   ]
  },
  {
   "cell_type": "code",
   "execution_count": 5,
   "id": "a3b9717b-2f59-47f1-a2a8-c93f5a1b0282",
   "metadata": {},
   "outputs": [
    {
     "name": "stdout",
     "output_type": "stream",
     "text": [
      "{\n",
      "    \"quandl_error\": {\n",
      "        \"code\": \"QEAx01\",\n",
      "        \"message\": \"We could not recognize your API key: \\u201cT28v7Fb9pzDzxrJQnSjX\\u201d. Please check your API key and try again. You can find your API key under your account settings.\"\n",
      "    }\n",
      "}\n"
     ]
    }
   ],
   "source": [
    "# Retrieve the API key from the environment variable and store as Python variable\n",
    "NASDAQ_API_KEY = os.getenv(\"NASDAQ_API_KEY\")\n",
    "type(NASDAQ_API_KEY)\n",
    "\n",
    "# Define the base request URL for NASDAQ\n",
    "# Note the `limit=10` and api_key=` parameters.\n",
    "request_url = \"https://data.nasdaq.com/api/v3/datasets/WIKI/MSFT.json?limit=10&api_key=\"\n",
    "\n",
    "# Concatenate request_url and nasdaq_api_key and store as a new variable\n",
    "nasdaq_request_url = request_url + NASDAQ_API_KEY\n",
    "nasdaq_request_url\n",
    "# Execute the API call to Nasdaq using requests.get\n",
    "response = requests.get(nasdaq_request_url).json()\n",
    "\n",
    "# Display response data using json.dumps\n",
    "print(json.dumps(response, indent=4, sort_keys=True))"
   ]
  }
 ],
 "metadata": {
  "kernelspec": {
   "display_name": "Python 3 (ipykernel)",
   "language": "python",
   "name": "python3"
  },
  "language_info": {
   "codemirror_mode": {
    "name": "ipython",
    "version": 3
   },
   "file_extension": ".py",
   "mimetype": "text/x-python",
   "name": "python",
   "nbconvert_exporter": "python",
   "pygments_lexer": "ipython3",
   "version": "3.7.13"
  }
 },
 "nbformat": 4,
 "nbformat_minor": 5
}
