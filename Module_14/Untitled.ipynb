{
 "cells": [
  {
   "cell_type": "code",
   "execution_count": 1,
   "id": "a3ff65eb-24bc-476f-800d-da6be38f21ca",
   "metadata": {},
   "outputs": [],
   "source": [
    "# Import statements\n",
    "import pandas as pd\n",
    "import numpy as np"
   ]
  },
  {
   "cell_type": "code",
   "execution_count": 2,
   "id": "75ea6b05-59ae-4bef-ad4a-c35adc70a4ef",
   "metadata": {},
   "outputs": [],
   "source": [
    "# Create a Pandas DataFrame containing closing prices for stock FNTK\n",
    "fntk_df = pd.DataFrame(\n",
    "    {\"close\": [30.05, 30.36, 30.22, 30.52, 30.45, 31.85, 30.47, 30.60, 30.21, 31.30]}\n",
    ")\n"
   ]
  },
  {
   "cell_type": "code",
   "execution_count": 3,
   "id": "14d6a619-f04d-47e6-a08b-5353f00ce515",
   "metadata": {},
   "outputs": [
    {
     "data": {
      "text/html": [
       "<div>\n",
       "<style scoped>\n",
       "    .dataframe tbody tr th:only-of-type {\n",
       "        vertical-align: middle;\n",
       "    }\n",
       "\n",
       "    .dataframe tbody tr th {\n",
       "        vertical-align: top;\n",
       "    }\n",
       "\n",
       "    .dataframe thead th {\n",
       "        text-align: right;\n",
       "    }\n",
       "</style>\n",
       "<table border=\"1\" class=\"dataframe\">\n",
       "  <thead>\n",
       "    <tr style=\"text-align: right;\">\n",
       "      <th></th>\n",
       "      <th>close</th>\n",
       "    </tr>\n",
       "  </thead>\n",
       "  <tbody>\n",
       "    <tr>\n",
       "      <th>0</th>\n",
       "      <td>30.05</td>\n",
       "    </tr>\n",
       "    <tr>\n",
       "      <th>1</th>\n",
       "      <td>30.36</td>\n",
       "    </tr>\n",
       "    <tr>\n",
       "      <th>2</th>\n",
       "      <td>30.22</td>\n",
       "    </tr>\n",
       "    <tr>\n",
       "      <th>3</th>\n",
       "      <td>30.52</td>\n",
       "    </tr>\n",
       "    <tr>\n",
       "      <th>4</th>\n",
       "      <td>30.45</td>\n",
       "    </tr>\n",
       "    <tr>\n",
       "      <th>5</th>\n",
       "      <td>31.85</td>\n",
       "    </tr>\n",
       "    <tr>\n",
       "      <th>6</th>\n",
       "      <td>30.47</td>\n",
       "    </tr>\n",
       "    <tr>\n",
       "      <th>7</th>\n",
       "      <td>30.60</td>\n",
       "    </tr>\n",
       "    <tr>\n",
       "      <th>8</th>\n",
       "      <td>30.21</td>\n",
       "    </tr>\n",
       "    <tr>\n",
       "      <th>9</th>\n",
       "      <td>31.30</td>\n",
       "    </tr>\n",
       "  </tbody>\n",
       "</table>\n",
       "</div>"
      ],
      "text/plain": [
       "   close\n",
       "0  30.05\n",
       "1  30.36\n",
       "2  30.22\n",
       "3  30.52\n",
       "4  30.45\n",
       "5  31.85\n",
       "6  30.47\n",
       "7  30.60\n",
       "8  30.21\n",
       "9  31.30"
      ]
     },
     "execution_count": 3,
     "metadata": {},
     "output_type": "execute_result"
    }
   ],
   "source": [
    "# Review the DataFrame\n",
    "fntk_df"
   ]
  },
  {
   "cell_type": "code",
   "execution_count": 4,
   "id": "27ce826e-9fbf-4aff-add2-db6647d2c3c3",
   "metadata": {},
   "outputs": [
    {
     "data": {
      "text/plain": [
       "<AxesSubplot:>"
      ]
     },
     "execution_count": 4,
     "metadata": {},
     "output_type": "execute_result"
    },
    {
     "data": {
      "image/png": "[encoded data removed]",
      "text/plain": [
       "<Figure size 432x288 with 1 Axes>"
      ]
     },
     "metadata": {
      "needs_background": "light"
     },
     "output_type": "display_data"
    }
   ],
   "source": [
    "# Use the plot function to plot the closing prices for FNTK\n",
    "fntk_df.plot()"
   ]
  },
  {
   "cell_type": "code",
   "execution_count": 5,
   "id": "f54e2028-f0a5-4b01-abd5-e15978f74c73",
   "metadata": {},
   "outputs": [],
   "source": [
    "# Add the trade_type column to track buys and sells\n",
    "fntk_df['trade_type'] = np.nan"
   ]
  },
  {
   "cell_type": "code",
   "execution_count": 6,
   "id": "ed55a9d5-7a6a-4128-bc62-e92147c3ec8a",
   "metadata": {},
   "outputs": [],
   "source": [
    "# Initialize variable to hold previous day's trading price\n",
    "# Set the initial value of the previous_price to 0\n",
    "previous_price = 0"
   ]
  },
  {
   "cell_type": "code",
   "execution_count": 7,
   "id": "f9a2e3b4-061b-4cc5-a5e6-ad29d09026ab",
   "metadata": {},
   "outputs": [],
   "source": [
    "# Loop through the Pandas DataFrame and initiate a trade each iteration\n",
    "for index, row in fntk_df.iterrows():\n",
    "    # buy if the previous price is 0, in other words, buy on the first day\n",
    "    if previous_price == 0:\n",
    "        fntk_df.loc[index, \"trade_type\"] = \"buy\"\n",
    "# buy if the previous price is 0, in other words, buy on the first day\n",
    "    if previous_price == 0:\n",
    "        fntk_df.loc[index, \"trade_type\"] = \"buy\"\n",
    "# sell if the current day’s price is greater than the previous day’s price\n",
    "    elif row[\"close\"] > previous_price:\n",
    "        fntk_df.loc[index, \"trade_type\"] = \"sell\"\n",
    "# hold if the current day’s price is equal to the previous day’s price\n",
    "    else:\n",
    "        fntk_df.loc[index, \"trade_type\"] = \"hold\""
   ]
  },
  {
   "cell_type": "code",
   "execution_count": 8,
   "id": "ca368c0f-3fb5-475a-ba88-888fcaf8c36c",
   "metadata": {},
   "outputs": [],
   "source": [
    "# update the previous_price to the current row's price\n",
    "previous_price = row[\"close\"]"
   ]
  },
  {
   "cell_type": "code",
   "execution_count": 9,
   "id": "cff9a354-670f-4073-9c3b-b3a3c590f8aa",
   "metadata": {},
   "outputs": [],
   "source": [
    "# if the index is the last index of the DataFrame, sell\n",
    "if index == fntk_df.index[-1]:\n",
    "    fntk_df.loc[index, \"trade_type\"] = \"sell\""
   ]
  },
  {
   "cell_type": "code",
   "execution_count": 10,
   "id": "a13f33ec-5b52-4a16-865c-4ce6afb76ed4",
   "metadata": {},
   "outputs": [
    {
     "data": {
      "text/html": [
       "<div>\n",
       "<style scoped>\n",
       "    .dataframe tbody tr th:only-of-type {\n",
       "        vertical-align: middle;\n",
       "    }\n",
       "\n",
       "    .dataframe tbody tr th {\n",
       "        vertical-align: top;\n",
       "    }\n",
       "\n",
       "    .dataframe thead th {\n",
       "        text-align: right;\n",
       "    }\n",
       "</style>\n",
       "<table border=\"1\" class=\"dataframe\">\n",
       "  <thead>\n",
       "    <tr style=\"text-align: right;\">\n",
       "      <th></th>\n",
       "      <th>close</th>\n",
       "      <th>trade_type</th>\n",
       "    </tr>\n",
       "  </thead>\n",
       "  <tbody>\n",
       "    <tr>\n",
       "      <th>0</th>\n",
       "      <td>30.05</td>\n",
       "      <td>buy</td>\n",
       "    </tr>\n",
       "    <tr>\n",
       "      <th>1</th>\n",
       "      <td>30.36</td>\n",
       "      <td>buy</td>\n",
       "    </tr>\n",
       "    <tr>\n",
       "      <th>2</th>\n",
       "      <td>30.22</td>\n",
       "      <td>buy</td>\n",
       "    </tr>\n",
       "    <tr>\n",
       "      <th>3</th>\n",
       "      <td>30.52</td>\n",
       "      <td>buy</td>\n",
       "    </tr>\n",
       "    <tr>\n",
       "      <th>4</th>\n",
       "      <td>30.45</td>\n",
       "      <td>buy</td>\n",
       "    </tr>\n",
       "    <tr>\n",
       "      <th>5</th>\n",
       "      <td>31.85</td>\n",
       "      <td>buy</td>\n",
       "    </tr>\n",
       "    <tr>\n",
       "      <th>6</th>\n",
       "      <td>30.47</td>\n",
       "      <td>buy</td>\n",
       "    </tr>\n",
       "    <tr>\n",
       "      <th>7</th>\n",
       "      <td>30.60</td>\n",
       "      <td>buy</td>\n",
       "    </tr>\n",
       "    <tr>\n",
       "      <th>8</th>\n",
       "      <td>30.21</td>\n",
       "      <td>buy</td>\n",
       "    </tr>\n",
       "    <tr>\n",
       "      <th>9</th>\n",
       "      <td>31.30</td>\n",
       "      <td>sell</td>\n",
       "    </tr>\n",
       "  </tbody>\n",
       "</table>\n",
       "</div>"
      ],
      "text/plain": [
       "   close trade_type\n",
       "0  30.05        buy\n",
       "1  30.36        buy\n",
       "2  30.22        buy\n",
       "3  30.52        buy\n",
       "4  30.45        buy\n",
       "5  31.85        buy\n",
       "6  30.47        buy\n",
       "7  30.60        buy\n",
       "8  30.21        buy\n",
       "9  31.30       sell"
      ]
     },
     "execution_count": 10,
     "metadata": {},
     "output_type": "execute_result"
    }
   ],
   "source": [
    "# Review the DataFrame\n",
    "fntk_df"
   ]
  },
  {
   "cell_type": "markdown",
   "id": "83b676ab-f7e4-4234-9e4d-630cef79512e",
   "metadata": {},
   "source": [
    "# Calculate the Profit"
   ]
  },
  {
   "cell_type": "markdown",
   "id": "7244a389-c344-413b-a681-a380491fb606",
   "metadata": {},
   "source": [
    "###cost of each trade by multiplying the closing price of the stock by the number of shares "
   ]
  },
  {
   "cell_type": "markdown",
   "id": "f30976b8-4469-4002-ab85-1cd6ccd0d9d4",
   "metadata": {},
   "source": [
    "###calculate the proceeds by multiplying the closing price of the stock by the total number of shares "
   ]
  },
  {
   "cell_type": "markdown",
   "id": "d740872a-f118-4630-abbc-4591a067b7ed",
   "metadata": {},
   "source": [
    "###calculate the profit or loss by subtracting the total cost of the shares that we bought from the total proceeds "
   ]
  },
  {
   "cell_type": "code",
   "execution_count": 11,
   "id": "d22e62a1-755c-41df-b587-b57a94e63e76",
   "metadata": {},
   "outputs": [
    {
     "data": {
      "text/html": [
       "<div>\n",
       "<style scoped>\n",
       "    .dataframe tbody tr th:only-of-type {\n",
       "        vertical-align: middle;\n",
       "    }\n",
       "\n",
       "    .dataframe tbody tr th {\n",
       "        vertical-align: top;\n",
       "    }\n",
       "\n",
       "    .dataframe thead th {\n",
       "        text-align: right;\n",
       "    }\n",
       "</style>\n",
       "<table border=\"1\" class=\"dataframe\">\n",
       "  <thead>\n",
       "    <tr style=\"text-align: right;\">\n",
       "      <th></th>\n",
       "      <th>close</th>\n",
       "      <th>trade_type</th>\n",
       "      <th>cost/proceeds</th>\n",
       "    </tr>\n",
       "  </thead>\n",
       "  <tbody>\n",
       "    <tr>\n",
       "      <th>0</th>\n",
       "      <td>30.05</td>\n",
       "      <td>buy</td>\n",
       "      <td>NaN</td>\n",
       "    </tr>\n",
       "    <tr>\n",
       "      <th>1</th>\n",
       "      <td>30.36</td>\n",
       "      <td>buy</td>\n",
       "      <td>NaN</td>\n",
       "    </tr>\n",
       "    <tr>\n",
       "      <th>2</th>\n",
       "      <td>30.22</td>\n",
       "      <td>buy</td>\n",
       "      <td>NaN</td>\n",
       "    </tr>\n",
       "    <tr>\n",
       "      <th>3</th>\n",
       "      <td>30.52</td>\n",
       "      <td>buy</td>\n",
       "      <td>NaN</td>\n",
       "    </tr>\n",
       "    <tr>\n",
       "      <th>4</th>\n",
       "      <td>30.45</td>\n",
       "      <td>buy</td>\n",
       "      <td>NaN</td>\n",
       "    </tr>\n",
       "    <tr>\n",
       "      <th>5</th>\n",
       "      <td>31.85</td>\n",
       "      <td>buy</td>\n",
       "      <td>NaN</td>\n",
       "    </tr>\n",
       "    <tr>\n",
       "      <th>6</th>\n",
       "      <td>30.47</td>\n",
       "      <td>buy</td>\n",
       "      <td>NaN</td>\n",
       "    </tr>\n",
       "    <tr>\n",
       "      <th>7</th>\n",
       "      <td>30.60</td>\n",
       "      <td>buy</td>\n",
       "      <td>NaN</td>\n",
       "    </tr>\n",
       "    <tr>\n",
       "      <th>8</th>\n",
       "      <td>30.21</td>\n",
       "      <td>buy</td>\n",
       "      <td>NaN</td>\n",
       "    </tr>\n",
       "    <tr>\n",
       "      <th>9</th>\n",
       "      <td>31.30</td>\n",
       "      <td>sell</td>\n",
       "      <td>NaN</td>\n",
       "    </tr>\n",
       "  </tbody>\n",
       "</table>\n",
       "</div>"
      ],
      "text/plain": [
       "   close trade_type  cost/proceeds\n",
       "0  30.05        buy            NaN\n",
       "1  30.36        buy            NaN\n",
       "2  30.22        buy            NaN\n",
       "3  30.52        buy            NaN\n",
       "4  30.45        buy            NaN\n",
       "5  31.85        buy            NaN\n",
       "6  30.47        buy            NaN\n",
       "7  30.60        buy            NaN\n",
       "8  30.21        buy            NaN\n",
       "9  31.30       sell            NaN"
      ]
     },
     "execution_count": 11,
     "metadata": {},
     "output_type": "execute_result"
    }
   ],
   "source": [
    "# Initialize a cost/proceeds column for recording trade metrics\n",
    "fntk_df[\"cost/proceeds\"] = np.nan\n",
    "fntk_df"
   ]
  },
  {
   "cell_type": "code",
   "execution_count": 12,
   "id": "38cd7065-1716-45c1-9e4f-22e00f2306de",
   "metadata": {},
   "outputs": [],
   "source": [
    "# Initialize share size and accumulated shares\n",
    "share_size = 100\n",
    "accumulated_shares = 0"
   ]
  },
  {
   "cell_type": "code",
   "execution_count": 13,
   "id": "1775bcc2-f9f6-4df6-b20f-e01506ac4025",
   "metadata": {},
   "outputs": [
    {
     "data": {
      "text/html": [
       "<div>\n",
       "<style scoped>\n",
       "    .dataframe tbody tr th:only-of-type {\n",
       "        vertical-align: middle;\n",
       "    }\n",
       "\n",
       "    .dataframe tbody tr th {\n",
       "        vertical-align: top;\n",
       "    }\n",
       "\n",
       "    .dataframe thead th {\n",
       "        text-align: right;\n",
       "    }\n",
       "</style>\n",
       "<table border=\"1\" class=\"dataframe\">\n",
       "  <thead>\n",
       "    <tr style=\"text-align: right;\">\n",
       "      <th></th>\n",
       "      <th>close</th>\n",
       "      <th>trade_type</th>\n",
       "      <th>cost/proceeds</th>\n",
       "    </tr>\n",
       "  </thead>\n",
       "  <tbody>\n",
       "    <tr>\n",
       "      <th>0</th>\n",
       "      <td>30.05</td>\n",
       "      <td>buy</td>\n",
       "      <td>NaN</td>\n",
       "    </tr>\n",
       "    <tr>\n",
       "      <th>1</th>\n",
       "      <td>30.36</td>\n",
       "      <td>sell</td>\n",
       "      <td>NaN</td>\n",
       "    </tr>\n",
       "    <tr>\n",
       "      <th>2</th>\n",
       "      <td>30.22</td>\n",
       "      <td>buy</td>\n",
       "      <td>NaN</td>\n",
       "    </tr>\n",
       "    <tr>\n",
       "      <th>3</th>\n",
       "      <td>30.52</td>\n",
       "      <td>sell</td>\n",
       "      <td>NaN</td>\n",
       "    </tr>\n",
       "    <tr>\n",
       "      <th>4</th>\n",
       "      <td>30.45</td>\n",
       "      <td>buy</td>\n",
       "      <td>NaN</td>\n",
       "    </tr>\n",
       "    <tr>\n",
       "      <th>5</th>\n",
       "      <td>31.85</td>\n",
       "      <td>sell</td>\n",
       "      <td>NaN</td>\n",
       "    </tr>\n",
       "    <tr>\n",
       "      <th>6</th>\n",
       "      <td>30.47</td>\n",
       "      <td>buy</td>\n",
       "      <td>NaN</td>\n",
       "    </tr>\n",
       "    <tr>\n",
       "      <th>7</th>\n",
       "      <td>30.60</td>\n",
       "      <td>sell</td>\n",
       "      <td>NaN</td>\n",
       "    </tr>\n",
       "    <tr>\n",
       "      <th>8</th>\n",
       "      <td>30.21</td>\n",
       "      <td>buy</td>\n",
       "      <td>NaN</td>\n",
       "    </tr>\n",
       "    <tr>\n",
       "      <th>9</th>\n",
       "      <td>31.30</td>\n",
       "      <td>sell</td>\n",
       "      <td>NaN</td>\n",
       "    </tr>\n",
       "  </tbody>\n",
       "</table>\n",
       "</div>"
      ],
      "text/plain": [
       "   close trade_type  cost/proceeds\n",
       "0  30.05        buy            NaN\n",
       "1  30.36       sell            NaN\n",
       "2  30.22        buy            NaN\n",
       "3  30.52       sell            NaN\n",
       "4  30.45        buy            NaN\n",
       "5  31.85       sell            NaN\n",
       "6  30.47        buy            NaN\n",
       "7  30.60       sell            NaN\n",
       "8  30.21        buy            NaN\n",
       "9  31.30       sell            NaN"
      ]
     },
     "execution_count": 13,
     "metadata": {},
     "output_type": "execute_result"
    }
   ],
   "source": [
    "# Add the trade_type column to track buys and sells\n",
    "fntk_df['trade_type'] = np.nan\n",
    "\n",
    "# Initialize variable to hold previous day's trading price\n",
    "# Set the initial value of the previous_price to 0\n",
    "previous_price = 0\n",
    "\n",
    "# Loop through the Pandas DataFrame and initiate a trade at each iteration\n",
    "for index, row in fntk_df.iterrows():\n",
    "\n",
    "    # buy if the previous_price is 0, in other words, buy on the first day\n",
    "    if previous_price == 0:\n",
    "        fntk_df.loc[index, \"trade_type\"] = \"buy\"\n",
    "\n",
    "        # calculate the cost of the trade by multiplying the current day's price\n",
    "        # by the share_size, or number of shares purchased\n",
    "       # fntk_df.loc[index, \"cost/proceeds\"] = -(row[\"close\"] * share_size)\n",
    "\n",
    "        # add the number of shares purchased to the accumulated shares\n",
    "        #accumulated_shares += share_size\n",
    "\n",
    "    # buy if the current day's price is less than the previous day's price\n",
    "    elif row[\"close\"] < previous_price:\n",
    "        fntk_df.loc[index, \"trade_type\"] = \"buy\"\n",
    "\n",
    "        # calculate the cost of the trade by multiplying the current day's price\n",
    "        # by the share_size, or number of shares purchased\n",
    "        #fntk_df.loc[index, \"cost/proceeds\"] = -(row[\"close\"] * share_size)\n",
    "\n",
    "        # add the number of shares purchased to the accumulated shares\n",
    "        #accumulated_shares += share_size\n",
    "        # sell if the current day's price is greater than the previous day's price\n",
    "        \n",
    "    elif row[\"close\"] > previous_price:\n",
    "        fntk_df.loc[index, \"trade_type\"] = \"sell\"\n",
    "        \n",
    "        # hold if the current day's price is greater than the previous day's price\n",
    "    elif row[\"close\"] > previous_price:\n",
    "        fntk_df.loc[index, \"trade_type\"] = \"hold\"\n",
    "    \n",
    "    # update the previous_price to the current row's price\n",
    "    previous_price = row[\"close\"]\n",
    "        \n",
    "    # if the index is the last index of the DataFrame, sell\n",
    "    if index == fntk_df.index[-1]:\n",
    "        fntk_df.loc[index, \"trade_type\"] = \"sell\"\n",
    "        \n",
    "    # calculate the proceeds by multiplying the last day's price by the accumulated shares\n",
    "       # fntk_df.loc[index, \"cost/proceeds\"] = row[\"close\"] * accumulated_shares\n",
    "        \n",
    "fntk_df"
   ]
  },
  {
   "cell_type": "markdown",
   "id": "6eed1d35-3039-43e9-bb9a-20ca34c13918",
   "metadata": {},
   "source": [
    "## Calculate the Cost and the Proceeds of Each Trade"
   ]
  },
  {
   "cell_type": "code",
   "execution_count": 14,
   "id": "3e7ab21d-100e-42ef-aeac-ae8011f6cf53",
   "metadata": {},
   "outputs": [
    {
     "data": {
      "text/html": [
       "<div>\n",
       "<style scoped>\n",
       "    .dataframe tbody tr th:only-of-type {\n",
       "        vertical-align: middle;\n",
       "    }\n",
       "\n",
       "    .dataframe tbody tr th {\n",
       "        vertical-align: top;\n",
       "    }\n",
       "\n",
       "    .dataframe thead th {\n",
       "        text-align: right;\n",
       "    }\n",
       "</style>\n",
       "<table border=\"1\" class=\"dataframe\">\n",
       "  <thead>\n",
       "    <tr style=\"text-align: right;\">\n",
       "      <th></th>\n",
       "      <th>close</th>\n",
       "      <th>trade_type</th>\n",
       "      <th>cost/proceeds</th>\n",
       "    </tr>\n",
       "  </thead>\n",
       "  <tbody>\n",
       "    <tr>\n",
       "      <th>0</th>\n",
       "      <td>30.05</td>\n",
       "      <td>buy</td>\n",
       "      <td>-3005.0</td>\n",
       "    </tr>\n",
       "    <tr>\n",
       "      <th>1</th>\n",
       "      <td>30.36</td>\n",
       "      <td>hold</td>\n",
       "      <td>NaN</td>\n",
       "    </tr>\n",
       "    <tr>\n",
       "      <th>2</th>\n",
       "      <td>30.22</td>\n",
       "      <td>buy</td>\n",
       "      <td>-3022.0</td>\n",
       "    </tr>\n",
       "    <tr>\n",
       "      <th>3</th>\n",
       "      <td>30.52</td>\n",
       "      <td>hold</td>\n",
       "      <td>NaN</td>\n",
       "    </tr>\n",
       "    <tr>\n",
       "      <th>4</th>\n",
       "      <td>30.45</td>\n",
       "      <td>buy</td>\n",
       "      <td>-3045.0</td>\n",
       "    </tr>\n",
       "    <tr>\n",
       "      <th>5</th>\n",
       "      <td>31.85</td>\n",
       "      <td>hold</td>\n",
       "      <td>NaN</td>\n",
       "    </tr>\n",
       "    <tr>\n",
       "      <th>6</th>\n",
       "      <td>30.47</td>\n",
       "      <td>buy</td>\n",
       "      <td>-3047.0</td>\n",
       "    </tr>\n",
       "    <tr>\n",
       "      <th>7</th>\n",
       "      <td>30.60</td>\n",
       "      <td>hold</td>\n",
       "      <td>NaN</td>\n",
       "    </tr>\n",
       "    <tr>\n",
       "      <th>8</th>\n",
       "      <td>30.21</td>\n",
       "      <td>buy</td>\n",
       "      <td>-3021.0</td>\n",
       "    </tr>\n",
       "    <tr>\n",
       "      <th>9</th>\n",
       "      <td>31.30</td>\n",
       "      <td>sell</td>\n",
       "      <td>15650.0</td>\n",
       "    </tr>\n",
       "  </tbody>\n",
       "</table>\n",
       "</div>"
      ],
      "text/plain": [
       "   close trade_type  cost/proceeds\n",
       "0  30.05        buy        -3005.0\n",
       "1  30.36       hold            NaN\n",
       "2  30.22        buy        -3022.0\n",
       "3  30.52       hold            NaN\n",
       "4  30.45        buy        -3045.0\n",
       "5  31.85       hold            NaN\n",
       "6  30.47        buy        -3047.0\n",
       "7  30.60       hold            NaN\n",
       "8  30.21        buy        -3021.0\n",
       "9  31.30       sell        15650.0"
      ]
     },
     "execution_count": 14,
     "metadata": {},
     "output_type": "execute_result"
    }
   ],
   "source": [
    "# Initialize trade_type column to track buys and sells\n",
    "fntk_df[\"trade_type\"] = np.nan\n",
    "\n",
    "# Initialize a cost/proceeds column for recording trade metrics\n",
    "fntk_df[\"cost/proceeds\"] = np.nan\n",
    "\n",
    "# Initialize share size and accumulated shares\n",
    "share_size = 100\n",
    "accumulated_shares = 0\n",
    "\n",
    "# Initialize variable to hold previous price\n",
    "previous_price = 0\n",
    "\n",
    "# Loop through the Pandas DataFrame and initiate a trade at each iteration\n",
    "for index, row in fntk_df.iterrows():\n",
    "\n",
    "    # buy if the previous_price is 0, in other words, buy on the first day\n",
    "    if previous_price == 0:\n",
    "        fntk_df.loc[index, \"trade_type\"] = \"buy\"\n",
    "\n",
    "        # calculate the cost of the trade by multiplying the current day's price\n",
    "        # by the share_size, or number of shares purchased\n",
    "        fntk_df.loc[index, \"cost/proceeds\"] = -(row[\"close\"] * share_size)\n",
    "\n",
    "        # add the number of shares purchased to the accumulated shares\n",
    "        accumulated_shares += share_size\n",
    "\n",
    "    # buy if the current day's price is less than the previous day's price\n",
    "    elif row[\"close\"] < previous_price:\n",
    "        fntk_df.loc[index, \"trade_type\"] = \"buy\"\n",
    "\n",
    "        # calculate the cost of the trade by multiplying the current day's price\n",
    "        # by the share_size, or number of shares purchased\n",
    "        fntk_df.loc[index, \"cost/proceeds\"] = -(row[\"close\"] * share_size)\n",
    "\n",
    "        # add the number of shares purchased to the accumulated shares\n",
    "        accumulated_shares += share_size\n",
    "\n",
    "    # hold if the current day's price is greater than the previous day's price\n",
    "    elif row[\"close\"] > previous_price:\n",
    "        fntk_df.loc[index, \"trade_type\"] = \"hold\"\n",
    "\n",
    "    # hold if the current day's price is equal to the previous day's price\n",
    "    else:\n",
    "        fntk_df.loc[index, \"trade_type\"] = \"hold\"\n",
    "\n",
    "    # update the previous_price to the current row's price\n",
    "    previous_price = row[\"close\"]\n",
    "\n",
    "    # if the index is the last index of the DataFrame, sell\n",
    "    if index == fntk_df.index[-1]:\n",
    "        fntk_df.loc[index, \"trade_type\"] = \"sell\"\n",
    "\n",
    "        # calculate the proceeds by multiplying the last day's price by the accumulated shares\n",
    "        fntk_df.loc[index, \"cost/proceeds\"] = row[\"close\"] * accumulated_shares\n",
    "\n",
    "# Review the DataFrame\n",
    "fntk_df"
   ]
  },
  {
   "cell_type": "markdown",
   "id": "95b084f0-ba82-45db-b356-82461b354bf0",
   "metadata": {},
   "source": [
    "## CALCULATING THE TOTAL PROFIT or LOSS FOR THE TRADING PERIOD"
   ]
  },
  {
   "cell_type": "code",
   "execution_count": 15,
   "id": "703b52a5-e963-4979-b684-a8d64edbc4de",
   "metadata": {},
   "outputs": [
    {
     "name": "stdout",
     "output_type": "stream",
     "text": [
      "The total profit/loss of the trading strategy is $510.0.\n"
     ]
    }
   ],
   "source": [
    "# Calculate the total profit/loss for 100 share size orders\n",
    "total_profit_loss = round(fntk_df[\"cost/proceeds\"].sum(), 2)\n",
    "\n",
    "# Print the profit/loss metrics\n",
    "print(f\"The total profit/loss of the trading strategy is ${total_profit_loss}.\")"
   ]
  },
  {
   "cell_type": "markdown",
   "id": "0a40511f-32ca-45e0-8fb1-f218164e0282",
   "metadata": {},
   "source": [
    "## TO CALCULATE ROI"
   ]
  },
  {
   "cell_type": "code",
   "execution_count": 16,
   "id": "4d4de483-eb9a-4646-aa4c-6e8606039138",
   "metadata": {},
   "outputs": [],
   "source": [
    "# Initialize the variable to hold the value of the invested capital\n",
    "invested_capital = 0"
   ]
  },
  {
   "cell_type": "code",
   "execution_count": 17,
   "id": "8390074e-5ccf-4048-a6f4-4d92811bff1e",
   "metadata": {},
   "outputs": [],
   "source": [
    "# Calculate the invested capital by adding the cost of all buy trades\n",
    "for index, row in fntk_df.iterrows():\n",
    "    if row[\"trade_type\"] == \"buy\":\n",
    "        invested_capital = invested_capital + row[\"cost/proceeds\"]"
   ]
  },
  {
   "cell_type": "code",
   "execution_count": 18,
   "id": "32d0d242-e107-4994-a6fb-425cd2e68bd5",
   "metadata": {},
   "outputs": [],
   "source": [
    "# Calculate the return on investment (ROI)\n",
    "roi = round((total_profit_loss / -(invested_capital)) * 100, 2)"
   ]
  },
  {
   "cell_type": "code",
   "execution_count": 19,
   "id": "3abc41be-2423-40fe-a436-2e4e67b91dac",
   "metadata": {},
   "outputs": [
    {
     "name": "stdout",
     "output_type": "stream",
     "text": [
      "The trading algorithm resulted in a return on investment of 3.37%\n"
     ]
    }
   ],
   "source": [
    "# Print the ROI\n",
    "print(f\"The trading algorithm resulted in a return on investment of {roi}%\")"
   ]
  },
  {
   "cell_type": "markdown",
   "id": "7713e980-6d5b-45f1-ad18-792d18555909",
   "metadata": {},
   "source": [
    "##  WRITING ALGORITHM_DMAC_TRADING"
   ]
  },
  {
   "cell_type": "markdown",
   "id": "47d60ad4-8cfe-4016-961e-e04a322bda86",
   "metadata": {},
   "source": [
    "## Import the Libraries and Create a DataFrame\n"
   ]
  },
  {
   "cell_type": "code",
   "execution_count": 40,
   "id": "2e2a96cc-bc10-4729-b05b-b87462377e3a",
   "metadata": {
    "tags": []
   },
   "outputs": [],
   "source": [
    "# Import the required libraries\n",
    "import numpy as np\n",
    "import pandas as pd\n",
    "import hvplot.pandas\n",
    "from pathlib import Path"
   ]
  },
  {
   "cell_type": "code",
   "execution_count": 41,
   "id": "5a9de7c8-729c-4769-9f0c-d73ddeca08cc",
   "metadata": {},
   "outputs": [
    {
     "ename": "FileNotFoundError",
     "evalue": "[Errno 2] No such file or directory: 'aapl.csv'",
     "output_type": "error",
     "traceback": [
      "\u001b[1;31m---------------------------------------------------------------------------\u001b[0m",
      "\u001b[1;31mFileNotFoundError\u001b[0m                         Traceback (most recent call last)",
      "\u001b[1;32m~\\AppData\\Local\\Temp\\ipykernel_33988\\1793584429.py\u001b[0m in \u001b[0;36m<module>\u001b[1;34m\u001b[0m\n\u001b[0;32m      1\u001b[0m \u001b[1;31m# Read the aapl.csv file into a Pandas DataFrame\u001b[0m\u001b[1;33m\u001b[0m\u001b[1;33m\u001b[0m\u001b[1;33m\u001b[0m\u001b[0m\n\u001b[0;32m      2\u001b[0m \u001b[1;31m# Set the date column as the DateTimeIndex\u001b[0m\u001b[1;33m\u001b[0m\u001b[1;33m\u001b[0m\u001b[1;33m\u001b[0m\u001b[0m\n\u001b[1;32m----> 3\u001b[1;33m \u001b[0maapl_df\u001b[0m \u001b[1;33m=\u001b[0m \u001b[0mpd\u001b[0m\u001b[1;33m.\u001b[0m\u001b[0mread_csv\u001b[0m\u001b[1;33m(\u001b[0m\u001b[1;33m(\u001b[0m\u001b[1;34m\"aapl.csv\"\u001b[0m\u001b[1;33m)\u001b[0m\u001b[1;33m,\u001b[0m \u001b[0mindex_col\u001b[0m\u001b[1;33m=\u001b[0m\u001b[1;34m\"date\"\u001b[0m\u001b[1;33m,\u001b[0m \u001b[0mparse_dates\u001b[0m\u001b[1;33m=\u001b[0m\u001b[1;32mTrue\u001b[0m\u001b[1;33m,\u001b[0m \u001b[0minfer_datetime_format\u001b[0m\u001b[1;33m=\u001b[0m\u001b[1;32mTrue\u001b[0m\u001b[1;33m)\u001b[0m\u001b[1;33m\u001b[0m\u001b[1;33m\u001b[0m\u001b[0m\n\u001b[0m\u001b[0;32m      4\u001b[0m \u001b[1;33m\u001b[0m\u001b[0m\n\u001b[0;32m      5\u001b[0m \u001b[1;31m# Review the DataFrame\u001b[0m\u001b[1;33m\u001b[0m\u001b[1;33m\u001b[0m\u001b[1;33m\u001b[0m\u001b[0m\n",
      "\u001b[1;32m~\\anaconda3\\envs\\dev\\envs\\dev\\lib\\site-packages\\pandas\\util\\_decorators.py\u001b[0m in \u001b[0;36mwrapper\u001b[1;34m(*args, **kwargs)\u001b[0m\n\u001b[0;32m    309\u001b[0m                     \u001b[0mstacklevel\u001b[0m\u001b[1;33m=\u001b[0m\u001b[0mstacklevel\u001b[0m\u001b[1;33m,\u001b[0m\u001b[1;33m\u001b[0m\u001b[1;33m\u001b[0m\u001b[0m\n\u001b[0;32m    310\u001b[0m                 )\n\u001b[1;32m--> 311\u001b[1;33m             \u001b[1;32mreturn\u001b[0m \u001b[0mfunc\u001b[0m\u001b[1;33m(\u001b[0m\u001b[1;33m*\u001b[0m\u001b[0margs\u001b[0m\u001b[1;33m,\u001b[0m \u001b[1;33m**\u001b[0m\u001b[0mkwargs\u001b[0m\u001b[1;33m)\u001b[0m\u001b[1;33m\u001b[0m\u001b[1;33m\u001b[0m\u001b[0m\n\u001b[0m\u001b[0;32m    312\u001b[0m \u001b[1;33m\u001b[0m\u001b[0m\n\u001b[0;32m    313\u001b[0m         \u001b[1;32mreturn\u001b[0m \u001b[0mwrapper\u001b[0m\u001b[1;33m\u001b[0m\u001b[1;33m\u001b[0m\u001b[0m\n",
      "\u001b[1;32m~\\anaconda3\\envs\\dev\\envs\\dev\\lib\\site-packages\\pandas\\io\\parsers\\readers.py\u001b[0m in \u001b[0;36mread_csv\u001b[1;34m(filepath_or_buffer, sep, delimiter, header, names, index_col, usecols, squeeze, prefix, mangle_dupe_cols, dtype, engine, converters, true_values, false_values, skipinitialspace, skiprows, skipfooter, nrows, na_values, keep_default_na, na_filter, verbose, skip_blank_lines, parse_dates, infer_datetime_format, keep_date_col, date_parser, dayfirst, cache_dates, iterator, chunksize, compression, thousands, decimal, lineterminator, quotechar, quoting, doublequote, escapechar, comment, encoding, encoding_errors, dialect, error_bad_lines, warn_bad_lines, on_bad_lines, delim_whitespace, low_memory, memory_map, float_precision, storage_options)\u001b[0m\n\u001b[0;32m    584\u001b[0m     \u001b[0mkwds\u001b[0m\u001b[1;33m.\u001b[0m\u001b[0mupdate\u001b[0m\u001b[1;33m(\u001b[0m\u001b[0mkwds_defaults\u001b[0m\u001b[1;33m)\u001b[0m\u001b[1;33m\u001b[0m\u001b[1;33m\u001b[0m\u001b[0m\n\u001b[0;32m    585\u001b[0m \u001b[1;33m\u001b[0m\u001b[0m\n\u001b[1;32m--> 586\u001b[1;33m     \u001b[1;32mreturn\u001b[0m \u001b[0m_read\u001b[0m\u001b[1;33m(\u001b[0m\u001b[0mfilepath_or_buffer\u001b[0m\u001b[1;33m,\u001b[0m \u001b[0mkwds\u001b[0m\u001b[1;33m)\u001b[0m\u001b[1;33m\u001b[0m\u001b[1;33m\u001b[0m\u001b[0m\n\u001b[0m\u001b[0;32m    587\u001b[0m \u001b[1;33m\u001b[0m\u001b[0m\n\u001b[0;32m    588\u001b[0m \u001b[1;33m\u001b[0m\u001b[0m\n",
      "\u001b[1;32m~\\anaconda3\\envs\\dev\\envs\\dev\\lib\\site-packages\\pandas\\io\\parsers\\readers.py\u001b[0m in \u001b[0;36m_read\u001b[1;34m(filepath_or_buffer, kwds)\u001b[0m\n\u001b[0;32m    480\u001b[0m \u001b[1;33m\u001b[0m\u001b[0m\n\u001b[0;32m    481\u001b[0m     \u001b[1;31m# Create the parser.\u001b[0m\u001b[1;33m\u001b[0m\u001b[1;33m\u001b[0m\u001b[1;33m\u001b[0m\u001b[0m\n\u001b[1;32m--> 482\u001b[1;33m     \u001b[0mparser\u001b[0m \u001b[1;33m=\u001b[0m \u001b[0mTextFileReader\u001b[0m\u001b[1;33m(\u001b[0m\u001b[0mfilepath_or_buffer\u001b[0m\u001b[1;33m,\u001b[0m \u001b[1;33m**\u001b[0m\u001b[0mkwds\u001b[0m\u001b[1;33m)\u001b[0m\u001b[1;33m\u001b[0m\u001b[1;33m\u001b[0m\u001b[0m\n\u001b[0m\u001b[0;32m    483\u001b[0m \u001b[1;33m\u001b[0m\u001b[0m\n\u001b[0;32m    484\u001b[0m     \u001b[1;32mif\u001b[0m \u001b[0mchunksize\u001b[0m \u001b[1;32mor\u001b[0m \u001b[0miterator\u001b[0m\u001b[1;33m:\u001b[0m\u001b[1;33m\u001b[0m\u001b[1;33m\u001b[0m\u001b[0m\n",
      "\u001b[1;32m~\\anaconda3\\envs\\dev\\envs\\dev\\lib\\site-packages\\pandas\\io\\parsers\\readers.py\u001b[0m in \u001b[0;36m__init__\u001b[1;34m(self, f, engine, **kwds)\u001b[0m\n\u001b[0;32m    809\u001b[0m             \u001b[0mself\u001b[0m\u001b[1;33m.\u001b[0m\u001b[0moptions\u001b[0m\u001b[1;33m[\u001b[0m\u001b[1;34m\"has_index_names\"\u001b[0m\u001b[1;33m]\u001b[0m \u001b[1;33m=\u001b[0m \u001b[0mkwds\u001b[0m\u001b[1;33m[\u001b[0m\u001b[1;34m\"has_index_names\"\u001b[0m\u001b[1;33m]\u001b[0m\u001b[1;33m\u001b[0m\u001b[1;33m\u001b[0m\u001b[0m\n\u001b[0;32m    810\u001b[0m \u001b[1;33m\u001b[0m\u001b[0m\n\u001b[1;32m--> 811\u001b[1;33m         \u001b[0mself\u001b[0m\u001b[1;33m.\u001b[0m\u001b[0m_engine\u001b[0m \u001b[1;33m=\u001b[0m \u001b[0mself\u001b[0m\u001b[1;33m.\u001b[0m\u001b[0m_make_engine\u001b[0m\u001b[1;33m(\u001b[0m\u001b[0mself\u001b[0m\u001b[1;33m.\u001b[0m\u001b[0mengine\u001b[0m\u001b[1;33m)\u001b[0m\u001b[1;33m\u001b[0m\u001b[1;33m\u001b[0m\u001b[0m\n\u001b[0m\u001b[0;32m    812\u001b[0m \u001b[1;33m\u001b[0m\u001b[0m\n\u001b[0;32m    813\u001b[0m     \u001b[1;32mdef\u001b[0m \u001b[0mclose\u001b[0m\u001b[1;33m(\u001b[0m\u001b[0mself\u001b[0m\u001b[1;33m)\u001b[0m\u001b[1;33m:\u001b[0m\u001b[1;33m\u001b[0m\u001b[1;33m\u001b[0m\u001b[0m\n",
      "\u001b[1;32m~\\anaconda3\\envs\\dev\\envs\\dev\\lib\\site-packages\\pandas\\io\\parsers\\readers.py\u001b[0m in \u001b[0;36m_make_engine\u001b[1;34m(self, engine)\u001b[0m\n\u001b[0;32m   1038\u001b[0m             )\n\u001b[0;32m   1039\u001b[0m         \u001b[1;31m# error: Too many arguments for \"ParserBase\"\u001b[0m\u001b[1;33m\u001b[0m\u001b[1;33m\u001b[0m\u001b[1;33m\u001b[0m\u001b[0m\n\u001b[1;32m-> 1040\u001b[1;33m         \u001b[1;32mreturn\u001b[0m \u001b[0mmapping\u001b[0m\u001b[1;33m[\u001b[0m\u001b[0mengine\u001b[0m\u001b[1;33m]\u001b[0m\u001b[1;33m(\u001b[0m\u001b[0mself\u001b[0m\u001b[1;33m.\u001b[0m\u001b[0mf\u001b[0m\u001b[1;33m,\u001b[0m \u001b[1;33m**\u001b[0m\u001b[0mself\u001b[0m\u001b[1;33m.\u001b[0m\u001b[0moptions\u001b[0m\u001b[1;33m)\u001b[0m  \u001b[1;31m# type: ignore[call-arg]\u001b[0m\u001b[1;33m\u001b[0m\u001b[1;33m\u001b[0m\u001b[0m\n\u001b[0m\u001b[0;32m   1041\u001b[0m \u001b[1;33m\u001b[0m\u001b[0m\n\u001b[0;32m   1042\u001b[0m     \u001b[1;32mdef\u001b[0m \u001b[0m_failover_to_python\u001b[0m\u001b[1;33m(\u001b[0m\u001b[0mself\u001b[0m\u001b[1;33m)\u001b[0m\u001b[1;33m:\u001b[0m\u001b[1;33m\u001b[0m\u001b[1;33m\u001b[0m\u001b[0m\n",
      "\u001b[1;32m~\\anaconda3\\envs\\dev\\envs\\dev\\lib\\site-packages\\pandas\\io\\parsers\\c_parser_wrapper.py\u001b[0m in \u001b[0;36m__init__\u001b[1;34m(self, src, **kwds)\u001b[0m\n\u001b[0;32m     49\u001b[0m \u001b[1;33m\u001b[0m\u001b[0m\n\u001b[0;32m     50\u001b[0m         \u001b[1;31m# open handles\u001b[0m\u001b[1;33m\u001b[0m\u001b[1;33m\u001b[0m\u001b[1;33m\u001b[0m\u001b[0m\n\u001b[1;32m---> 51\u001b[1;33m         \u001b[0mself\u001b[0m\u001b[1;33m.\u001b[0m\u001b[0m_open_handles\u001b[0m\u001b[1;33m(\u001b[0m\u001b[0msrc\u001b[0m\u001b[1;33m,\u001b[0m \u001b[0mkwds\u001b[0m\u001b[1;33m)\u001b[0m\u001b[1;33m\u001b[0m\u001b[1;33m\u001b[0m\u001b[0m\n\u001b[0m\u001b[0;32m     52\u001b[0m         \u001b[1;32massert\u001b[0m \u001b[0mself\u001b[0m\u001b[1;33m.\u001b[0m\u001b[0mhandles\u001b[0m \u001b[1;32mis\u001b[0m \u001b[1;32mnot\u001b[0m \u001b[1;32mNone\u001b[0m\u001b[1;33m\u001b[0m\u001b[1;33m\u001b[0m\u001b[0m\n\u001b[0;32m     53\u001b[0m \u001b[1;33m\u001b[0m\u001b[0m\n",
      "\u001b[1;32m~\\anaconda3\\envs\\dev\\envs\\dev\\lib\\site-packages\\pandas\\io\\parsers\\base_parser.py\u001b[0m in \u001b[0;36m_open_handles\u001b[1;34m(self, src, kwds)\u001b[0m\n\u001b[0;32m    227\u001b[0m             \u001b[0mmemory_map\u001b[0m\u001b[1;33m=\u001b[0m\u001b[0mkwds\u001b[0m\u001b[1;33m.\u001b[0m\u001b[0mget\u001b[0m\u001b[1;33m(\u001b[0m\u001b[1;34m\"memory_map\"\u001b[0m\u001b[1;33m,\u001b[0m \u001b[1;32mFalse\u001b[0m\u001b[1;33m)\u001b[0m\u001b[1;33m,\u001b[0m\u001b[1;33m\u001b[0m\u001b[1;33m\u001b[0m\u001b[0m\n\u001b[0;32m    228\u001b[0m             \u001b[0mstorage_options\u001b[0m\u001b[1;33m=\u001b[0m\u001b[0mkwds\u001b[0m\u001b[1;33m.\u001b[0m\u001b[0mget\u001b[0m\u001b[1;33m(\u001b[0m\u001b[1;34m\"storage_options\"\u001b[0m\u001b[1;33m,\u001b[0m \u001b[1;32mNone\u001b[0m\u001b[1;33m)\u001b[0m\u001b[1;33m,\u001b[0m\u001b[1;33m\u001b[0m\u001b[1;33m\u001b[0m\u001b[0m\n\u001b[1;32m--> 229\u001b[1;33m             \u001b[0merrors\u001b[0m\u001b[1;33m=\u001b[0m\u001b[0mkwds\u001b[0m\u001b[1;33m.\u001b[0m\u001b[0mget\u001b[0m\u001b[1;33m(\u001b[0m\u001b[1;34m\"encoding_errors\"\u001b[0m\u001b[1;33m,\u001b[0m \u001b[1;34m\"strict\"\u001b[0m\u001b[1;33m)\u001b[0m\u001b[1;33m,\u001b[0m\u001b[1;33m\u001b[0m\u001b[1;33m\u001b[0m\u001b[0m\n\u001b[0m\u001b[0;32m    230\u001b[0m         )\n\u001b[0;32m    231\u001b[0m \u001b[1;33m\u001b[0m\u001b[0m\n",
      "\u001b[1;32m~\\anaconda3\\envs\\dev\\envs\\dev\\lib\\site-packages\\pandas\\io\\common.py\u001b[0m in \u001b[0;36mget_handle\u001b[1;34m(path_or_buf, mode, encoding, compression, memory_map, is_text, errors, storage_options)\u001b[0m\n\u001b[0;32m    705\u001b[0m                 \u001b[0mencoding\u001b[0m\u001b[1;33m=\u001b[0m\u001b[0mioargs\u001b[0m\u001b[1;33m.\u001b[0m\u001b[0mencoding\u001b[0m\u001b[1;33m,\u001b[0m\u001b[1;33m\u001b[0m\u001b[1;33m\u001b[0m\u001b[0m\n\u001b[0;32m    706\u001b[0m                 \u001b[0merrors\u001b[0m\u001b[1;33m=\u001b[0m\u001b[0merrors\u001b[0m\u001b[1;33m,\u001b[0m\u001b[1;33m\u001b[0m\u001b[1;33m\u001b[0m\u001b[0m\n\u001b[1;32m--> 707\u001b[1;33m                 \u001b[0mnewline\u001b[0m\u001b[1;33m=\u001b[0m\u001b[1;34m\"\"\u001b[0m\u001b[1;33m,\u001b[0m\u001b[1;33m\u001b[0m\u001b[1;33m\u001b[0m\u001b[0m\n\u001b[0m\u001b[0;32m    708\u001b[0m             )\n\u001b[0;32m    709\u001b[0m         \u001b[1;32melse\u001b[0m\u001b[1;33m:\u001b[0m\u001b[1;33m\u001b[0m\u001b[1;33m\u001b[0m\u001b[0m\n",
      "\u001b[1;31mFileNotFoundError\u001b[0m: [Errno 2] No such file or directory: 'aapl.csv'"
     ]
    }
   ],
   "source": [
    "# Read the aapl.csv file into a Pandas DataFrame\n",
    "# Set the date column as the DateTimeIndex\n",
    "aapl_df = pd.read_csv((\"aapl.csv\"), index_col=\"date\", parse_dates=True, infer_datetime_format=True)\n",
    "\n",
    "# Review the DataFrame\n",
    "aapl_df.head()"
   ]
  },
  {
   "cell_type": "markdown",
   "id": "7b41bec7-5d2c-47c8-81f7-b935f2768752",
   "metadata": {},
   "source": [
    "# Filter the date index and close columns\n",
    "signals_df = aapl_df.loc[:,[\"close\"]]\n",
    "\n",
    "# Review the DataFrame\n",
    "signals_df.head()"
   ]
  },
  {
   "cell_type": "code",
   "execution_count": null,
   "id": "3290a538-dde2-47a2-9bed-14f1f9d05131",
   "metadata": {},
   "outputs": [],
   "source": [
    "# Use hvplot to visualize the data\n",
    "signals_df.hvplot()"
   ]
  },
  {
   "cell_type": "markdown",
   "id": "9828df7d-6cd1-4b79-9edc-48f41f62b79d",
   "metadata": {},
   "source": [
    "## Calculate the SMA for the Short and Long Windows"
   ]
  },
  {
   "cell_type": "code",
   "execution_count": null,
   "id": "fa580df3-4df5-47ba-8a35-67cb6dfaf7df",
   "metadata": {},
   "outputs": [],
   "source": [
    "# Set the variables for short window and long window periods\n",
    "short_window = 50\n",
    "long_window = 100"
   ]
  },
  {
   "cell_type": "code",
   "execution_count": null,
   "id": "e5bbfbcd-d507-40da-ac1f-2ea3fd361ad2",
   "metadata": {},
   "outputs": [],
   "source": [
    "# Generate the short and long window simple moving averages (50 and 100 days, respectively)\n",
    "signals_df[\"SMA50\"] = signals_df[\"close\"].rolling(window=short_window).mean()\n",
    "signals_df[\"SMA100\"] = signals_df[\"close\"].rolling(window=long_window).mean()\n",
    "\n",
    "# Review the DataFrame\n",
    "display(signals_df.head())\n",
    "display(signals_df.tail())"
   ]
  },
  {
   "cell_type": "code",
   "execution_count": null,
   "id": "41d0ffa0-f10c-456f-8d91-9eaf75ed490b",
   "metadata": {},
   "outputs": [],
   "source": [
    "# Create a column to hold the trading signal\n",
    "signals_df[\"Signal\"] = 0.0"
   ]
  },
  {
   "cell_type": "code",
   "execution_count": null,
   "id": "31249c89-a15b-4ce5-9c3b-aed05ff6ae5b",
   "metadata": {},
   "outputs": [],
   "source": [
    "# Generate the trading signal 0 or 1,\n",
    "# where 1 is the short-window (SMA50) greater than the long-window (SMA100)\n",
    "# and 0 is when the condition is not met\n",
    "signals_df[\"Signal\"][short_window:] = np.where(\n",
    "    signals_df[\"SMA50\"][short_window:] > signals_df[\"SMA100\"][short_window:], 1.0, 0.0\n",
    ")\n",
    "\n",
    "# Review the DataFrame\n",
    "signals_df.tail(10)"
   ]
  },
  {
   "cell_type": "markdown",
   "id": "2e2a2e0d-4db0-40c5-873f-cb5cabf11d37",
   "metadata": {},
   "source": [
    "## Find the Crossover Points"
   ]
  },
  {
   "cell_type": "markdown",
   "id": "44a1958a-ef64-4cb9-b55d-36a9d35e744e",
   "metadata": {},
   "source": [
    "## Pandas diff function deployed - use this function to identify the dates when the value in the “Signal” column changes from 0 to 1 or from 1 to 0"
   ]
  },
  {
   "cell_type": "code",
   "execution_count": null,
   "id": "633eed26-08e3-4521-8c55-75b642dc094f",
   "metadata": {},
   "outputs": [],
   "source": [
    "# Slice the DataFrame to confirm the Signal\n",
    "signals_df.loc[\"2015-02-09\":\"2015-02-17\"]"
   ]
  },
  {
   "cell_type": "code",
   "execution_count": null,
   "id": "19d1c3dc-d049-413d-ac3c-88660d9a293f",
   "metadata": {},
   "outputs": [],
   "source": [
    "# Calculate the points in time when the Signal value changes\n",
    "# Identify trade entry (1) and exit (-1) points\n",
    "signals_df[\"Entry/Exit\"] = signals_df[\"Signal\"].diff()\n",
    "\n",
    "# Review the DataFrame\n",
    "signals_df.loc[\"2015-02-09\":\"2015-02-17\"]"
   ]
  },
  {
   "cell_type": "code",
   "execution_count": null,
   "id": "889e8af0-5830-4f43-8ac9-5cb17076c533",
   "metadata": {},
   "outputs": [],
   "source": [
    "# Visualize exit position relative to close price\n",
    "exit = signals_df[signals_df['Entry/Exit'] == -1.0]['Close'].hvplot.scatter(\n",
    "    color=’yellow',\n",
    "    legend=False,\n",
    "    ylabel='Price in $',\n",
    "    width=1000,\n",
    "    height=400)\n",
    "\n",
    "# Show the plot\n",
    "exit\n",
    "\n",
    "# Visualize entry position relative to close price\n",
    "entry = signals_df[signals_df['Entry/Exit'] == 1.0]['Close'].hvplot.scatter(\n",
    "    color='purple',\n",
    "    legend=False,\n",
    "    ylabel='Price in $',\n",
    "    width=1000,\n",
    "    height=400)\n",
    "\n",
    "# Show the plot\n",
    "entry\n",
    "\n",
    "# Visualize close price for the investment\n",
    "security_close = signals_df[['Close']].hvplot(\n",
    "    line_color='lightgray',\n",
    "    ylabel='Price in $',\n",
    "    width=1000,\n",
    "    height=400)\n",
    "\n",
    "# Show the plot\n",
    "security_close\n",
    "\n",
    "# Visualize moving averages\n",
    "moving_avgs = signals_df[['SMA50', 'SMA100']].hvplot(\n",
    "    ylabel='Price in $',\n",
    "    width=1000,\n",
    "    height=400)\n",
    "\n",
    "# Show the plot\n",
    "moving_avgs"
   ]
  },
  {
   "cell_type": "markdown",
   "id": "60ecd036-d099-457e-af8f-f7e1989a0691",
   "metadata": {},
   "source": [
    "## overlay plot"
   ]
  },
  {
   "cell_type": "code",
   "execution_count": null,
   "id": "bfd93d97-5e1b-41b4-8b7b-2c4fd53c12dd",
   "metadata": {},
   "outputs": [],
   "source": [
    "# Create the overlay plot\n",
    "entry_exit_plot = security_close * moving_avgs * entry * exit\n",
    "\n",
    "# Show the plot\n",
    "entry_exit_plot.opts(\n",
    "    title=\"Apple - SMA50, SMA100, Entry and Exit Points\"\n",
    ")"
   ]
  },
  {
   "cell_type": "markdown",
   "id": "a3d39e6e-668f-4e56-b04b-434441d34fdf",
   "metadata": {},
   "source": [
    "## Backtest an Algorithm that Uses DMAC Trading"
   ]
  },
  {
   "cell_type": "code",
   "execution_count": null,
   "id": "743c1f6c-e2a0-4eb1-8d8b-37ddb253ca06",
   "metadata": {},
   "outputs": [],
   "source": [
    "# Import the required libraries and dependencies\n",
    "import numpy as np\n",
    "import pandas as pd\n",
    "import hvplot.pandas\n",
    "from pathlib import Path\n",
    "\n",
    "# Read the apple.csv file from the Resources folder into a Pandas DataFrame\n",
    "# Set the date column as the DataTimeIndex\n",
    "aapl_df = pd.read_csv(\n",
    "    Path(\"./Resources/aapl.csv\"),\n",
    "    index_col=\"date\",\n",
    "    parse_dates=True,\n",
    "    infer_datetime_format=True)\n",
    "\n",
    "# Review the DataFrame\n",
    "aapl_df.head()"
   ]
  },
  {
   "cell_type": "markdown",
   "id": "ad09e080-eb11-4fb6-a417-19f8657ca564",
   "metadata": {},
   "source": [
    "## regenerate the trading signals that specify when our algorithm should enter or exit a trade"
   ]
  },
  {
   "cell_type": "markdown",
   "id": "e23ae9df-05bd-4793-a947-24cb751ae239",
   "metadata": {},
   "source": [
    "### Create long-window (100-day) and short-window (50-day) SMAs.\n",
    "\n",
    "### Use the where function to specify the points in time when the algorithm should enter or exit a trade. We use a value of 1 to indicate an entry and a value of 0 to indicate an exit.\n",
    "\n",
    "### Use the diff function to specify the points in time when the algorithm should enter, exit, or hold the trade. "
   ]
  },
  {
   "cell_type": "code",
   "execution_count": null,
   "id": "f6bd425c-155c-40d0-9de9-83a7a3886529",
   "metadata": {},
   "outputs": [],
   "source": [
    "# Filter the date index and close columns\n",
    "signals_df = aapl_df.loc[:,[\"close\"]]\n",
    "\n",
    "# Set the short window and long windows\n",
    "short_window = 50\n",
    "long_window = 100\n",
    "\n",
    "# Generate the short and long moving averages (50 and 100 days, respectively)\n",
    "signals_df['SMA50'] = signals_df['close'].rolling(window=short_window).mean()\n",
    "signals_df['SMA100'] = signals_df['close'].rolling(window=long_window).mean()\n",
    "signals_df['Signal'] = 0.0\n",
    "\n",
    "# Generate the trading signal 0 or 1,\n",
    "# where 1 is the short-window (SMA50) greater than the long-window (SMA100)\n",
    "# and 0 is when the condition is not met\n",
    "signals_df['Signal'][short_window:] = np.where(\n",
    "    signals_df['SMA50'][short_window:] > signals_df['SMA100'][short_window:], 1.0, 0.0\n",
    ")\n",
    "\n",
    "# Calculate the points in time when the Signal value changes\n",
    "# Identify trade entry (1) and exit (-1) points\n",
    "signals_df['Entry/Exit'] = signals_df['Signal'].diff()\n",
    "\n",
    "# Review the DataFrame\n",
    "signals_df.tail(10)"
   ]
  },
  {
   "cell_type": "code",
   "execution_count": null,
   "id": "5929893d-0e5b-4675-8391-9d906c692245",
   "metadata": {},
   "outputs": [],
   "source": [
    "# Visualize exit position relative to close price\n",
    "exit = signals_df[signals_df['Entry/Exit'] == -1.0]['close'].hvplot.scatter(\n",
    "    color='yellow',\n",
    "    marker='v',\n",
    "    size=200,\n",
    "    legend=False,\n",
    "    ylabel='Price in $',\n",
    "    width=1000,\n",
    "    height=400\n",
    ")\n",
    "\n",
    "# Visualize entry position relative to close price\n",
    "entry = signals_df[signals_df['Entry/Exit'] == 1.0]['close'].hvplot.scatter(\n",
    "    color='purple',\n",
    "    marker='^',\n",
    "    size=200,\n",
    "    legend=False,\n",
    "    ylabel='Price in $',\n",
    "    width=1000,\n",
    "    height=400\n",
    ")\n",
    "\n",
    "# Visualize close price for the investment\n",
    "security_close = signals_df[['close']].hvplot(\n",
    "    line_color='lightgray',\n",
    "    ylabel='Price in $',\n",
    "    width=1000,\n",
    "    height=400\n",
    ")\n",
    "\n",
    "# Visualize moving averages\n",
    "moving_avgs = signals_df[['SMA50', 'SMA100']].hvplot(\n",
    "    ylabel='Price in $',\n",
    "    width=1000,\n",
    "    height=400\n",
    ")\n",
    "\n",
    "# Create the overlay plot\n",
    "entry_exit_plot = security_close * moving_avgs * entry * exit\n",
    "\n",
    "# Show the plot\n",
    "entry_exit_plot.opts(\n",
    "    title=\"Apple - SMA50, SMA100, Entry and Exit Points\"\n",
    ")"
   ]
  },
  {
   "cell_type": "markdown",
   "id": "785b65e5-0936-4694-9524-41b334cf9c42",
   "metadata": {},
   "source": [
    "## Backtest the Algorithm"
   ]
  },
  {
   "cell_type": "code",
   "execution_count": null,
   "id": "db9d71fa-635b-40b6-a878-0ce49777f6f5",
   "metadata": {},
   "outputs": [],
   "source": [
    "# Set initial capital\n",
    "initial_capital = float(100000)\n",
    "\n",
    "# Set the share size\n",
    "share_size = 500"
   ]
  },
  {
   "cell_type": "markdown",
   "id": "24c788bf-96c2-4f39-9430-14d3b9330c98",
   "metadata": {},
   "source": [
    "### “Position” column:   The algorithm holds these 500 shares until the “Signal” column reverts to a value of 0 (that is, when the “SMA50” value is less than the “SMA100” value), which triggers the sale. Calculate the value for this column by multiplying the share size (500) by the value in the “Signal” column"
   ]
  },
  {
   "cell_type": "code",
   "execution_count": null,
   "id": "5203097d-2238-4a67-9af0-013995d2a039",
   "metadata": {},
   "outputs": [],
   "source": [
    "# Buy a 500 share position when the dual moving average crossover Signal equals 1 (SMA50 is greater than SMA100)\n",
    "# Sell a 500 share position when the dual moving average crossover Signal equals 0 (SMA50 is less than SMA100)\n",
    "signals_df['Position'] = share_size * signals_df['Signal'] \n"
   ]
  },
  {
   "cell_type": "markdown",
   "id": "fd498d2a-e9d7-4bf5-a53e-0aae9ae77c81",
   "metadata": {},
   "source": [
    "### “Entry/Exit Position” column: Using the Pandas diff function, "
   ]
  },
  {
   "cell_type": "code",
   "execution_count": null,
   "id": "3f0fdae8-e183-41c1-9b42-f042a777b65c",
   "metadata": {},
   "outputs": [],
   "source": [
    "# Determine the points in time where a 500 share position is bought or sold\n",
    "signals_df['Entry/Exit Position'] = signals_df['Position'].diff()"
   ]
  },
  {
   "cell_type": "markdown",
   "id": "caf35a9e-f594-44de-9f7e-887087ea2967",
   "metadata": {},
   "source": [
    "### “Portfolio Holdings” column: "
   ]
  },
  {
   "cell_type": "code",
   "execution_count": null,
   "id": "ea03f160-531f-40aa-86ed-e1c80e37d755",
   "metadata": {},
   "outputs": [],
   "source": [
    "# Multiply the close price by the number of shares held, or the Position\n",
    "signals_df['Portfolio Holdings'] = signals_df['close'] * signals_df['Position']"
   ]
  },
  {
   "cell_type": "markdown",
   "id": "401b43d3-4942-454b-8c4e-5bc0753fb2ac",
   "metadata": {},
   "source": [
    "### Portfolio Cash” column:"
   ]
  },
  {
   "cell_type": "code",
   "execution_count": null,
   "id": "542e1713-e4e2-408c-9cc0-c6b8f0cb68e6",
   "metadata": {},
   "outputs": [],
   "source": [
    "# Subtract the amount of either the cost or proceeds of the trade from the initial capital invested\n",
    "signals_df['Portfolio Cash'] = initial_capital - (signals_df['close'] * signals_df['Entry/Exit Position']).cumsum()"
   ]
  },
  {
   "cell_type": "markdown",
   "id": "74d469de-bf37-44f5-bb68-b4e14bc8f280",
   "metadata": {},
   "source": [
    "### “Portfolio Total” column:"
   ]
  },
  {
   "cell_type": "code",
   "execution_count": null,
   "id": "eee1b8df-7545-429f-9697-dcde4b15c157",
   "metadata": {},
   "outputs": [],
   "source": [
    "# Calculate the total portfolio value by adding the portfolio cash to the portfolio holdings (or investments)\n",
    "signals_df['Portfolio Total'] = signals_df['Portfolio Cash'] + signals_df['Portfolio Holdings']"
   ]
  },
  {
   "cell_type": "markdown",
   "id": "455a98ef-8014-4d33-a1a6-a33ff7d9df79",
   "metadata": {},
   "source": [
    "### “Portfolio Daily Returns” column:"
   ]
  },
  {
   "cell_type": "code",
   "execution_count": null,
   "id": "f6f1aca0-49f0-446b-9b8a-dc0a966e9b9c",
   "metadata": {},
   "outputs": [],
   "source": [
    "# Calculate the portfolio daily returns\n",
    "signals_df['Portfolio Daily Returns'] = signals_df['Portfolio Total'].pct_change()"
   ]
  },
  {
   "cell_type": "markdown",
   "id": "279a877c-26f2-4adb-8131-b5605ba585da",
   "metadata": {},
   "source": [
    "### “Portfolio Cumulative Returns” column:"
   ]
  },
  {
   "cell_type": "code",
   "execution_count": null,
   "id": "7c02eb88-b991-45f0-9860-c2cbbbf08da9",
   "metadata": {},
   "outputs": [],
   "source": [
    "# Calculate the portfolio cumulative returns\n",
    "signals_df['Portfolio Cumulative Returns'] = (1 + signals_df['Portfolio Daily Returns']).cumprod() - 1"
   ]
  },
  {
   "cell_type": "markdown",
   "id": "bb7e4354-817a-4eef-900a-da8c1bae5214",
   "metadata": {},
   "source": [
    "### “Portfolio Cumulative Returns” column: "
   ]
  },
  {
   "cell_type": "code",
   "execution_count": null,
   "id": "9a8007e1-0b75-4bf8-8296-7b5b1ee7bd47",
   "metadata": {},
   "outputs": [],
   "source": [
    "# Calculate the portfolio cumulative returns\n",
    "signals_df['Portfolio Cumulative Returns'] = (1 + signals_df['Portfolio Daily Returns']).cumprod() - 1"
   ]
  },
  {
   "cell_type": "code",
   "execution_count": null,
   "id": "3fa440c7-5ed4-4691-a025-f63c49853799",
   "metadata": {},
   "outputs": [],
   "source": [
    "# Print the DataFrame\n",
    "signals_df.head(150)"
   ]
  },
  {
   "cell_type": "code",
   "execution_count": null,
   "id": "272784c6-b776-4c8d-8ede-19b230aafed9",
   "metadata": {},
   "outputs": [],
   "source": [
    "# Set initial capital\n",
    "initial_capital = float(100000)\n",
    "\n",
    "# Set the share size\n",
    "share_size = 500\n",
    "\n",
    "# Buy a 500 share position when the dual moving average crossover Signal equals 1 (SMA50 is greater than SMA100)\n",
    "# Sell a 500 share position when the dual moving average crossover Signal equals 0 (SMA50 is less than SMA100)\n",
    "signals_df['Position'] = share_size * signals_df['Signal']\n",
    "\n",
    "# Determine the points in time where a 500 share position is bought or sold\n",
    "signals_df['Entry/Exit Position'] = signals_df['Position'].diff()\n",
    "\n",
    "# Multiply the close price by the number of shares held, or the Position\n",
    "signals_df['Portfolio Holdings'] = signals_df['close'] * signals_df['Position']\n",
    "\n",
    "# Subtract the amount of either the cost or proceeds of the trade from the initial capital invested\n",
    "signals_df['Portfolio Cash'] = initial_capital - (signals_df['close'] * signals_df['Entry/Exit Position']).cumsum()\n",
    "\n",
    "# Calculate the total portfolio value by adding the portfolio cash to the portfolio holdings (or investments)\n",
    "signals_df['Portfolio Total'] = signals_df['Portfolio Cash'] + signals_df['Portfolio Holdings']\n",
    "\n",
    "# Calculate the portfolio daily returns\n",
    "signals_df['Portfolio Daily Returns'] = signals_df['Portfolio Total'].pct_change()\n",
    "\n",
    "# Calculate the portfolio cumulative returns\n",
    "signals_df['Portfolio Cumulative Returns'] = (1 + signals_df['Portfolio Daily Returns']).cumprod() - 1\n",
    "\n",
    "# Print the DataFrame\n",
    "signals_df.head(150)"
   ]
  },
  {
   "cell_type": "code",
   "execution_count": null,
   "id": "a125f81a-1f06-4ad6-bdc3-38983e2b902f",
   "metadata": {},
   "outputs": [],
   "source": [
    "# Visualize exit position relative to total portfolio value\n",
    "exit = signals_df[signals_df['Entry/Exit'] == -1.0]['Portfolio Total'].hvplot.scatter(\n",
    "    color='yellow',\n",
    "    marker='v',\n",
    "    legend=False,\n",
    "    ylabel='Total Portfolio Value',\n",
    "    width=1000,\n",
    "    height=400\n",
    ")\n",
    "\n",
    "# Visualize entry position relative to total portfolio value\n",
    "entry = signals_df[signals_df['Entry/Exit'] == 1.0]['Portfolio Total'].hvplot.scatter(\n",
    "    color='purple',\n",
    "    marker='^',\n",
    "    ylabel='Total Portfolio Value',\n",
    "    width=1000,\n",
    "    height=400\n",
    ")\n",
    "\n",
    "# Visualize the value of the total portfolio\n",
    "total_portfolio_value = signals_df[['Portfolio Total']].hvplot(\n",
    "    line_color='lightgray',\n",
    "    ylabel='Total Portfolio Value',\n",
    "    xlabel='Date',\n",
    "    width=1000,\n",
    "    height=400\n",
    ")\n",
    "\n",
    "# Overlay the plots\n",
    "portfolio_entry_exit_plot = total_portfolio_value * entry * exit\n",
    "portfolio_entry_exit_plot.opts(\n",
    "    title=\"Apple Algorithm - Total Portfolio Value\",\n",
    "    yformatter='%.0f'\n",
    ")"
   ]
  },
  {
   "cell_type": "markdown",
   "id": "4818e6ec-2562-47f3-8bad-545380e6eaa3",
   "metadata": {},
   "source": [
    "## Generating the Risk/Reward Evaluation Metrics"
   ]
  },
  {
   "cell_type": "code",
   "execution_count": null,
   "id": "86ef4a47-1817-4c7b-bdd7-34d96c370753",
   "metadata": {},
   "outputs": [],
   "source": [
    "# Import the required libraries and dependencies\n",
    "import numpy as np\n",
    "import pandas as pd\n",
    "from pathlib import Path"
   ]
  },
  {
   "cell_type": "code",
   "execution_count": null,
   "id": "ad9c6793-bdf0-4127-9daa-087668a1de89",
   "metadata": {},
   "outputs": [],
   "source": [
    "# Read the trading_signals.csv file into a Pandas DataFrame\n",
    "# Set the date column as the DateTimeIndex\n",
    "signals_df = pd.read_csv(\n",
    "    Path('./Resources/trading_signals.csv'),\n",
    "    index_col=\"date\",\n",
    "    parse_dates=True,\n",
    "    infer_datetime_format=True)\n",
    "\n",
    "# Review the DataFrame\n",
    "signals_df.tail(10)"
   ]
  },
  {
   "cell_type": "markdown",
   "id": "51a1bcb6-6472-40c5-9c9f-ad3786229d44",
   "metadata": {},
   "source": [
    "## create the columns"
   ]
  },
  {
   "cell_type": "code",
   "execution_count": null,
   "id": "3cfbd9af-ade4-49ea-9f31-16aec57e9201",
   "metadata": {},
   "outputs": [],
   "source": [
    "# Create a list for the column name\n",
    "columns = ['Backtest']"
   ]
  },
  {
   "cell_type": "code",
   "execution_count": null,
   "id": "3a1aa292-1e01-4162-a910-e6091ca33072",
   "metadata": {},
   "outputs": [],
   "source": [
    "# Create a list holding the names of the new evaluation metrics\n",
    "metrics = [\n",
    "    'Annualized Return',\n",
    "    'Cumulative Returns',\n",
    "    'Annual Volatility',\n",
    "    'Sharpe Ratio',\n",
    "    'Sortino Ratio']"
   ]
  },
  {
   "cell_type": "code",
   "execution_count": null,
   "id": "9279944d-da2e-415b-9247-82cd73ef7398",
   "metadata": {},
   "outputs": [],
   "source": [
    "# Initialize the DataFrame with index set to the evaluation metrics and the column\n",
    "portfolio_evaluation_df = pd.DataFrame(index=metrics, columns=columns)"
   ]
  },
  {
   "cell_type": "code",
   "execution_count": null,
   "id": "c516e68c-1afc-4cbd-8928-453a62265c01",
   "metadata": {},
   "outputs": [],
   "source": [
    "# Review the DataFrame\n",
    "portfolio_evaluation_df"
   ]
  },
  {
   "cell_type": "markdown",
   "id": "63a9caae-76d8-40de-a25d-6045665407ed",
   "metadata": {},
   "source": [
    "## Calculate the Metrics"
   ]
  },
  {
   "cell_type": "code",
   "execution_count": null,
   "id": "bcd2fb45-fcfe-435c-99f0-42064d73ed10",
   "metadata": {},
   "outputs": [],
   "source": [
    "# Calculate annualized return\n",
    "portfolio_evaluation_df.loc['Annualized Return'] = (\n",
    "    signals_df['Portfolio Daily Returns'].mean() * 252\n",
    ")\n",
    "portfolio_evaluation_df"
   ]
  },
  {
   "cell_type": "code",
   "execution_count": null,
   "id": "cb0acc2c-b752-4759-9149-e2e6ae9c5cb3",
   "metadata": {},
   "outputs": [],
   "source": [
    "# Calculate cumulative return\n",
    "portfolio_evaluation_df.loc['Cumulative Returns'] = signals_df['Portfolio Cumulative Returns'][-1]\n",
    "portfolio_evaluation_df"
   ]
  },
  {
   "cell_type": "code",
   "execution_count": null,
   "id": "65193b68-1f34-4295-8d44-754a65fe7723",
   "metadata": {},
   "outputs": [],
   "source": [
    "# Calculate annual volatility\n",
    "portfolio_evaluation_df.loc['Annual Volatility'] = (\n",
    "    signals_df['Portfolio Daily Returns'].std() * np.sqrt(252)\n",
    ")\n",
    "portfolio_evaluation_df"
   ]
  },
  {
   "cell_type": "code",
   "execution_count": null,
   "id": "5a92a102-58cb-46de-886a-4e3d07b8b3d2",
   "metadata": {},
   "outputs": [],
   "source": [
    "# Calculate Sharpe ratio\n",
    "portfolio_evaluation_df.loc['Sharpe Ratio'] = (\n",
    "    signals_df['Portfolio Daily Returns'].mean() * 252) / (\n",
    "    signals_df['Portfolio Daily Returns'].std() * np.sqrt(252)\n",
    ")\n",
    "portfolio_evaluation_df"
   ]
  },
  {
   "cell_type": "code",
   "execution_count": null,
   "id": "0d667243-f920-498f-8c70-7321727eba9b",
   "metadata": {},
   "outputs": [],
   "source": [
    "# Calculate downside return values\n",
    "\n",
    "# Create a DataFrame that contains the Portfolio Daily Returns column\n",
    "sortino_ratio_df = signals_df[['Portfolio Daily Returns']].copy()\n",
    "\n",
    "# Create a column to hold downside return values\n",
    "sortino_ratio_df.loc[:,'Downside Returns'] = 0\n",
    "\n",
    "# Find Portfolio Daily Returns values less than 0,\n",
    "# square those values, and add them to the Downside Returns column\n",
    "sortino_ratio_df.loc[sortino_ratio_df['Portfolio Daily Returns'] < 0,\n",
    "                     'Downside Returns'] = sortino_ratio_df['Portfolio Daily Returns']**2\n",
    "\n",
    "# Review the DataFrame\n",
    "sortino_ratio_df.tail()"
   ]
  },
  {
   "cell_type": "code",
   "execution_count": null,
   "id": "76fb85dd-6849-4ec7-8a3f-dac8e61c33d4",
   "metadata": {},
   "outputs": [],
   "source": [
    "# Calculate the Sortino ratio\n",
    "\n",
    "# Calculate the annualized return value\n",
    "annualized_return = (\n",
    "    sortino_ratio_df['Portfolio Daily Returns'].mean() * 252\n",
    ")\n",
    "\n",
    "# Calculate the annualized downside standard deviation value\n",
    "downside_standard_deviation = (\n",
    "    np.sqrt(sortino_ratio_df['Downside Returns'].mean()) * np.sqrt(252)\n",
    ")\n",
    "\n",
    "# The Sortino ratio is reached by dividing the annualized return value\n",
    "# by the downside standard deviation value\n",
    "sortino_ratio = annualized_return/downside_standard_deviation\n",
    "\n",
    "# Add the Sortino ratio to the evaluation DataFrame\n",
    "portfolio_evaluation_df.loc['Sortino Ratio'] = sortino_ratio\n",
    "portfolio_evaluation_df"
   ]
  },
  {
   "cell_type": "markdown",
   "id": "ccf9e082-0c3c-480c-8438-5991a4957e87",
   "metadata": {},
   "source": [
    "## Introduction of ML to Algorithmic Trading\n",
    "### Collect and Prepare the Data\n",
    "### NOTE: We can get financial data from an enterprise resource planning (ERP) system in the form of a CSV file or a database connection. Also retrieve data from APIs, like the Alpaca API, as you learned in earlier modules. "
   ]
  },
  {
   "cell_type": "code",
   "execution_count": null,
   "id": "f6da7e6a-6343-4739-ac19-6abf582bffc5",
   "metadata": {},
   "outputs": [],
   "source": [
    "# Import the OHLCV dataset into a Pandas Dataframe\n",
    "trading_df = pd.read_csv(\n",
    "    Path(\"../Resources/ohlcv.csv\"),\n",
    "    index_col=\"date\",\n",
    "    infer_datetime_format=True,\n",
    "    parse_dates=True\n",
    ")\n",
    "\n",
    "# Display sample data\n",
    "trading_df.head()"
   ]
  },
  {
   "cell_type": "markdown",
   "id": "a59c2bc1-0f03-49b1-b872-5cd210494bd7",
   "metadata": {},
   "source": [
    "## Use the Pandas pct_change function to calculate the daily returns from the closing prices.  Introducting a new column in the DF"
   ]
  },
  {
   "cell_type": "code",
   "execution_count": null,
   "id": "ccb53034-b15d-4ad4-9640-d979ee8b9603",
   "metadata": {},
   "outputs": [],
   "source": [
    "# Calculate the daily returns using the closing prices and the pct_change function\n",
    "trading_df[\"actual_returns\"] = trading_df[\"close\"].pct_change()\n",
    "\n",
    "# Display sample data\n",
    "trading_df.head()"
   ]
  },
  {
   "cell_type": "code",
   "execution_count": null,
   "id": "b6575e60-6e0d-4c9e-95c8-3dc3381c8fb7",
   "metadata": {},
   "outputs": [],
   "source": [
    "# Drop all NaN values from the DataFrame\n",
    "trading_df = trading_df.dropna()\n",
    "\n",
    "# Review the DataFrame\n",
    "display(trading_df.head())\n",
    "display(trading_df.tail())"
   ]
  },
  {
   "cell_type": "markdown",
   "id": "aa8bf4c4-43cb-49d8-934b-c4c85374179c",
   "metadata": {},
   "source": [
    "## create the features and target sets to fit our machine learning model."
   ]
  },
  {
   "cell_type": "code",
   "execution_count": null,
   "id": "ec06dc00-52d7-49f3-9562-da553b3961af",
   "metadata": {},
   "outputs": [],
   "source": [
    "# Define a window size of 4\n",
    "short_window = 4\n",
    "\n",
    "# Create an SMA that uses short_window, and assign it to a new column named “sma_fast”\n",
    "trading_df['sma_fast'] = trading_df['close'].rolling(window=short_window).mean()"
   ]
  },
  {
   "cell_type": "code",
   "execution_count": null,
   "id": "5e979c5e-4fd7-4cf7-83e7-6d7a80ee4770",
   "metadata": {},
   "outputs": [],
   "source": [
    "# Define a window size of 100\n",
    "long_window = 100\n",
    "\n",
    "# Create an SMA that uses long_window, and assign it to a new column named “sma_slow”\n",
    "trading_df['sma_slow'] = trading_df['close'].rolling(window=long_window).mean()"
   ]
  },
  {
   "cell_type": "code",
   "execution_count": null,
   "id": "c9cc927c-fe2a-4585-aa02-5210a5d6117f",
   "metadata": {},
   "outputs": [],
   "source": [
    "# Drop the NaNs using dropna()\n",
    "trading_df = trading_df.dropna()"
   ]
  },
  {
   "cell_type": "markdown",
   "id": "cd818132-f564-4458-a0e2-735d0cf6572f",
   "metadata": {},
   "source": [
    "## Use the shift function to shift the feature columns by 1 because doing so ensures that the model will use the current values to predict the outcome for the next period."
   ]
  },
  {
   "cell_type": "code",
   "execution_count": null,
   "id": "12892cff-6271-441d-b3b1-6ee41166a711",
   "metadata": {},
   "outputs": [],
   "source": [
    "# Assign a copy of the `sma_fast` and `sma_slow` columns to a new DataFrame called `X`\n",
    "X = trading_df[['sma_fast', 'sma_slow']].shift().dropna().copy()\n",
    "\n",
    "# Display sample data\n",
    "display(X.head())\n",
    "display(X.tail())"
   ]
  },
  {
   "cell_type": "markdown",
   "id": "d046ff99-b726-4811-94fc-db624050c2f5",
   "metadata": {},
   "source": [
    "## Create the Target Set\n",
    "##  we’ll use a supervised learning algorithm, we need to create a target set of the values"
   ]
  },
  {
   "cell_type": "code",
   "execution_count": null,
   "id": "13d36c2d-6d0f-43a3-bdbc-b823caae2057",
   "metadata": {},
   "outputs": [],
   "source": [
    "# Create a new column in the `trading_df` called \"signal\" setting its value to zero.\n",
    "trading_df['signal'] = 0.0"
   ]
  },
  {
   "cell_type": "code",
   "execution_count": null,
   "id": "2cea23e2-c442-48a1-8d01-79b2825c9887",
   "metadata": {},
   "outputs": [],
   "source": [
    "# Create the signal to buy\n",
    "trading_df.loc[(trading_df['actual_returns'] >= 0), 'signal'] = 1\n",
    "\n",
    "# Create the signal to sell\n",
    "trading_df.loc[(trading_df['actual_returns'] < 0), 'signal'] = -1"
   ]
  },
  {
   "cell_type": "markdown",
   "id": "b977b3b2-c8db-4417-94fc-4015dc7562cd",
   "metadata": {},
   "source": [
    "## create the target set by copying the new “signal” column to a new Pandas Series named y.  The y target set will thus include the target signals"
   ]
  },
  {
   "cell_type": "code",
   "execution_count": null,
   "id": "4446e6a3-59f5-4e92-a84c-11fbbbc0405a",
   "metadata": {},
   "outputs": [],
   "source": [
    "# Copy the new \"signal\" column to a new Series called `y`.\n",
    "y = trading_df['signal'].copy()"
   ]
  },
  {
   "cell_type": "markdown",
   "id": "04978af9-9255-4b98-898c-001b0eb89098",
   "metadata": {},
   "source": [
    "##  Split the data into training and testing datasets.  Instead of using sci-kit, we will use date windows."
   ]
  },
  {
   "cell_type": "code",
   "execution_count": null,
   "id": "7e14a1a3-257d-46d2-a4c5-ee0b81e2773b",
   "metadata": {},
   "outputs": [],
   "source": [
    "from pandas.tseries.offsets import DateOffset"
   ]
  },
  {
   "cell_type": "code",
   "execution_count": null,
   "id": "63df953d-cde8-4350-85af-bf8b6943bba5",
   "metadata": {},
   "outputs": [],
   "source": [
    "# Select the start of the training period\n",
    "training_begin = X.index.min()\n",
    "\n",
    "# Display the training begin date\n",
    "print(training_begin)\n",
    "\n",
    "# Select the ending period for the training data with an offset of 3 months\n",
    "training_end = X.index.min() + DateOffset(months=3)\n",
    "\n",
    "# Display the training end date\n",
    "print(training_end)"
   ]
  },
  {
   "cell_type": "code",
   "execution_count": null,
   "id": "64a8deb1-325c-4db5-a63c-120cd47f434c",
   "metadata": {},
   "outputs": [],
   "source": [
    "# Generate the X_train and y_train DataFrames\n",
    "X_train = X.loc[training_begin:training_end]\n",
    "y_train = y.loc[training_begin:training_end]\n",
    "\n",
    "# Display sample data\n",
    "X_train.head()"
   ]
  },
  {
   "cell_type": "markdown",
   "id": "b1c55ab0-3de9-4295-bf1e-b589685c38ea",
   "metadata": {},
   "source": [
    "## Create the Testing Datasets"
   ]
  },
  {
   "cell_type": "code",
   "execution_count": null,
   "id": "9a6b1989-7230-434c-80d3-7323f74d46bb",
   "metadata": {},
   "outputs": [],
   "source": [
    "# Generate the X_test and y_test DataFrames\n",
    "X_test = X.loc[training_end:]\n",
    "y_test = y.loc[training_end:]\n",
    "\n",
    "# Display sample data\n",
    "X_test.head()"
   ]
  },
  {
   "cell_type": "markdown",
   "id": "e3eb7e33-d222-4895-bd2f-dc26b8bf3d26",
   "metadata": {},
   "source": [
    "## Standardize the Data"
   ]
  },
  {
   "cell_type": "code",
   "execution_count": null,
   "id": "108c3145-6aa2-424a-8dae-1d90f41ae46c",
   "metadata": {},
   "outputs": [],
   "source": [
    "# Import the required module\n",
    "from sklearn.preprocessing import StandardScaler\n",
    "\n",
    "# Create a StandardScaler instance\n",
    "scaler = StandardScaler()\n",
    "\n",
    "# Apply the scaler model to fit the X_train data\n",
    "X_scaler = scaler.fit(X_train)\n",
    "\n",
    "# Transform the X_train and X_test DataFrames using the X_scaler\n",
    "X_train_scaled = X_scaler.transform(X_train)\n",
    "X_test_scaled = X_scaler.transform(X_test)"
   ]
  },
  {
   "cell_type": "markdown",
   "id": "b2b392d4-875f-4d1b-8d91-a786ebb807df",
   "metadata": {},
   "source": [
    "## Institute ML into our Trading Strategy..\n",
    "### Use the support vector machine (SVM) learning method from SKLearn, and its SVC classifier model. The reason is its ability to discriminate between two classes."
   ]
  },
  {
   "cell_type": "code",
   "execution_count": null,
   "id": "2cfa04e7-d0e9-4186-99b0-caf3a81ba41b",
   "metadata": {},
   "outputs": [],
   "source": [
    "# Import the SVM model\n",
    "from sklearn import svm"
   ]
  },
  {
   "cell_type": "markdown",
   "id": "8bc0d17b-79d4-41ed-a01b-56f81560ba0e",
   "metadata": {},
   "source": [
    "### The model learns from the training dataset and makes predictions based on the testing dataset."
   ]
  },
  {
   "cell_type": "code",
   "execution_count": null,
   "id": "13f7054f-cd7f-49c1-94f9-87a82bb96269",
   "metadata": {},
   "outputs": [],
   "source": [
    "# Create the classifier model\n",
    "svm_model = svm.SVC()\n",
    "\n",
    "# Fit the model to the data using X_train_scaled and y_train\n",
    "svm_model = svm_model.fit(X_train_scaled, y_train)\n",
    "\n",
    "# Use the trained model to predict the trading signals for the training data\n",
    "training_signal_predictions = svm_model.predict(X_train_scaled)\n",
    "\n",
    "# Display the sample predictions\n",
    "training_signal_predictions[:10]"
   ]
  },
  {
   "cell_type": "code",
   "execution_count": null,
   "id": "e6546a45-cbb9-4acd-845b-38a1bb2275cc",
   "metadata": {},
   "outputs": [],
   "source": [
    "# Import the required module\n",
    "from sklearn.metrics import classification_report\n",
    "\n",
    "# Evaluate the model using a classification report\n",
    "training_report = classification_report(y_train, training_signal_predictions)\n",
    "print(training_report)"
   ]
  },
  {
   "cell_type": "markdown",
   "id": "80b74b37-c8ff-4646-bcd0-26ad1fe87838",
   "metadata": {},
   "source": [
    "## Backtest the ML Trading Algorithm\n",
    "### To backtest our model, we use the trained model to predict the trading signals for the testing data, "
   ]
  },
  {
   "cell_type": "code",
   "execution_count": null,
   "id": "6d7a8f5d-f836-4cd3-83f8-6b8450b6b1a4",
   "metadata": {},
   "outputs": [],
   "source": [
    "# Use the trained model to predict the trading signals for the testing data.\n",
    "testing_signal_predictions = svm_model.predict(X_test_scaled)"
   ]
  },
  {
   "cell_type": "code",
   "execution_count": null,
   "id": "53ed92f5-4ec9-448b-9146-28ad1fb765b6",
   "metadata": {},
   "outputs": [],
   "source": [
    "# Evaluate the model's ability to predict the trading signal for the testing data\n",
    "testing_report = classification_report(y_test, testing_signal_predictions)\n",
    "print(testing_report)"
   ]
  },
  {
   "cell_type": "code",
   "execution_count": null,
   "id": "725d9624-d3af-4ddd-9409-c91a0727b7dd",
   "metadata": {},
   "outputs": [],
   "source": [
    "## Compare the Actual and Predicted Returns by Plotting actual v. predicted returns"
   ]
  },
  {
   "cell_type": "code",
   "execution_count": null,
   "id": "026f5394-c9fe-4c5d-a56a-e97fd2223bfc",
   "metadata": {},
   "outputs": [],
   "source": [
    "# Create a predictions DataFrame\n",
    "predictions_df = pd.DataFrame(index=X_test.index)\n",
    "\n",
    "predictions_df[\"predicted_signal\"] = testing_signal_predictions\n",
    "\n",
    "predictions_df[\"actual_returns\"] = trading_df[\"actual_returns\"]\n",
    "\n",
    "predictions_df[\"trading_algorithm_returns\"] = (\n",
    "    predictions_df[\"actual_returns\"] * predictions_df[\"predicted_signal\"]\n",
    ")\n",
    "\n",
    "# Review the DataFrame\n",
    "predictions_df.head()"
   ]
  },
  {
   "cell_type": "code",
   "execution_count": null,
   "id": "cd92a61c-64d0-451b-9279-6d49849178de",
   "metadata": {},
   "outputs": [],
   "source": [
    "# Calculate and plot the cumulative returns for the `actual_returns` and the `trading_algorithm_returns`\n",
    "(1 + predictions_df[[\"actual_returns\", \"trading_algorithm_returns\"]]).cumprod().plot()"
   ]
  },
  {
   "cell_type": "markdown",
   "id": "669a4b8f-f473-421c-9278-9909ff6f3f0e",
   "metadata": {},
   "source": [
    "###  To truly find out how well this model works, however, we need to fit it to different sets of pricing data, have it make predictions, backtest it, and then evaluate it against the actual performance of the asset with that trading strategy."
   ]
  },
  {
   "cell_type": "code",
   "execution_count": null,
   "id": "bb46dfe9-7149-4bd4-9a7d-26e23b144dad",
   "metadata": {},
   "outputs": [],
   "source": []
  },
  {
   "cell_type": "code",
   "execution_count": null,
   "id": "b4772311-628b-430a-b12b-5982b684a466",
   "metadata": {},
   "outputs": [],
   "source": []
  },
  {
   "cell_type": "code",
   "execution_count": null,
   "id": "44b8169a-adcf-4fcd-9512-9c138bac2a6b",
   "metadata": {},
   "outputs": [],
   "source": []
  }
 ],
 "metadata": {
  "kernelspec": {
   "display_name": "Python 3 (ipykernel)",
   "language": "python",
   "name": "python3"
  },
  "language_info": {
   "codemirror_mode": {
    "name": "ipython",
    "version": 3
   },
   "file_extension": ".py",
   "mimetype": "text/x-python",
   "name": "python",
   "nbconvert_exporter": "python",
   "pygments_lexer": "ipython3",
   "version": "3.7.13"
  }
 },
 "nbformat": 4,
 "nbformat_minor": 5
}
