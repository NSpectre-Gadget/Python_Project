{
 "cells": [
  {
   "cell_type": "code",
   "execution_count": 1,
   "id": "2818b83b-5ec0-43fa-a6ac-c22a0b718cef",
   "metadata": {},
   "outputs": [],
   "source": [
    "# Imports\n",
    "import os\n",
    "from dotenv import load_dotenv\n",
    "load_dotenv()\n",
    "from bip44 import Wallet\n",
    "from web3 import Account\n",
    "from web3 import Web3\n",
    "w3 = Web3(Web3.HTTPProvider('HTTP://127.0.0.1:7545'))"
   ]
  },
  {
   "cell_type": "code",
   "execution_count": 2,
   "id": "df8709ad-97d3-4355-b56a-d38f9ec35b7f",
   "metadata": {},
   "outputs": [],
   "source": [
    "mnemonic = os.getenv(\"MNEMONIC\")"
   ]
  },
  {
   "cell_type": "code",
   "execution_count": 3,
   "id": "ac781c7b-359c-4091-8f2a-d4df8c5daa6d",
   "metadata": {},
   "outputs": [
    {
     "data": {
      "text/plain": [
       "<bip44.wallet.Wallet at 0x19f6cb16248>"
      ]
     },
     "execution_count": 3,
     "metadata": {},
     "output_type": "execute_result"
    }
   ],
   "source": [
    "wallet = Wallet(mnemonic)\n",
    "wallet"
   ]
  },
  {
   "cell_type": "code",
   "execution_count": 4,
   "id": "36e52698-2c30-47f5-b0f5-17033eef040c",
   "metadata": {},
   "outputs": [
    {
     "data": {
      "text/plain": [
       "b'\\x03w\\xa4P\\x93\\x14\\x9e\\x9c\\xd2\\x99g\\xcd\\xf6w\\x9d\\xc6}VV\\x87\\x10\\x0c\\xc7\\xe6\\xbc\\x822\\xba6\\xf0\\x9cp\\x81'"
      ]
     },
     "execution_count": 4,
     "metadata": {},
     "output_type": "execute_result"
    }
   ],
   "source": [
    "private, public = wallet.derive_account(\"eth\")\n",
    "public"
   ]
  },
  {
   "cell_type": "code",
   "execution_count": 7,
   "id": "2669ed3d-aa54-4f52-88ad-4b4217308c33",
   "metadata": {},
   "outputs": [],
   "source": [
    "account = Account.privateKeyToAccount(private)"
   ]
  },
  {
   "cell_type": "code",
   "execution_count": 9,
   "id": "bcfe11fd-96ea-4787-b533-beeca8d024b9",
   "metadata": {},
   "outputs": [
    {
     "name": "stdout",
     "output_type": "stream",
     "text": [
      "0xC1daAd18cfAD094B987e47D39d2DF1977b6A17cb\n"
     ]
    }
   ],
   "source": [
    "account_address = account.address\n",
    "print(account_address)"
   ]
  },
  {
   "cell_type": "code",
   "execution_count": 10,
   "id": "211a9185-fd2f-4b83-911c-86a052118949",
   "metadata": {},
   "outputs": [],
   "source": [
    "wei_balance = w3.eth.getBalance(account_address)"
   ]
  },
  {
   "cell_type": "code",
   "execution_count": 11,
   "id": "afc29577-0d53-4db1-91f6-dcc26564613e",
   "metadata": {},
   "outputs": [],
   "source": [
    "ether = w3.fromWei(wei_balance, \"ether\")"
   ]
  },
  {
   "cell_type": "code",
   "execution_count": 12,
   "id": "d6b88577-e9c5-448d-8c19-f2745e8311d2",
   "metadata": {},
   "outputs": [
    {
     "data": {
      "text/plain": [
       "Decimal('100')"
      ]
     },
     "execution_count": 12,
     "metadata": {},
     "output_type": "execute_result"
    }
   ],
   "source": [
    "ether"
   ]
  },
  {
   "cell_type": "code",
   "execution_count": null,
   "id": "91cdb1d2-e35b-43f0-95e2-5f30b550669e",
   "metadata": {},
   "outputs": [],
   "source": []
  }
 ],
 "metadata": {
  "kernelspec": {
   "display_name": "Python 3 (ipykernel)",
   "language": "python",
   "name": "python3"
  },
  "language_info": {
   "codemirror_mode": {
    "name": "ipython",
    "version": 3
   },
   "file_extension": ".py",
   "mimetype": "text/x-python",
   "name": "python",
   "nbconvert_exporter": "python",
   "pygments_lexer": "ipython3",
   "version": "3.7.13"
  }
 },
 "nbformat": 4,
 "nbformat_minor": 5
}
