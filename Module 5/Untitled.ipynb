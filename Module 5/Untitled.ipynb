{
 "cells": [
  {
   "cell_type": "code",
   "execution_count": 1,
   "id": "d455b85e-65eb-432f-9624-7d3ac996854e",
   "metadata": {},
   "outputs": [],
   "source": [
    "# Import the required libraries and dependencies\n",
    "import pandas as pd\n",
    "import requests\n",
    "import json"
   ]
  },
  {
   "cell_type": "code",
   "execution_count": 3,
   "id": "289f6f9b-6eae-49a9-be55-2fa071b2d217",
   "metadata": {},
   "outputs": [],
   "source": [
    "# Make the API request\n",
    "#response = requests.get(\"endpoint\").json()\n",
    "\n",
    "# Display the response data\n",
    "#print(json.dumps(response, indent=4, sort_keys=True))"
   ]
  },
  {
   "cell_type": "code",
   "execution_count": 4,
   "id": "eb66a0ca-6db2-4c28-ac43-8197697cfc1f",
   "metadata": {},
   "outputs": [
    {
     "name": "stdout",
     "output_type": "stream",
     "text": [
      "{\n",
      "    \"data\": {\n",
      "        \"52\": {\n",
      "            \"circulating_supply\": 49377587823,\n",
      "            \"id\": 52,\n",
      "            \"last_updated\": 1660943365,\n",
      "            \"max_supply\": 99989361309,\n",
      "            \"name\": \"XRP\",\n",
      "            \"quotes\": {\n",
      "                \"USD\": {\n",
      "                    \"market_cap\": 16954499305,\n",
      "                    \"percent_change_1h\": 0.0187448080820339,\n",
      "                    \"percent_change_24h\": -9.50318241761404,\n",
      "                    \"percent_change_7d\": -9.79144524052914,\n",
      "                    \"percentage_change_1h\": 0.0187448080820339,\n",
      "                    \"percentage_change_24h\": -9.50318241761404,\n",
      "                    \"percentage_change_7d\": -9.79144524052914,\n",
      "                    \"price\": 0.343729,\n",
      "                    \"volume_24h\": 1714907136\n",
      "                }\n",
      "            },\n",
      "            \"rank\": 6,\n",
      "            \"symbol\": \"XRP\",\n",
      "            \"total_supply\": 49377587823,\n",
      "            \"website_slug\": \"ripple\"\n",
      "        }\n",
      "    },\n",
      "    \"metadata\": {\n",
      "        \"error\": null,\n",
      "        \"num_cryptocurrencies\": 3116,\n",
      "        \"timestamp\": 1660943365\n",
      "    }\n",
      "}\n"
     ]
    }
   ],
   "source": [
    "# Set the Ripple endpoint\n",
    "xrp_url = \"https://api.alternative.me/v2/ticker/Ripple/\"\n",
    "\n",
    "# Fetch the current Ripple price\n",
    "response = requests.get(xrp_url).json()\n",
    "\n",
    "# Display response data\n",
    "print(json.dumps(response, indent=4, sort_keys=True))"
   ]
  },
  {
   "cell_type": "code",
   "execution_count": 5,
   "id": "0fb449e4-1837-44b3-93e9-834f0a814775",
   "metadata": {},
   "outputs": [
    {
     "ename": "NameError",
     "evalue": "name 'response_xrp' is not defined",
     "output_type": "error",
     "traceback": [
      "\u001b[1;31m---------------------------------------------------------------------------\u001b[0m",
      "\u001b[1;31mNameError\u001b[0m                                 Traceback (most recent call last)",
      "\u001b[1;32m~\\AppData\\Local\\Temp\\ipykernel_17172\\3488531481.py\u001b[0m in \u001b[0;36m<module>\u001b[1;34m\u001b[0m\n\u001b[1;32m----> 1\u001b[1;33m \u001b[0mxrp_symbol\u001b[0m \u001b[1;33m=\u001b[0m \u001b[0mresponse_xrp\u001b[0m\u001b[1;33m[\u001b[0m\u001b[1;34m'data'\u001b[0m\u001b[1;33m]\u001b[0m\u001b[1;33m[\u001b[0m\u001b[1;34m'52'\u001b[0m\u001b[1;33m]\u001b[0m\u001b[1;33m[\u001b[0m\u001b[1;34m'symbol'\u001b[0m\u001b[1;33m]\u001b[0m\u001b[1;33m\u001b[0m\u001b[1;33m\u001b[0m\u001b[0m\n\u001b[0m\u001b[0;32m      2\u001b[0m \u001b[0mprint\u001b[0m\u001b[1;33m(\u001b[0m\u001b[1;34mf\"The symbol for Ripple is {xrp_symbol}\"\u001b[0m\u001b[1;33m)\u001b[0m\u001b[1;33m\u001b[0m\u001b[1;33m\u001b[0m\u001b[0m\n\u001b[0;32m      3\u001b[0m \u001b[1;33m\u001b[0m\u001b[0m\n\u001b[0;32m      4\u001b[0m \u001b[0mxrp_price\u001b[0m \u001b[1;33m=\u001b[0m \u001b[0mresponse_xrp\u001b[0m\u001b[1;33m[\u001b[0m\u001b[1;34m'data'\u001b[0m\u001b[1;33m]\u001b[0m\u001b[1;33m[\u001b[0m\u001b[1;34m'52'\u001b[0m\u001b[1;33m]\u001b[0m\u001b[1;33m[\u001b[0m\u001b[1;34m'quotes'\u001b[0m\u001b[1;33m]\u001b[0m\u001b[1;33m[\u001b[0m\u001b[1;34m'USD'\u001b[0m\u001b[1;33m]\u001b[0m\u001b[1;33m[\u001b[0m\u001b[1;34m'price'\u001b[0m\u001b[1;33m]\u001b[0m\u001b[1;33m\u001b[0m\u001b[1;33m\u001b[0m\u001b[0m\n\u001b[0;32m      5\u001b[0m \u001b[0mprint\u001b[0m\u001b[1;33m(\u001b[0m\u001b[1;34mf\"The price for Ripple is ${xrp_price}\"\u001b[0m\u001b[1;33m)\u001b[0m\u001b[1;33m\u001b[0m\u001b[1;33m\u001b[0m\u001b[0m\n",
      "\u001b[1;31mNameError\u001b[0m: name 'response_xrp' is not defined"
     ]
    }
   ],
   "source": [
    "#xrp_symbol = response_xrp['data']['52']['symbol']\n",
    "#print(f\"The symbol for Ripple is {xrp_symbol}\")\n",
    "\n",
    "#xrp_price = response_xrp['data']['52']['quotes']['USD']['price']\n",
    "#print(f\"The price for Ripple is ${xrp_price}\")"
   ]
  },
  {
   "cell_type": "code",
   "execution_count": 6,
   "id": "b7d81fc7-56dd-4f2d-a5ed-5c3aa93f6dfc",
   "metadata": {},
   "outputs": [
    {
     "name": "stdout",
     "output_type": "stream",
     "text": [
      "{\n",
      "    \"data\": {\n",
      "        \"2\": {\n",
      "            \"circulating_supply\": 70980621,\n",
      "            \"id\": 2,\n",
      "            \"last_updated\": 1660944258,\n",
      "            \"max_supply\": 84000000,\n",
      "            \"name\": \"Litecoin\",\n",
      "            \"quotes\": {\n",
      "                \"USD\": {\n",
      "                    \"market_cap\": 3926233773,\n",
      "                    \"percent_change_1h\": -0.650704181832421,\n",
      "                    \"percent_change_24h\": -9.75241682478157,\n",
      "                    \"percent_change_7d\": -10.7670781352501,\n",
      "                    \"percentage_change_1h\": -0.650704181832421,\n",
      "                    \"percentage_change_24h\": -9.75241682478157,\n",
      "                    \"percentage_change_7d\": -10.7670781352501,\n",
      "                    \"price\": 55.2,\n",
      "                    \"volume_24h\": 571399331\n",
      "                }\n",
      "            },\n",
      "            \"rank\": 15,\n",
      "            \"symbol\": \"LTC\",\n",
      "            \"total_supply\": 70980621,\n",
      "            \"website_slug\": \"litecoin\"\n",
      "        }\n",
      "    },\n",
      "    \"metadata\": {\n",
      "        \"error\": null,\n",
      "        \"num_cryptocurrencies\": 3116,\n",
      "        \"timestamp\": 1660944258\n",
      "    }\n",
      "}\n"
     ]
    }
   ],
   "source": [
    "# Import the required libraries and dependencies\n",
    "#import pandas as pd\n",
    "#import requests\n",
    "#import json\n",
    "\n",
    "# Set the Ripple endpoint\n",
    "ltc_url = \"https://api.alternative.me/v2/ticker/Litecoin/\"\n",
    "\n",
    "# Fetch the current Ripple price\n",
    "ltc_response = requests.get(ltc_url).json()\n",
    "\n",
    "# Display response data\n",
    "print(json.dumps(ltc_response, indent=4, sort_keys=True))"
   ]
  },
  {
   "cell_type": "code",
   "execution_count": null,
   "id": "74b10502-2b60-44b8-8a29-9526446304e9",
   "metadata": {},
   "outputs": [],
   "source": []
  }
 ],
 "metadata": {
  "kernelspec": {
   "display_name": "Python 3 (ipykernel)",
   "language": "python",
   "name": "python3"
  },
  "language_info": {
   "codemirror_mode": {
    "name": "ipython",
    "version": 3
   },
   "file_extension": ".py",
   "mimetype": "text/x-python",
   "name": "python",
   "nbconvert_exporter": "python",
   "pygments_lexer": "ipython3",
   "version": "3.7.13"
  }
 },
 "nbformat": 4,
 "nbformat_minor": 5
}
