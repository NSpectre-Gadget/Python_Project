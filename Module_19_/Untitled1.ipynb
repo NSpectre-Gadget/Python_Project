{
 "cells": [
  {
   "cell_type": "code",
   "execution_count": null,
   "id": "b1f6bad8-3c74-434b-bc6e-e63b57e5ee40",
   "metadata": {},
   "outputs": [],
   "source": [
    "# Create the Ethereum Wallet and Account Instances"
   ]
  },
  {
   "cell_type": "code",
   "execution_count": null,
   "id": "75e86b0c-466d-4dad-97d0-222cc56ed5bf",
   "metadata": {},
   "outputs": [],
   "source": [
    "## We must  re-create our wallet and account instances\n",
    "## To do so, first import the mnemonic seed phrase"
   ]
  },
  {
   "cell_type": "code",
   "execution_count": null,
   "id": "4ee5badb-cb86-41f2-9308-f6c17d80be8f",
   "metadata": {},
   "outputs": [],
   "source": [
    "## mnemonic seed phrase should be stored in our .env file as a variable called MNEMONIC\n",
    "## following code imports the seed phrase:"
   ]
  },
  {
   "cell_type": "code",
   "execution_count": 1,
   "id": "a2b594ef-057e-4e3a-b0be-e551c7d3b2dc",
   "metadata": {},
   "outputs": [],
   "source": [
    "# Imports\n",
    "import os\n",
    "from dotenv import load_dotenv\n",
    "load_dotenv()\n",
    "from bip44 import Wallet\n",
    "from web3 import Account\n",
    "from web3 import Web3\n",
    "w3 = Web3(Web3.HTTPProvider('HTTP://127.0.0.1:7545'))"
   ]
  },
  {
   "cell_type": "code",
   "execution_count": null,
   "id": "9b367c83-b6ce-48a1-b26c-74be4f2ab685",
   "metadata": {},
   "outputs": [],
   "source": [
    "mnemonic = os.getenv(\"MNEMONIC\")"
   ]
  },
  {
   "cell_type": "code",
   "execution_count": null,
   "id": "27691156-e4c1-4ef1-9807-8ad06402f173",
   "metadata": {},
   "outputs": [],
   "source": [
    "## pass our mnemonic phrase to a new HD wallet object\n",
    "## following code creates the HD wallet:"
   ]
  },
  {
   "cell_type": "code",
   "execution_count": null,
   "id": "394dc0bd-60ca-4afe-a0c5-10130bc57d55",
   "metadata": {},
   "outputs": [],
   "source": [
    "wallet = Wallet(mnemonic)\n",
    "wallet"
   ]
  },
  {
   "cell_type": "code",
   "execution_count": null,
   "id": "db2b1321-6308-4142-b65b-457892a1e86f",
   "metadata": {},
   "outputs": [],
   "source": [
    "## call the derive_account() method on the HD wallet object to return our private and public keys"
   ]
  },
  {
   "cell_type": "code",
   "execution_count": null,
   "id": "6589b4c3-afe3-4fcb-a083-34761f321d05",
   "metadata": {},
   "outputs": [],
   "source": [
    "private, public = wallet.derive_account(\"eth\")\n",
    "public"
   ]
  },
  {
   "cell_type": "markdown",
   "id": "0d73d4b2-3e1e-4d22-8088-e7c750cb6a72",
   "metadata": {},
   "source": [
    "## pass our private key value to the function Account.privateKeyToAccount to return an Ethereum account object (The account object allows to print an Ethereum address)"
   ]
  },
  {
   "cell_type": "code",
   "execution_count": null,
   "id": "de19e196-0b09-4e16-834b-f5eae5a577f2",
   "metadata": {},
   "outputs": [],
   "source": [
    "account = Account.privateKeyToAccount(private)"
   ]
  },
  {
   "cell_type": "markdown",
   "id": "6c152519-c3a0-4c6c-b281-359f354af9ec",
   "metadata": {},
   "source": [
    "## print this address so that we can easily copy it when we would like to receive funds from the faucet.\n",
    "## for sending & receiving"
   ]
  },
  {
   "cell_type": "code",
   "execution_count": null,
   "id": "b8d12441-07cb-443f-9c1f-136b059056be",
   "metadata": {},
   "outputs": [],
   "source": [
    "account_address = account.address\n",
    "print(account_address)"
   ]
  },
  {
   "cell_type": "code",
   "execution_count": null,
   "id": "91a5d04c-021e-4dcb-895d-32ceab2f8525",
   "metadata": {},
   "outputs": [],
   "source": [
    "## call w3.eth.getBalance, and pass it our account's address as a parameter\n",
    "##  call the w3.fromWei function and pass it the account balance in wei, as well as the denomination that we would like the value in"
   ]
  },
  {
   "cell_type": "code",
   "execution_count": null,
   "id": "4abc8adb-a9e0-49a2-883f-8bf51391907a",
   "metadata": {},
   "outputs": [],
   "source": [
    "# Access the balance of funds for the Ethereum account\n",
    "wei_balance = w3.eth.getBalance(account_address)\n",
    "\n",
    "# Convert the balance from a denomination in wei to ether\n",
    "ether = w3.fromWei(wei_balance, \"ether\")\n",
    "\n",
    "# Print the number of ether\n",
    "ether"
   ]
  },
  {
   "cell_type": "code",
   "execution_count": null,
   "id": "51be98a7-0162-4ba9-85b6-f1bcaa36a2ef",
   "metadata": {},
   "outputs": [],
   "source": []
  },
  {
   "cell_type": "code",
   "execution_count": null,
   "id": "034bbf85-1623-452e-9e16-0fd003803119",
   "metadata": {},
   "outputs": [],
   "source": []
  },
  {
   "cell_type": "code",
   "execution_count": null,
   "id": "4ddfc2b1-3a6a-41f2-9cdb-29417fa41d31",
   "metadata": {},
   "outputs": [],
   "source": []
  },
  {
   "cell_type": "code",
   "execution_count": null,
   "id": "a905c60a-9968-4af1-8194-f12d9ef2dcf5",
   "metadata": {},
   "outputs": [],
   "source": []
  },
  {
   "cell_type": "code",
   "execution_count": null,
   "id": "b94e8b12-7c1a-459e-8346-80436d4c301d",
   "metadata": {},
   "outputs": [],
   "source": []
  }
 ],
 "metadata": {
  "kernelspec": {
   "display_name": "Python 3 (ipykernel)",
   "language": "python",
   "name": "python3"
  },
  "language_info": {
   "codemirror_mode": {
    "name": "ipython",
    "version": 3
   },
   "file_extension": ".py",
   "mimetype": "text/x-python",
   "name": "python",
   "nbconvert_exporter": "python",
   "pygments_lexer": "ipython3",
   "version": "3.7.13"
  }
 },
 "nbformat": 4,
 "nbformat_minor": 5
}
