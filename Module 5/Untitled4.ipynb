{
 "cells": [
  {
   "cell_type": "code",
   "execution_count": 1,
   "id": "ac1f051d-e1c6-4c97-9079-1b035335a259",
   "metadata": {},
   "outputs": [],
   "source": [
    "#To analyze the probability distribution of these stock prices"
   ]
  },
  {
   "cell_type": "code",
   "execution_count": 2,
   "id": "2927d837-8d10-48c0-8c03-0442fd90586d",
   "metadata": {},
   "outputs": [
    {
     "ename": "NameError",
     "evalue": "name 'pd' is not defined",
     "output_type": "error",
     "traceback": [
      "\u001b[1;31m---------------------------------------------------------------------------\u001b[0m",
      "\u001b[1;31mNameError\u001b[0m                                 Traceback (most recent call last)",
      "\u001b[1;32m~\\AppData\\Local\\Temp\\ipykernel_27236\\872939807.py\u001b[0m in \u001b[0;36m<module>\u001b[1;34m\u001b[0m\n\u001b[0;32m      1\u001b[0m \u001b[1;31m# Create an empty `closing_prices_df` DataFrame using Pandas\u001b[0m\u001b[1;33m\u001b[0m\u001b[1;33m\u001b[0m\u001b[1;33m\u001b[0m\u001b[0m\n\u001b[1;32m----> 2\u001b[1;33m \u001b[0mclosing_prices_df\u001b[0m \u001b[1;33m=\u001b[0m \u001b[0mpd\u001b[0m\u001b[1;33m.\u001b[0m\u001b[0mDataFrame\u001b[0m\u001b[1;33m(\u001b[0m\u001b[1;33m)\u001b[0m\u001b[1;33m\u001b[0m\u001b[1;33m\u001b[0m\u001b[0m\n\u001b[0m",
      "\u001b[1;31mNameError\u001b[0m: name 'pd' is not defined"
     ]
    }
   ],
   "source": [
    "# Create an empty `closing_prices_df` DataFrame using Pandas\n",
    "closing_prices_df = pd.DataFrame()"
   ]
  },
  {
   "cell_type": "code",
   "execution_count": null,
   "id": "b42c6ee3-8b99-4fba-9cb4-6266b99d4abe",
   "metadata": {},
   "outputs": [],
   "source": [
    "# Populate the `closing_prices_df` DataFrame by accessing the `close` column\n",
    "# from the `prices_df` DataFrame for both KO and TSLA .\n",
    "closing_prices_df[\"KO\"] = prices_df[\"KO\"][\"close\"]\n",
    "closing_prices_df[\"TSLA\"] = prices_df[\"TSLA\"][\"close\"]"
   ]
  },
  {
   "cell_type": "code",
   "execution_count": null,
   "id": "6458e203-c12c-4643-bb0e-13d76971e735",
   "metadata": {},
   "outputs": [],
   "source": [
    "# Update the index for the `closing_prices_df` DataFrame\n",
    "# to retain only the `date` component.\n",
    "closing_prices_df.index = closing_prices_df.index.date"
   ]
  },
  {
   "cell_type": "code",
   "execution_count": null,
   "id": "d0a60eb9-e1a5-4059-ba75-138042533f3d",
   "metadata": {},
   "outputs": [],
   "source": [
    "# Compute the `daily_returns_df` DataFrame by chaining\n",
    "# the pct_change function with the dropna function.\n",
    "daily_returns_df = closing_prices_df.pct_change().dropna()"
   ]
  },
  {
   "cell_type": "code",
   "execution_count": null,
   "id": "019d6571-a489-45da-a6c1-abb440d863ce",
   "metadata": {},
   "outputs": [],
   "source": [
    "# Display both the head and tail of the `daily_returns_df` DataFrame\n",
    "display(daily_returns_df.head())\n",
    "display(daily_returns_df.tail())"
   ]
  },
  {
   "cell_type": "code",
   "execution_count": null,
   "id": "fad2928a-3966-4163-8b27-5f7c140ba4d7",
   "metadata": {},
   "outputs": [],
   "source": []
  },
  {
   "cell_type": "code",
   "execution_count": null,
   "id": "b8ec8327-64c0-4b07-b0b4-e875ff1e63ec",
   "metadata": {},
   "outputs": [],
   "source": []
  },
  {
   "cell_type": "code",
   "execution_count": null,
   "id": "9785c5af-3f41-4bd7-9cda-4f5bb2ef73ee",
   "metadata": {},
   "outputs": [],
   "source": []
  }
 ],
 "metadata": {
  "kernelspec": {
   "display_name": "Python 3 (ipykernel)",
   "language": "python",
   "name": "python3"
  },
  "language_info": {
   "codemirror_mode": {
    "name": "ipython",
    "version": 3
   },
   "file_extension": ".py",
   "mimetype": "text/x-python",
   "name": "python",
   "nbconvert_exporter": "python",
   "pygments_lexer": "ipython3",
   "version": "3.7.13"
  }
 },
 "nbformat": 4,
 "nbformat_minor": 5
}
