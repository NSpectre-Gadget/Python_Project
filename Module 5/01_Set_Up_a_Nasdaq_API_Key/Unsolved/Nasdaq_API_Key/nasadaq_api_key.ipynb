{
 "cells": [
  {
   "cell_type": "code",
   "execution_count": 10,
   "id": "440439e3-44ac-4cd1-971a-831fd14f0150",
   "metadata": {},
   "outputs": [],
   "source": [
    "import os\n",
    "from dotenv import load_dotenv"
   ]
  },
  {
   "cell_type": "code",
   "execution_count": 11,
   "id": "57888166-84ca-4499-be37-e9ff74f4162d",
   "metadata": {},
   "outputs": [
    {
     "data": {
      "text/plain": [
       "True"
      ]
     },
     "execution_count": 11,
     "metadata": {},
     "output_type": "execute_result"
    }
   ],
   "source": [
    "load_dotenv()"
   ]
  },
  {
   "cell_type": "code",
   "execution_count": 12,
   "id": "0f37b7e8-895a-44f9-b4de-83686d39e7ab",
   "metadata": {},
   "outputs": [
    {
     "data": {
      "text/plain": [
       "str"
      ]
     },
     "execution_count": 12,
     "metadata": {},
     "output_type": "execute_result"
    }
   ],
   "source": [
    "NASDAQ_API_KEY=os.getenv('NASDAQ_API_KEY')\n",
    "type (NASDAQ_API_KEY)"
   ]
  },
  {
   "cell_type": "code",
   "execution_count": 21,
   "id": "7a5fa229-c6a6-439d-b0ee-9c2c2a24e9f2",
   "metadata": {
    "tags": []
   },
   "outputs": [
    {
     "data": {
      "text/plain": [
       "True"
      ]
     },
     "execution_count": 21,
     "metadata": {},
     "output_type": "execute_result"
    }
   ],
   "source": [
    "# Import the required libraries and dependencies\n",
    "import pandas as pd\n",
    "import os\n",
    "from dotenv import load_dotenv\n",
    "import requests\n",
    "import json\n",
    "\n",
    "# Load .env environment variables\n",
    "load_dotenv()"
   ]
  },
  {
   "cell_type": "code",
   "execution_count": 22,
   "id": "a3b9717b-2f59-47f1-a2a8-c93f5a1b0282",
   "metadata": {},
   "outputs": [
    {
     "data": {
      "text/plain": [
       "str"
      ]
     },
     "execution_count": 22,
     "metadata": {},
     "output_type": "execute_result"
    }
   ],
   "source": [
    "# Retrieve the API key from the environment variable and store as Python variable\n",
    "NASDAQ_API_KEY = os.getenv(\"NASDAQ_API_KEY\")\n",
    "type(NASDAQ_API_KEY)"
   ]
  },
  {
   "cell_type": "code",
   "execution_count": 23,
   "id": "2de91d8a-58a5-45b3-a9da-da442a3212c1",
   "metadata": {},
   "outputs": [
    {
     "name": "stdout",
     "output_type": "stream",
     "text": [
      "{\n",
      "    \"quandl_error\": {\n",
      "        \"code\": \"QELx01\",\n",
      "        \"message\": \"You have exceeded the anonymous user limit of 50 calls per day. To make more calls today, please register for a free Nasdaq Data Link account and then include your API key with your requests.\"\n",
      "    }\n",
      "}\n"
     ]
    }
   ],
   "source": [
    "# Define the base request URL for NASDAQ\n",
    "# Note the `limit=10` and api_key=` parameters.\n",
    "request_url = \"https://data.nasdaq.com/api/v3/datasets/WIKI/MSFT.json?limit=10&api_key=\"\n",
    "\n",
    "# Concatenate request_url and nasdaq_api_key and store as a new variable\n",
    "nasdaq_request_url = request_url + NASDAQ_API_KEY\n",
    "nasdaq_request_url\n",
    "# Execute the API call to Nasdaq using requests.get\n",
    "response = requests.get(nasdaq_request_url).json()\n",
    "\n",
    "# Display response data using json.dumps\n",
    "print(json.dumps(response, indent=4, sort_keys=True))"
   ]
  },
  {
   "cell_type": "code",
   "execution_count": null,
   "id": "0af31e9d-277c-4266-9115-cd544fd2feb0",
   "metadata": {},
   "outputs": [],
   "source": []
  }
 ],
 "metadata": {
  "kernelspec": {
   "display_name": "Python 3 (ipykernel)",
   "language": "python",
   "name": "python3"
  },
  "language_info": {
   "codemirror_mode": {
    "name": "ipython",
    "version": 3
   },
   "file_extension": ".py",
   "mimetype": "text/x-python",
   "name": "python",
   "nbconvert_exporter": "python",
   "pygments_lexer": "ipython3",
   "version": "3.7.13"
  }
 },
 "nbformat": 4,
 "nbformat_minor": 5
}
