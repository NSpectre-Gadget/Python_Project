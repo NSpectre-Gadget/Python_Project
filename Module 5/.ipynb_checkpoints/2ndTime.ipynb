{
 "cells": [
  {
   "cell_type": "code",
   "execution_count": 1,
   "id": "7caedd8f-91b4-4840-b6c5-2ff29ca18c87",
   "metadata": {},
   "outputs": [],
   "source": [
    "# Import the required libraries and dependencies\n",
    "import pandas as pd\n",
    "import requests\n",
    "import json"
   ]
  },
  {
   "cell_type": "code",
   "execution_count": 5,
   "id": "24352787-4425-4821-84be-0f394deb8877",
   "metadata": {},
   "outputs": [
    {
     "name": "stdout",
     "output_type": "stream",
     "text": [
      "{\n",
      "    \"data\": {\n",
      "        \"52\": {\n",
      "            \"circulating_supply\": 49537223666,\n",
      "            \"id\": 52,\n",
      "            \"last_updated\": 1661695462,\n",
      "            \"max_supply\": 99989330486,\n",
      "            \"name\": \"XRP\",\n",
      "            \"quotes\": {\n",
      "                \"USD\": {\n",
      "                    \"market_cap\": 16648831551,\n",
      "                    \"percent_change_1h\": 0.0151810538514028,\n",
      "                    \"percent_change_24h\": -0.48764899689013,\n",
      "                    \"percent_change_7d\": -0.822982892632726,\n",
      "                    \"percentage_change_1h\": 0.0151810538514028,\n",
      "                    \"percentage_change_24h\": -0.48764899689013,\n",
      "                    \"percentage_change_7d\": -0.822982892632726,\n",
      "                    \"price\": 0.335997,\n",
      "                    \"volume_24h\": 515694747\n",
      "                }\n",
      "            },\n",
      "            \"rank\": 6,\n",
      "            \"symbol\": \"XRP\",\n",
      "            \"total_supply\": 49537223666,\n",
      "            \"website_slug\": \"ripple\"\n",
      "        }\n",
      "    },\n",
      "    \"metadata\": {\n",
      "        \"error\": null,\n",
      "        \"num_cryptocurrencies\": 3116,\n",
      "        \"timestamp\": 1661695462\n",
      "    }\n",
      "}\n"
     ]
    }
   ],
   "source": [
    "# Set the Ripple endpoint\n",
    "xrp_url = \"https://api.alternative.me/v2/ticker/Ripple/\"\n",
    "\n",
    "# Fetch the current Ripple price\n",
    "response_xrp = requests.get(xrp_url).json()\n",
    "\n",
    "# Display response data\n",
    "print(json.dumps(response, indent=4, sort_keys=True))"
   ]
  },
  {
   "cell_type": "code",
   "execution_count": 6,
   "id": "31382df1-aff0-4d02-92d7-62fe3aba7e92",
   "metadata": {},
   "outputs": [
    {
     "name": "stdout",
     "output_type": "stream",
     "text": [
      "The symbol for Ripple is XRP\n"
     ]
    }
   ],
   "source": [
    "xrp_symbol = response_xrp['data']['52']['symbol']\n",
    "print(f\"The symbol for Ripple is {xrp_symbol}\")"
   ]
  },
  {
   "cell_type": "code",
   "execution_count": 7,
   "id": "958f9de9-e1c5-42a7-8b0a-4689b68c7edd",
   "metadata": {},
   "outputs": [
    {
     "name": "stdout",
     "output_type": "stream",
     "text": [
      "The price for Ripple is $0.335905\n"
     ]
    }
   ],
   "source": [
    "xrp_price = response_xrp['data']['52']['quotes']['USD']['price']\n",
    "print(f\"The price for Ripple is ${xrp_price}\")"
   ]
  },
  {
   "cell_type": "code",
   "execution_count": 8,
   "id": "91e184af-b704-44e6-89e3-24f18cbcf839",
   "metadata": {},
   "outputs": [
    {
     "name": "stdout",
     "output_type": "stream",
     "text": [
      "{\n",
      "    \"data\": {\n",
      "        \"2\": {\n",
      "            \"circulating_supply\": 71043446,\n",
      "            \"id\": 2,\n",
      "            \"last_updated\": 1661696636,\n",
      "            \"max_supply\": 84000000,\n",
      "            \"name\": \"Litecoin\",\n",
      "            \"quotes\": {\n",
      "                \"USD\": {\n",
      "                    \"market_cap\": 3823790156,\n",
      "                    \"percent_change_1h\": 0.0739932883092298,\n",
      "                    \"percent_change_24h\": 1.63511557045317,\n",
      "                    \"percent_change_7d\": -0.609827966601188,\n",
      "                    \"percentage_change_1h\": 0.0739932883092298,\n",
      "                    \"percentage_change_24h\": 1.63511557045317,\n",
      "                    \"percentage_change_7d\": -0.609827966601188,\n",
      "                    \"price\": 53.77,\n",
      "                    \"volume_24h\": 302086385\n",
      "                }\n",
      "            },\n",
      "            \"rank\": 15,\n",
      "            \"symbol\": \"LTC\",\n",
      "            \"total_supply\": 71043446,\n",
      "            \"website_slug\": \"litecoin\"\n",
      "        }\n",
      "    },\n",
      "    \"metadata\": {\n",
      "        \"error\": null,\n",
      "        \"num_cryptocurrencies\": 3116,\n",
      "        \"timestamp\": 1661696636\n",
      "    }\n",
      "}\n"
     ]
    }
   ],
   "source": [
    "# Set the Ripple endpoint\n",
    "ltc_url = \"https://api.alternative.me/v2/ticker/Litecoin/\"\n",
    "\n",
    "# Fetch the current Ripple price\n",
    "ltc_response = requests.get(ltc_url).json()\n",
    "\n",
    "# Display response data\n",
    "print(json.dumps(ltc_response, indent=4, sort_keys=True))"
   ]
  },
  {
   "cell_type": "code",
   "execution_count": 10,
   "id": "7a5f21b2-60de-48f8-847a-1fd5796574a2",
   "metadata": {},
   "outputs": [
    {
     "name": "stdout",
     "output_type": "stream",
     "text": [
      "The rank for Litecoin is 15\n"
     ]
    }
   ],
   "source": [
    "ltc_rank=ltc_response['data']['2']['rank']\n",
    "print(f\"The rank for Litecoin is {ltc_rank}\")"
   ]
  },
  {
   "cell_type": "code",
   "execution_count": null,
   "id": "1263ba41-c309-40e6-9b89-8b916b802190",
   "metadata": {},
   "outputs": [],
   "source": []
  }
 ],
 "metadata": {
  "kernelspec": {
   "display_name": "Python 3 (ipykernel)",
   "language": "python",
   "name": "python3"
  },
  "language_info": {
   "codemirror_mode": {
    "name": "ipython",
    "version": 3
   },
   "file_extension": ".py",
   "mimetype": "text/x-python",
   "name": "python",
   "nbconvert_exporter": "python",
   "pygments_lexer": "ipython3",
   "version": "3.7.13"
  }
 },
 "nbformat": 4,
 "nbformat_minor": 5
}
