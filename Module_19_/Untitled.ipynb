{
 "cells": [
  {
   "cell_type": "code",
   "execution_count": null,
   "id": "77ad5306-f3c0-4d32-9ba4-7fe5a763b56d",
   "metadata": {},
   "outputs": [],
   "source": [
    "from web3.auto import w3\n",
    "from eth_account.messages import encode_defunct"
   ]
  },
  {
   "cell_type": "code",
   "execution_count": null,
   "id": "b6ccf600-8470-4dee-8db0-6859c19c9aff",
   "metadata": {},
   "outputs": [],
   "source": [
    "msg = \"Zach owes David $20\""
   ]
  },
  {
   "cell_type": "markdown",
   "id": "c59faaf8-1725-40d5-aa6c-2233d4773635",
   "metadata": {},
   "source": [
    "## Encode it from a text format into a byte format"
   ]
  },
  {
   "cell_type": "code",
   "execution_count": null,
   "id": "80ae3955-bbdc-4be7-a983-12b17f497469",
   "metadata": {},
   "outputs": [],
   "source": [
    "message = encode_defunct(text=msg)"
   ]
  },
  {
   "cell_type": "markdown",
   "id": "9fd12f5e-dcb2-4430-aaba-33959e1ddef2",
   "metadata": {},
   "source": [
    "## Message is ready to be signed"
   ]
  },
  {
   "cell_type": "markdown",
   "id": "f695786d-c448-486a-a854-ced8afbde08f",
   "metadata": {},
   "source": [
    "## use the w3.eth.account.sign_message function to sign our message.  "
   ]
  },
  {
   "cell_type": "code",
   "execution_count": null,
   "id": "c5e81b69-459e-4cd7-84fe-a519b2fc18bc",
   "metadata": {},
   "outputs": [],
   "source": [
    "signed_message = w3.eth.account.sign_message(message, private_key=private)\n",
    "signed_message"
   ]
  },
  {
   "cell_type": "markdown",
   "id": "4d417e26-80a0-49b4-8f5e-e65e427fa97f",
   "metadata": {},
   "source": [
    "## Validate this transaction’s signature against our public key\n",
    "## we’ll call w3.eth.account.recover_message()\n",
    "## pass this function our original encoded message & the digital signature"
   ]
  },
  {
   "cell_type": "code",
   "execution_count": null,
   "id": "4b922087-fea4-4d50-986d-11e9bad4067e",
   "metadata": {},
   "outputs": [],
   "source": [
    "w3.eth.account.recover_message(message, signature=signed_message.signature)"
   ]
  },
  {
   "cell_type": "code",
   "execution_count": null,
   "id": "a92b46ac-bebe-4e2b-85de-b7e0421d95b6",
   "metadata": {},
   "outputs": [],
   "source": []
  },
  {
   "cell_type": "code",
   "execution_count": null,
   "id": "dd52ed4e-a535-4aa9-8f83-011a526bd842",
   "metadata": {},
   "outputs": [],
   "source": []
  },
  {
   "cell_type": "code",
   "execution_count": null,
   "id": "a903a6de-0a06-4bb4-ad55-60af478db523",
   "metadata": {},
   "outputs": [],
   "source": []
  },
  {
   "cell_type": "code",
   "execution_count": null,
   "id": "b7ca67e7-a0e5-4fd0-b9e3-674c85644954",
   "metadata": {},
   "outputs": [],
   "source": []
  },
  {
   "cell_type": "code",
   "execution_count": null,
   "id": "6bcb23ac-3e1a-47cb-826f-ab288463087e",
   "metadata": {},
   "outputs": [],
   "source": []
  },
  {
   "cell_type": "code",
   "execution_count": null,
   "id": "56bab996-8f09-4f02-8067-d45a18fa295e",
   "metadata": {},
   "outputs": [],
   "source": []
  }
 ],
 "metadata": {
  "kernelspec": {
   "display_name": "Python 3 (ipykernel)",
   "language": "python",
   "name": "python3"
  },
  "language_info": {
   "codemirror_mode": {
    "name": "ipython",
    "version": 3
   },
   "file_extension": ".py",
   "mimetype": "text/x-python",
   "name": "python",
   "nbconvert_exporter": "python",
   "pygments_lexer": "ipython3",
   "version": "3.7.13"
  }
 },
 "nbformat": 4,
 "nbformat_minor": 5
}
