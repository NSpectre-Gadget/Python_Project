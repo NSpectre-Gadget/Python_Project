{
 "cells": [
  {
   "cell_type": "code",
   "execution_count": null,
   "id": "18972174-d5a2-4bb4-bc31-8f8380fd838d",
   "metadata": {
    "tags": []
   },
   "outputs": [],
   "source": [
    "# Import the required libraries and dependencies\n",
    "import pandas as pd\n",
    "from pathlib import Path\n",
    "import hvplot.pandas\n",
    "from sklearn.cluster import KMeans\n",
    "from sklearn.decomposition import PCA\n",
    "from IPython.display import clear_output"
   ]
  },
  {
   "cell_type": "code",
   "execution_count": null,
   "id": "959fefb7-637c-4427-a2aa-7b56a8bb9e9e",
   "metadata": {},
   "outputs": [],
   "source": [
    "df_home_sales=pd.read_csv(\n",
    "    Path('national-home-sales.csv')\n",
    ")"
   ]
  },
  {
   "cell_type": "code",
   "execution_count": null,
   "id": "31bc56d2-80d0-4196-bda7-40beab0e73e8",
   "metadata": {
    "tags": []
   },
   "outputs": [],
   "source": [
    "# Plot the inventory and homes_sold series\n",
    "df_home_sales[[\"inventory\", \"homes_sold\"]].plot()"
   ]
  },
  {
   "cell_type": "code",
   "execution_count": null,
   "id": "b5fbbd60-1c77-4911-8755-f45ff5fd4456",
   "metadata": {},
   "outputs": [],
   "source": [
    "df_home_sales.set_index('period_end_date')"
   ]
  },
  {
   "cell_type": "code",
   "execution_count": 60,
   "id": "11fd9602-ee9e-4bd8-bd5c-64359d393a56",
   "metadata": {
    "tags": []
   },
   "outputs": [
    {
     "data": {
      "text/plain": [
       "period_end_date      object\n",
       "inventory             int64\n",
       "homes_sold            int64\n",
       "median_sale_price     int64\n",
       "dtype: object"
      ]
     },
     "execution_count": 60,
     "metadata": {},
     "output_type": "execute_result"
    }
   ],
   "source": [
    "df_home_sales.dtypes"
   ]
  },
  {
   "cell_type": "code",
   "execution_count": 61,
   "id": "e65c8ce5-ca10-46e3-8210-60b486c1e412",
   "metadata": {},
   "outputs": [
    {
     "data": {
      "text/plain": [
       "0     2020-01-01\n",
       "1     2020-02-01\n",
       "2     2020-03-01\n",
       "3     2020-04-01\n",
       "4     2020-05-01\n",
       "         ...    \n",
       "98    2019-08-01\n",
       "99    2019-09-01\n",
       "100   2019-10-01\n",
       "101   2019-11-01\n",
       "102   2019-12-01\n",
       "Name: period_end_date, Length: 103, dtype: datetime64[ns]"
      ]
     },
     "execution_count": 61,
     "metadata": {},
     "output_type": "execute_result"
    }
   ],
   "source": [
    "pd.to_datetime(\n",
    "    df_home_sales['period_end_date'],\n",
    "    infer_datetime_format=True\n",
    "          )"
   ]
  },
  {
   "cell_type": "code",
   "execution_count": null,
   "id": "fb09f852-3945-4942-8548-3bc1568e44d6",
   "metadata": {},
   "outputs": [],
   "source": []
  },
  {
   "cell_type": "code",
   "execution_count": 1,
   "id": "e8afad3a-589c-4225-99c0-f5da0966569a",
   "metadata": {
    "tags": []
   },
   "outputs": [
    {
     "ename": "NameError",
     "evalue": "name 'df_home_sales' is not defined",
     "output_type": "error",
     "traceback": [
      "\u001b[1;31m---------------------------------------------------------------------------\u001b[0m",
      "\u001b[1;31mNameError\u001b[0m                                 Traceback (most recent call last)",
      "\u001b[1;32m~\\AppData\\Local\\Temp\\ipykernel_9856\\473130686.py\u001b[0m in \u001b[0;36m<module>\u001b[1;34m\u001b[0m\n\u001b[1;32m----> 1\u001b[1;33m \u001b[0mdf_home_sales\u001b[0m\u001b[1;33m.\u001b[0m\u001b[0mloc\u001b[0m\u001b[1;33m[\u001b[0m\u001b[0mdf_home_sales\u001b[0m\u001b[1;33m.\u001b[0m\u001b[0mindex\u001b[0m\u001b[1;33m.\u001b[0m\u001b[0mperiod_end_date\u001b[0m \u001b[1;33m==\u001b[0m \u001b[1;36m2014\u001b[0m\u001b[1;33m]\u001b[0m\u001b[1;33m.\u001b[0m\u001b[0mplot\u001b[0m\u001b[1;33m\u001b[0m\u001b[1;33m\u001b[0m\u001b[0m\n\u001b[0m",
      "\u001b[1;31mNameError\u001b[0m: name 'df_home_sales' is not defined"
     ]
    }
   ],
   "source": [
    "df_home_sales.loc[df_home_sales.index.year == 2014].plot\n"
   ]
  },
  {
   "cell_type": "code",
   "execution_count": 2,
   "id": "3efe46b6-4489-43e3-b1bd-320922825da4",
   "metadata": {
    "tags": []
   },
   "outputs": [
    {
     "ename": "NameError",
     "evalue": "name 'sales_2014' is not defined",
     "output_type": "error",
     "traceback": [
      "\u001b[1;31m---------------------------------------------------------------------------\u001b[0m",
      "\u001b[1;31mNameError\u001b[0m                                 Traceback (most recent call last)",
      "\u001b[1;32m~\\AppData\\Local\\Temp\\ipykernel_9856\\91985850.py\u001b[0m in \u001b[0;36m<module>\u001b[1;34m\u001b[0m\n\u001b[0;32m      1\u001b[0m \u001b[1;31m# Plot 2014 home sales data\u001b[0m\u001b[1;33m\u001b[0m\u001b[1;33m\u001b[0m\u001b[1;33m\u001b[0m\u001b[0m\n\u001b[1;32m----> 2\u001b[1;33m \u001b[0msales_2014\u001b[0m\u001b[1;33m.\u001b[0m\u001b[0mplot\u001b[0m\u001b[1;33m(\u001b[0m\u001b[0mtitle\u001b[0m\u001b[1;33m=\u001b[0m\u001b[1;34m\"Homes Sold in 2014\"\u001b[0m\u001b[1;33m)\u001b[0m\u001b[1;33m\u001b[0m\u001b[1;33m\u001b[0m\u001b[0m\n\u001b[0m",
      "\u001b[1;31mNameError\u001b[0m: name 'sales_2014' is not defined"
     ]
    }
   ],
   "source": [
    "# Plot 2014 home sales data\n",
    "sales_2014.plot(title=\"Homes Sold in 2014\")"
   ]
  },
  {
   "cell_type": "code",
   "execution_count": null,
   "id": "c75936fb-b968-4085-bda4-b48f81f2b0b7",
   "metadata": {},
   "outputs": [],
   "source": []
  }
 ],
 "metadata": {
  "kernelspec": {
   "display_name": "Python 3 (ipykernel)",
   "language": "python",
   "name": "python3"
  },
  "language_info": {
   "codemirror_mode": {
    "name": "ipython",
    "version": 3
   },
   "file_extension": ".py",
   "mimetype": "text/x-python",
   "name": "python",
   "nbconvert_exporter": "python",
   "pygments_lexer": "ipython3",
   "version": "3.7.13"
  }
 },
 "nbformat": 4,
 "nbformat_minor": 5
}
