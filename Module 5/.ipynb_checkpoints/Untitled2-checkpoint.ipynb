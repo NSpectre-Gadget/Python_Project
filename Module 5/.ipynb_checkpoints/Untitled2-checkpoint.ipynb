{
 "cells": [
  {
   "cell_type": "code",
   "execution_count": null,
   "id": "4973fcbb-20db-4170-827f-ffad281ef4be",
   "metadata": {},
   "outputs": [],
   "source": [
    "# Import the required libraries and dependencies\n",
    "import os\n",
    "import requests\n",
    "import pandas as pd\n",
    "from dotenv import load_dotenv\n",
    "import alpaca_trade_api as tradeapi"
   ]
  },
  {
   "cell_type": "code",
   "execution_count": null,
   "id": "ab47f1af-1857-4be0-ae5d-402a965dd46b",
   "metadata": {},
   "outputs": [],
   "source": [
    "# Load .env environment variables\n",
    "load_dotenv()"
   ]
  },
  {
   "cell_type": "code",
   "execution_count": null,
   "id": "e1e69aab-eeb3-4deb-8192-af57505e1b5a",
   "metadata": {},
   "outputs": [],
   "source": [
    "# Set Alpaca API key and secret\n",
    "alpaca_api_key = os.getenv(\"ALPACA_API_KEY\")\n",
    "alpaca_secret_key = os.getenv(\"ALPACA_SECRET_KEY\")"
   ]
  },
  {
   "cell_type": "code",
   "execution_count": null,
   "id": "5a227b1c-4081-469e-9d8f-918cbbd2417e",
   "metadata": {},
   "outputs": [],
   "source": [
    "# Create the Alpaca API object\n",
    "alpaca = tradeapi.REST(\n",
    "    alpaca_api_key,\n",
    "    alpaca_secret_key,\n",
    "    api_version=\"v2\")"
   ]
  },
  {
   "cell_type": "code",
   "execution_count": null,
   "id": "1554c9cc-2771-4dc8-aa35-650ff17f88da",
   "metadata": {},
   "outputs": [],
   "source": [
    "# Format current date as ISO format\n",
    "start_date = pd.Timestamp(\"2020-06-01\", tz=\"America/New_York\").isoformat()\n",
    "end_date = pd.Timestamp(\"2020-06-05\", tz=\"America/New_York\").isoformat()"
   ]
  },
  {
   "cell_type": "code",
   "execution_count": null,
   "id": "9c13b95e-d40a-4c98-b5e2-cff5f370894f",
   "metadata": {},
   "outputs": [],
   "source": [
    "# Set timeframe to one day ('1Day') for the Alpaca API\n",
    "timeframe = \"1Day\""
   ]
  },
  {
   "cell_type": "code",
   "execution_count": null,
   "id": "54bab7b0-e067-433c-bb4c-b83dd92ff4e6",
   "metadata": {},
   "outputs": [],
   "source": [
    "# Set the tickers\n",
    "tickers = [\"FB\", \"TWTR\"]"
   ]
  },
  {
   "cell_type": "code",
   "execution_count": null,
   "id": "93568bc9-6144-49fc-ab4f-c5ae4c9f5ae5",
   "metadata": {},
   "outputs": [],
   "source": [
    "# Set timeframe to one day ('1Day') for the Alpaca API\n",
    "timeframe = \"1Day\""
   ]
  },
  {
   "cell_type": "code",
   "execution_count": null,
   "id": "26995d82-fbf4-4640-8f50-86b6ac8dc2c1",
   "metadata": {},
   "outputs": [],
   "source": [
    "# Get current closing prices for FB and TWTR\n",
    "df_portfolio = alpaca.get_bars(\n",
    "    tickers,\n",
    "    timeframe,\n",
    "    start = start_date,\n",
    "    end = end_date\n",
    ").df\n",
    "\n",
    "# Display sample data\n",
    "df_portfolio"
   ]
  },
  {
   "cell_type": "code",
   "execution_count": null,
   "id": "5b7c49e7-6a4b-435a-8e85-061359852f27",
   "metadata": {},
   "outputs": [],
   "source": [
    "# Separate Ticker Data\n",
    "FB = df_portfolio[df_portfolio['symbol']=='FB'].drop('symbol', axis=1)\n",
    "TWTR = df_portfolio[df_portfolio['symbol']=='TWTR'].drop('symbol', axis=1)"
   ]
  },
  {
   "cell_type": "code",
   "execution_count": null,
   "id": "7317fb49-0e74-48b6-984b-614989bc264c",
   "metadata": {},
   "outputs": [],
   "source": [
    "# Concatenate the Ticker DataFrames\n",
    "df_portfolio = pd.concat([FB,TWTR],axis=1, keys=['FB','TWTR'])"
   ]
  },
  {
   "cell_type": "code",
   "execution_count": null,
   "id": "a5b801e2-5483-42fb-bdf6-9ddf8b151c1f",
   "metadata": {},
   "outputs": [],
   "source": [
    "# Display sample data\n",
    "df_portfolio"
   ]
  },
  {
   "cell_type": "code",
   "execution_count": null,
   "id": "e6de85a7-bf12-43d7-b56b-4655039c4c40",
   "metadata": {},
   "outputs": [],
   "source": []
  }
 ],
 "metadata": {
  "kernelspec": {
   "display_name": "dev",
   "language": "python",
   "name": "dev"
  },
  "language_info": {
   "name": ""
  }
 },
 "nbformat": 4,
 "nbformat_minor": 5
}
