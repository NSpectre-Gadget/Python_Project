{
 "cells": [
  {
   "cell_type": "markdown",
   "metadata": {},
   "source": [
    "# Create Tables \n",
    "\n",
    "In this activity, you will work with Python's SQLAlchemy library to create and view table data in various ways. \n",
    "\n",
    "## Instructions\n",
    "\n",
    "Complete the following steps:\n",
    "\n",
    "1. Import the SQLAlchemy module.\n",
    "\n",
    "2. Create a database connection string that imports the `mortgage_payments.db` from the Resources folder.\n",
    "\n",
    "3. Create a [database engine object](https://docs.sqlalchemy.org/en/14/core/engines.html) that utilizes the database connection string.\n",
    "\n",
    "4. Get the list of table names from the database engine that was just created. \n",
    "\n",
    "5. Create a new database connection string that creates a temporary, in-memory database.\n",
    "\n",
    "6. Create a new database engine object using the updated connection string.\n",
    "\n",
    "7. Read the `customers.csv` file from the Resources folder into a Pandas DataFrame called `customers_df`.\n",
    "\n",
    "8. Using the `to_sql` function, write the `customers_df` dataframe into the SQL database table named `customers`.\n",
    "\n",
    "9. Confirm that the the `customers` table was created.\n",
    "\n",
    "10. Using the `pd.read_sql_table` function, read the `customers` table back into a Pandas Dataframe called `sql_customers_df`.\n",
    "\n",
    "11. Create a new database connection string for an in-memory database and a new database engine. \n",
    "\n",
    "    > **Hint** You can copy and paste the code from steps 5 and 6. \n",
    "\n",
    "12. Write a SQL statement that creates a table called `customer_orders`. It should contain two columns of data: the `customer_id` and the `order_total`, both of which are defined by data type BIGINT.\n",
    "\n",
    "13. Run the execution statement that creates the table and then confirm that it was created by calling the table name.\n"
   ]
  },
  {
   "cell_type": "code",
   "execution_count": null,
   "metadata": {},
   "outputs": [],
   "source": [
    "# Imports\n",
    "import pandas as pd\n",
    "from pathlib import Path"
   ]
  },
  {
   "cell_type": "markdown",
   "metadata": {},
   "source": [
    "## 1. Import the SQLAlchemy module."
   ]
  },
  {
   "cell_type": "code",
   "execution_count": null,
   "metadata": {},
   "outputs": [],
   "source": [
    "# Import SQLAlchemy as sql\n",
    "# YOUR CODE HERE!\n"
   ]
  },
  {
   "cell_type": "markdown",
   "metadata": {},
   "source": [
    "## 2. Create a database connection string that imports the `mortgage_payments.db` from the Resources folder."
   ]
  },
  {
   "cell_type": "code",
   "execution_count": null,
   "metadata": {},
   "outputs": [],
   "source": [
    "# Create a database connection string that links to the \n",
    "# mortgage_payments.db file located in the Resources folder.\n",
    "database_connection_string = # YOUR CODE HERE!\n"
   ]
  },
  {
   "cell_type": "markdown",
   "metadata": {},
   "source": [
    "## 3. Create a database engine object that utilizes the database connection string."
   ]
  },
  {
   "cell_type": "code",
   "execution_count": null,
   "metadata": {},
   "outputs": [],
   "source": [
    "# Database connection object\n",
    "engine = # YOUR CODE HERE!\n",
    "\n",
    "# Confirm the engine was created\n",
    "engine"
   ]
  },
  {
   "cell_type": "markdown",
   "metadata": {},
   "source": [
    "## 4. Get the list of table names from the database engine that was just created. "
   ]
  },
  {
   "cell_type": "code",
   "execution_count": null,
   "metadata": {},
   "outputs": [],
   "source": [
    "# Get table names from the database\n",
    "# YOUR CODE HERE!\n"
   ]
  },
  {
   "cell_type": "markdown",
   "metadata": {},
   "source": [
    "## 5. Create a new database connection string that creates a temporary, in-memory database.\n"
   ]
  },
  {
   "cell_type": "code",
   "execution_count": null,
   "metadata": {},
   "outputs": [],
   "source": [
    "# Create a database connection string that links an in-memory database\n",
    "database_connection_string = # YOUR CODE HERE!\n"
   ]
  },
  {
   "cell_type": "markdown",
   "metadata": {},
   "source": [
    "## 6. Create a new database engine object using the updated connection string."
   ]
  },
  {
   "cell_type": "code",
   "execution_count": null,
   "metadata": {},
   "outputs": [],
   "source": [
    "# Database connection object\n",
    "engine = # YOUR CODE HERE!\n",
    "\n",
    "# Confirm the engine was created\n",
    "engine"
   ]
  },
  {
   "cell_type": "markdown",
   "metadata": {},
   "source": [
    "## 7. Read the `customers.csv` file from the Resources folder into a Pandas DataFrame called `customers_df`."
   ]
  },
  {
   "cell_type": "code",
   "execution_count": null,
   "metadata": {},
   "outputs": [],
   "source": [
    "# Read the customers.csv file in from the Resources folder into a Pandas Dataframe\n",
    "customers_df = # YOUR CODE HERE!\n",
    "\n",
    "\n",
    "# Review the DataFrame\n",
    "# YOUR CODE HERE!\n"
   ]
  },
  {
   "cell_type": "markdown",
   "metadata": {},
   "source": [
    "## 8. Using the `to_sql` function, write the `customers_df` dataframe into the SQL database table named `customers`.\n"
   ]
  },
  {
   "cell_type": "code",
   "execution_count": null,
   "metadata": {},
   "outputs": [],
   "source": [
    "# Use the to_sql function to create a table called customers in the database\n",
    "# YOUR CODE HERE!\n"
   ]
  },
  {
   "cell_type": "markdown",
   "metadata": {},
   "source": [
    "## 9. Confirm that the the `customers` table was created."
   ]
  },
  {
   "cell_type": "code",
   "execution_count": null,
   "metadata": {},
   "outputs": [],
   "source": [
    "# Confirm table creation\n",
    "# YOUR CODE HERE!\n"
   ]
  },
  {
   "cell_type": "markdown",
   "metadata": {},
   "source": [
    "## 10. Using the `pd.read_sql_table` function, read the `customers` table back into a Pandas Dataframe called `sql_customers_df`."
   ]
  },
  {
   "cell_type": "code",
   "execution_count": null,
   "metadata": {},
   "outputs": [],
   "source": [
    "# Create a DataFrame called `sql_customers_df` by reading in the `customers` table.\n",
    "sql_customers_df = # YOUR CODE HERE!\n",
    "\n",
    "# Review the Dataframe\n",
    "# YOUR CODE HERE!\n"
   ]
  },
  {
   "cell_type": "markdown",
   "metadata": {},
   "source": [
    "## 11. Create a new database connection string for an in-memory database and a new database engine. \n",
    "\n",
    "> **Hint** You can copy and paste the code from steps 5 and 6. "
   ]
  },
  {
   "cell_type": "code",
   "execution_count": null,
   "metadata": {},
   "outputs": [],
   "source": [
    " # Create a database connection string that links a simple in-memory database\n",
    "database_connection_string = # YOUR CODE HERE!\n",
    "\n",
    "# Database connection object\n",
    "engine = # YOUR CODE HERE!\n"
   ]
  },
  {
   "cell_type": "markdown",
   "metadata": {},
   "source": [
    "## 12. Write a SQL statement that creates a table called `customer_orders`. It should contain two columns of data: the `customer_id` and the `order_total`, both of which are defined by data type BIGINT."
   ]
  },
  {
   "cell_type": "code",
   "execution_count": null,
   "metadata": {},
   "outputs": [],
   "source": [
    "# Create a table with SQL syntax\n",
    "sql_create_table = # YOUR CODE HERE!\n",
    "\n"
   ]
  },
  {
   "cell_type": "markdown",
   "metadata": {},
   "source": [
    "## 13. Run the execution statement that creates the table and then confirm that it was created by calling the table name."
   ]
  },
  {
   "cell_type": "code",
   "execution_count": null,
   "metadata": {},
   "outputs": [],
   "source": [
    "# Run the execution statement that creates the table\n",
    "result = # YOUR CODE HERE!\n"
   ]
  },
  {
   "cell_type": "code",
   "execution_count": null,
   "metadata": {},
   "outputs": [],
   "source": [
    "# Confirm that the table was created\n",
    "# YOUR CODE HERE!\n"
   ]
  },
  {
   "cell_type": "code",
   "execution_count": null,
   "metadata": {},
   "outputs": [],
   "source": []
  }
 ],
 "metadata": {
  "kernelspec": {
   "display_name": "dev",
   "language": "python",
   "name": "dev"
  },
  "language_info": {
   "codemirror_mode": {
    "name": "ipython",
    "version": 3
   },
   "file_extension": ".py",
   "mimetype": "text/x-python",
   "name": "python",
   "nbconvert_exporter": "python",
   "pygments_lexer": "ipython3",
   "version": "3.7.7"
  },
  "nteract": {
   "version": "0.28.0"
  }
 },
 "nbformat": 4,
 "nbformat_minor": 4
}
