{
 "cells": [
  {
   "cell_type": "code",
   "execution_count": 1,
   "id": "33b882bb-f575-4e77-9f67-c26c3ab46aca",
   "metadata": {},
   "outputs": [],
   "source": [
    "# Imports\n",
    "import os\n",
    "from dotenv import load_dotenv\n",
    "load_dotenv()\n",
    "from bip44 import Wallet\n",
    "from eth_account import Account\n",
    "from web3 import middleware\n",
    "from web3.gas_strategies.time_based import medium_gas_price_strategy\n",
    "from web3 import Web3\n",
    "w3 = Web3(Web3.HTTPProvider('HTTP://127.0.0.1:7545'))"
   ]
  },
  {
   "cell_type": "code",
   "execution_count": 2,
   "id": "c0cf5ea7-48f5-466a-89f5-93caf2177835",
   "metadata": {},
   "outputs": [],
   "source": [
    "## Create the Transaction\n",
    "## first specify the amount of money that we will send.\n",
    "## must be given in the denomination of wei"
   ]
  },
  {
   "cell_type": "code",
   "execution_count": 3,
   "id": "300a3925-354a-4620-8725-1f24641c971a",
   "metadata": {},
   "outputs": [],
   "source": [
    "## To convert from ether to wei\n",
    "## pass our amount variable to w3.toWei function"
   ]
  },
  {
   "cell_type": "code",
   "execution_count": 4,
   "id": "a0e4b6be-0009-4a5e-a3b8-01c3ea90e53e",
   "metadata": {},
   "outputs": [],
   "source": [
    "amount = .0001\n",
    "value = w3.toWei(amount, \"ether\")"
   ]
  },
  {
   "cell_type": "code",
   "execution_count": 5,
   "id": "2bebdd79-4549-470e-9dde-3c37c45ace23",
   "metadata": {},
   "outputs": [],
   "source": [
    "## specify where to send our transaction\n",
    "## define a new variable, receiver,\n",
    "## set it to the Ethereum address where we want to"
   ]
  },
  {
   "cell_type": "code",
   "execution_count": 6,
   "id": "a45960a3-5c32-42fc-864d-f2235ca7f8aa",
   "metadata": {},
   "outputs": [],
   "source": [
    "receiver = \"0x4b0d14BDD1E41dAdD15B66EEB7D7c454aD19A0af\""
   ]
  },
  {
   "cell_type": "code",
   "execution_count": 7,
   "id": "91aadfff-bc05-4941-bf26-5cb139727fa5",
   "metadata": {},
   "outputs": [],
   "source": [
    "## need to configure the estimate of our gas price\n",
    "## set a gas price strategy, \n",
    "## setGasPriceStrategy function constructs a strategy that will compute a gas price such that the transaction is likely to be mined within a specific amount of time"
   ]
  },
  {
   "cell_type": "code",
   "execution_count": 8,
   "id": "9d4eb375-49a8-4758-802c-e9ad2709f6cb",
   "metadata": {},
   "outputs": [],
   "source": [
    "## Option for gas strategy are as follows:\n",
    "## fast_gas_price_strategy, which aims to have a transaction mined within one minute\n",
    "## slow_gas_price_strategy, which aims to have a transaction mined within one hour\n",
    "## glacial_gas_price_strategy, which aims to have a transaction mined within one day"
   ]
  },
  {
   "cell_type": "code",
   "execution_count": 9,
   "id": "8f9c28ed-7750-4dec-af97-d47b0370f368",
   "metadata": {},
   "outputs": [],
   "source": [
    "# Setting the gas price strategy\n",
    "w3.eth.setGasPriceStrategy(medium_gas_price_strategy)"
   ]
  },
  {
   "cell_type": "code",
   "execution_count": 10,
   "id": "43d20ba7-9077-4a97-8a2e-ad24d2710371",
   "metadata": {},
   "outputs": [],
   "source": [
    "mnemonic = os.getenv(\"MNEMONIC\")\n",
    "wallet = Wallet(mnemonic)\n",
    "private, public = wallet.derive_account(\"eth\")\n",
    "account = Account.privateKeyToAccount(private)\n",
    "account_address = account.address"
   ]
  },
  {
   "cell_type": "code",
   "execution_count": 11,
   "id": "ece4db95-347b-43d3-a2ae-470acd62ed2d",
   "metadata": {},
   "outputs": [],
   "source": [
    "## call w3.eth.estimateGas\n",
    "## pass it an object constructed with our variables"
   ]
  },
  {
   "cell_type": "code",
   "execution_count": 12,
   "id": "54ba1b45-5715-4557-9fef-7a5212d94d4c",
   "metadata": {},
   "outputs": [],
   "source": [
    "# Calculate the gas estimate\n",
    "gasEstimate = w3.eth.estimateGas(\n",
    "    {\"to\": receiver,\n",
    "     \"from\": account_address,\n",
    "     \"value\": value\n",
    "    }\n",
    ")"
   ]
  },
  {
   "cell_type": "code",
   "execution_count": 13,
   "id": "f2f1aa3d-8403-4498-82b1-f774691619ac",
   "metadata": {},
   "outputs": [],
   "source": [
    "## we need to define our transaction’s structure in the form of a transaction object\n",
    "## To instantiate the transaction object raw_tx, we just need to define TWO additional required data attributes\n",
    "## gasPrice, with a value of 0,but if using Ethereum network use the value w3.eth.generateGasPrice\n",
    "## nonce, with a value of w3.eth.getTransactionCount(account.address)"
   ]
  },
  {
   "cell_type": "code",
   "execution_count": 14,
   "id": "a521b32c-67b4-4300-92d9-900f97f8cb79",
   "metadata": {},
   "outputs": [],
   "source": [
    "# Create the transaction object\n",
    "raw_tx = {\n",
    "    \t\"to\": receiver,\n",
    "    \t\"from\": account_address,\n",
    "    \t\"value\": value,\n",
    "    \t\"gas\": gasEstimate,\n",
    "    \t\"gasPrice\": 0,\n",
    "    \t\"nonce\": w3.eth.getTransactionCount(account.address)\n",
    "}"
   ]
  },
  {
   "cell_type": "code",
   "execution_count": 15,
   "id": "ae716aff-b88e-4772-8702-e094013ee4b7",
   "metadata": {},
   "outputs": [],
   "source": [
    "# Sign and Send the Transaction\n",
    "## To sign our transaction, use signTransaction,\n",
    "## pass our transaction object, raw_tx, \n",
    "## allows us to sign the transaction with our Ethereum account's private key\n",
    "## save the result of the signTransaction function as an object in a new variable, named signed_tx.\n",
    "## Finally, we pass our signed transaction as the parameter signed_tx.rawTransaction to Web3.py’s w3.eth.sendRawTransaction"
   ]
  },
  {
   "cell_type": "code",
   "execution_count": 16,
   "id": "c916fabf-2d0c-4110-bacb-545eba1231f6",
   "metadata": {},
   "outputs": [
    {
     "data": {
      "text/plain": [
       "HexBytes('0x0f37514731836dbb23be7d9e9bbe372b328ce64f49e6d32fcc88e9cda9cae3da')"
      ]
     },
     "execution_count": 16,
     "metadata": {},
     "output_type": "execute_result"
    }
   ],
   "source": [
    "# Create a signed transaction by passing the transaction object\n",
    "# into the signTransaction function\n",
    "signed_tx = account.signTransaction(raw_tx)\n",
    "\n",
    "# Route the signed transaction to the Ethereum blockchain\n",
    "w3.eth.sendRawTransaction(signed_tx.rawTransaction)"
   ]
  },
  {
   "cell_type": "code",
   "execution_count": null,
   "id": "a149594d-0938-458f-8c68-c08ff5b56bcc",
   "metadata": {},
   "outputs": [],
   "source": []
  },
  {
   "cell_type": "code",
   "execution_count": 17,
   "id": "d14488c5-4376-4979-be15-eed8e87370d6",
   "metadata": {},
   "outputs": [],
   "source": [
    "def get_cats(w3, account):\n",
    "    \"\"\"Display the database of cats to purchase information.\"\"\"\n",
    "    db_list = list(cat_database.values())\n",
    "# Create a for loop through the cat_database use `db_list to produce the results`\n",
    "    for number in range(len(kitties)):\n",
    "  # @TODO Use `st.write` to add the objects from the object to the code (hint price and name)\n",
    "        st.write(kitties, cat_database[1])"
   ]
  },
  {
   "cell_type": "code",
   "execution_count": null,
   "id": "34379069-0653-4b71-a261-235bcb748bf1",
   "metadata": {},
   "outputs": [],
   "source": []
  },
  {
   "cell_type": "code",
   "execution_count": null,
   "id": "0fc37c15-a639-4a90-9f92-b94500f7f77b",
   "metadata": {},
   "outputs": [],
   "source": []
  },
  {
   "cell_type": "code",
   "execution_count": null,
   "id": "dd12bdf1-3d2d-41da-b473-2d6a174b803f",
   "metadata": {},
   "outputs": [],
   "source": []
  },
  {
   "cell_type": "code",
   "execution_count": null,
   "id": "1c2b8ccb-ed12-4851-9842-f3b67768c8c3",
   "metadata": {},
   "outputs": [],
   "source": []
  }
 ],
 "metadata": {
  "kernelspec": {
   "display_name": "Python 3 (ipykernel)",
   "language": "python",
   "name": "python3"
  },
  "language_info": {
   "codemirror_mode": {
    "name": "ipython",
    "version": 3
   },
   "file_extension": ".py",
   "mimetype": "text/x-python",
   "name": "python",
   "nbconvert_exporter": "python",
   "pygments_lexer": "ipython3",
   "version": "3.7.13"
  }
 },
 "nbformat": 4,
 "nbformat_minor": 5
}
