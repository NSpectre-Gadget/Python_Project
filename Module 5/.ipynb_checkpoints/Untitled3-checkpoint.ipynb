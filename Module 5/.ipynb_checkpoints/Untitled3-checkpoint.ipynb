{
 "cells": [
  {
   "cell_type": "code",
   "execution_count": 157,
   "id": "31d5b71b-a865-4cc3-a5f6-509de7e822bd",
   "metadata": {},
   "outputs": [
    {
     "ename": "ModuleNotFoundError",
     "evalue": "No module named 'MCForecastTools'",
     "output_type": "error",
     "traceback": [
      "\u001b[1;31m---------------------------------------------------------------------------\u001b[0m",
      "\u001b[1;31mModuleNotFoundError\u001b[0m                       Traceback (most recent call last)",
      "\u001b[1;32m~\\AppData\\Local\\Temp\\ipykernel_6908\\4135628565.py\u001b[0m in \u001b[0;36m<module>\u001b[1;34m\u001b[0m\n\u001b[0;32m      7\u001b[0m \u001b[1;31m# Import the MCSimulation module from the MCForecastTools library file\u001b[0m\u001b[1;33m\u001b[0m\u001b[1;33m\u001b[0m\u001b[1;33m\u001b[0m\u001b[0m\n\u001b[0;32m      8\u001b[0m \u001b[1;32mimport\u001b[0m \u001b[0mnumpy\u001b[0m \u001b[1;32mas\u001b[0m \u001b[0mnp\u001b[0m\u001b[1;33m\u001b[0m\u001b[1;33m\u001b[0m\u001b[0m\n\u001b[1;32m----> 9\u001b[1;33m \u001b[1;32mfrom\u001b[0m \u001b[0mMCForecastTools\u001b[0m \u001b[1;32mimport\u001b[0m \u001b[0mMCSimulation\u001b[0m\u001b[1;33m\u001b[0m\u001b[1;33m\u001b[0m\u001b[0m\n\u001b[0m",
      "\u001b[1;31mModuleNotFoundError\u001b[0m: No module named 'MCForecastTools'"
     ]
    }
   ],
   "source": [
    "# Import the required libraries and dependencies\n",
    "import os\n",
    "import requests\n",
    "import pandas as pd\n",
    "from dotenv import load_dotenv\n",
    "import alpaca_trade_api as tradeapi\n",
    "# Import the MCSimulation module from the MCForecastTools library file\n",
    "import numpy as np\n",
    "from MCForecastTools import MCSimulation"
   ]
  },
  {
   "cell_type": "code",
   "execution_count": 21,
   "id": "1052d24f-69b8-4f7b-bb7d-18542e3e83f2",
   "metadata": {},
   "outputs": [
    {
     "data": {
      "text/plain": [
       "True"
      ]
     },
     "execution_count": 21,
     "metadata": {},
     "output_type": "execute_result"
    }
   ],
   "source": [
    "# Load .env environment variables\n",
    "load_dotenv()"
   ]
  },
  {
   "cell_type": "code",
   "execution_count": 22,
   "id": "db61616f-248f-41f5-8b7e-083699b8575c",
   "metadata": {},
   "outputs": [],
   "source": [
    "# Set Alpaca API key and secret\n",
    "alpaca_api_key = os.getenv(\"ALPACA_API_KEY\")\n",
    "alpaca_secret_key = os.getenv(\"ALPACA_SECRET_KEY\")"
   ]
  },
  {
   "cell_type": "code",
   "execution_count": 23,
   "id": "c7ab1ad1-fb04-4bd3-88ce-987d1dfe1a34",
   "metadata": {},
   "outputs": [],
   "source": [
    "# Create the Alpaca API object\n",
    "alpaca = tradeapi.REST(\n",
    "    alpaca_api_key,\n",
    "    alpaca_secret_key,\n",
    "    api_version=\"v2\")"
   ]
  },
  {
   "cell_type": "code",
   "execution_count": 24,
   "id": "2cd30e47-07b7-4c4f-83cd-a144203f4cbd",
   "metadata": {},
   "outputs": [],
   "source": [
    "# Format current date as ISO format\n",
    "start_date = pd.Timestamp(\"2020-06-01\", tz=\"America/New_York\").isoformat()\n",
    "end_date = pd.Timestamp(\"2020-06-05\", tz=\"America/New_York\").isoformat()"
   ]
  },
  {
   "cell_type": "code",
   "execution_count": 25,
   "id": "053cfe5a-4cfc-49e9-8aab-588c86487c0a",
   "metadata": {},
   "outputs": [],
   "source": [
    "# Set timeframe to one day ('1Day') for the Alpaca API\n",
    "timeframe = \"1Day\""
   ]
  },
  {
   "cell_type": "code",
   "execution_count": 26,
   "id": "6f6deb5b-2b90-40ba-9f1c-3f0f66315c7b",
   "metadata": {},
   "outputs": [],
   "source": [
    "# Set the tickers\n",
    "tickers = [\"FB\", \"TWTR\"]"
   ]
  },
  {
   "cell_type": "code",
   "execution_count": 27,
   "id": "03904708-7e6f-47f3-a79b-eead7632dd17",
   "metadata": {},
   "outputs": [],
   "source": [
    "# Set timeframe to one day ('1Day') for the Alpaca API\n",
    "timeframe = \"1Day\""
   ]
  },
  {
   "cell_type": "code",
   "execution_count": 28,
   "id": "39629b34-971d-464f-bbe3-9bbb5f9825a5",
   "metadata": {},
   "outputs": [
    {
     "data": {
      "text/html": [
       "<div>\n",
       "<style scoped>\n",
       "    .dataframe tbody tr th:only-of-type {\n",
       "        vertical-align: middle;\n",
       "    }\n",
       "\n",
       "    .dataframe tbody tr th {\n",
       "        vertical-align: top;\n",
       "    }\n",
       "\n",
       "    .dataframe thead th {\n",
       "        text-align: right;\n",
       "    }\n",
       "</style>\n",
       "<table border=\"1\" class=\"dataframe\">\n",
       "  <thead>\n",
       "    <tr style=\"text-align: right;\">\n",
       "      <th></th>\n",
       "      <th>open</th>\n",
       "      <th>high</th>\n",
       "      <th>low</th>\n",
       "      <th>close</th>\n",
       "      <th>volume</th>\n",
       "      <th>trade_count</th>\n",
       "      <th>vwap</th>\n",
       "      <th>symbol</th>\n",
       "    </tr>\n",
       "    <tr>\n",
       "      <th>timestamp</th>\n",
       "      <th></th>\n",
       "      <th></th>\n",
       "      <th></th>\n",
       "      <th></th>\n",
       "      <th></th>\n",
       "      <th></th>\n",
       "      <th></th>\n",
       "      <th></th>\n",
       "    </tr>\n",
       "  </thead>\n",
       "  <tbody>\n",
       "    <tr>\n",
       "      <th>2020-06-01 04:00:00+00:00</th>\n",
       "      <td>224.39</td>\n",
       "      <td>232.440</td>\n",
       "      <td>223.5000</td>\n",
       "      <td>231.91</td>\n",
       "      <td>18223839</td>\n",
       "      <td>174871</td>\n",
       "      <td>229.264613</td>\n",
       "      <td>FB</td>\n",
       "    </tr>\n",
       "    <tr>\n",
       "      <th>2020-06-02 04:00:00+00:00</th>\n",
       "      <td>230.94</td>\n",
       "      <td>233.000</td>\n",
       "      <td>226.5600</td>\n",
       "      <td>232.72</td>\n",
       "      <td>20919029</td>\n",
       "      <td>191654</td>\n",
       "      <td>229.851235</td>\n",
       "      <td>FB</td>\n",
       "    </tr>\n",
       "    <tr>\n",
       "      <th>2020-06-03 04:00:00+00:00</th>\n",
       "      <td>232.39</td>\n",
       "      <td>232.650</td>\n",
       "      <td>228.5300</td>\n",
       "      <td>230.16</td>\n",
       "      <td>15380282</td>\n",
       "      <td>166039</td>\n",
       "      <td>230.239980</td>\n",
       "      <td>FB</td>\n",
       "    </tr>\n",
       "    <tr>\n",
       "      <th>2020-06-04 04:00:00+00:00</th>\n",
       "      <td>229.56</td>\n",
       "      <td>231.630</td>\n",
       "      <td>224.6100</td>\n",
       "      <td>226.29</td>\n",
       "      <td>17041481</td>\n",
       "      <td>180305</td>\n",
       "      <td>227.779699</td>\n",
       "      <td>FB</td>\n",
       "    </tr>\n",
       "    <tr>\n",
       "      <th>2020-06-05 04:00:00+00:00</th>\n",
       "      <td>226.57</td>\n",
       "      <td>231.350</td>\n",
       "      <td>225.3105</td>\n",
       "      <td>230.77</td>\n",
       "      <td>16750586</td>\n",
       "      <td>166521</td>\n",
       "      <td>229.928852</td>\n",
       "      <td>FB</td>\n",
       "    </tr>\n",
       "    <tr>\n",
       "      <th>2020-06-01 04:00:00+00:00</th>\n",
       "      <td>31.06</td>\n",
       "      <td>32.100</td>\n",
       "      <td>30.8400</td>\n",
       "      <td>31.89</td>\n",
       "      <td>14583619</td>\n",
       "      <td>91305</td>\n",
       "      <td>31.700367</td>\n",
       "      <td>TWTR</td>\n",
       "    </tr>\n",
       "    <tr>\n",
       "      <th>2020-06-02 04:00:00+00:00</th>\n",
       "      <td>32.19</td>\n",
       "      <td>32.425</td>\n",
       "      <td>31.6100</td>\n",
       "      <td>32.26</td>\n",
       "      <td>15318429</td>\n",
       "      <td>80500</td>\n",
       "      <td>32.076930</td>\n",
       "      <td>TWTR</td>\n",
       "    </tr>\n",
       "    <tr>\n",
       "      <th>2020-06-03 04:00:00+00:00</th>\n",
       "      <td>32.68</td>\n",
       "      <td>35.040</td>\n",
       "      <td>32.4400</td>\n",
       "      <td>34.88</td>\n",
       "      <td>28414273</td>\n",
       "      <td>153153</td>\n",
       "      <td>34.010520</td>\n",
       "      <td>TWTR</td>\n",
       "    </tr>\n",
       "    <tr>\n",
       "      <th>2020-06-04 04:00:00+00:00</th>\n",
       "      <td>34.49</td>\n",
       "      <td>34.940</td>\n",
       "      <td>33.3400</td>\n",
       "      <td>33.72</td>\n",
       "      <td>20106238</td>\n",
       "      <td>107081</td>\n",
       "      <td>33.960112</td>\n",
       "      <td>TWTR</td>\n",
       "    </tr>\n",
       "    <tr>\n",
       "      <th>2020-06-05 04:00:00+00:00</th>\n",
       "      <td>34.52</td>\n",
       "      <td>35.970</td>\n",
       "      <td>34.4700</td>\n",
       "      <td>34.87</td>\n",
       "      <td>23211535</td>\n",
       "      <td>133449</td>\n",
       "      <td>35.232562</td>\n",
       "      <td>TWTR</td>\n",
       "    </tr>\n",
       "  </tbody>\n",
       "</table>\n",
       "</div>"
      ],
      "text/plain": [
       "                             open     high       low   close    volume  \\\n",
       "timestamp                                                                \n",
       "2020-06-01 04:00:00+00:00  224.39  232.440  223.5000  231.91  18223839   \n",
       "2020-06-02 04:00:00+00:00  230.94  233.000  226.5600  232.72  20919029   \n",
       "2020-06-03 04:00:00+00:00  232.39  232.650  228.5300  230.16  15380282   \n",
       "2020-06-04 04:00:00+00:00  229.56  231.630  224.6100  226.29  17041481   \n",
       "2020-06-05 04:00:00+00:00  226.57  231.350  225.3105  230.77  16750586   \n",
       "2020-06-01 04:00:00+00:00   31.06   32.100   30.8400   31.89  14583619   \n",
       "2020-06-02 04:00:00+00:00   32.19   32.425   31.6100   32.26  15318429   \n",
       "2020-06-03 04:00:00+00:00   32.68   35.040   32.4400   34.88  28414273   \n",
       "2020-06-04 04:00:00+00:00   34.49   34.940   33.3400   33.72  20106238   \n",
       "2020-06-05 04:00:00+00:00   34.52   35.970   34.4700   34.87  23211535   \n",
       "\n",
       "                           trade_count        vwap symbol  \n",
       "timestamp                                                  \n",
       "2020-06-01 04:00:00+00:00       174871  229.264613     FB  \n",
       "2020-06-02 04:00:00+00:00       191654  229.851235     FB  \n",
       "2020-06-03 04:00:00+00:00       166039  230.239980     FB  \n",
       "2020-06-04 04:00:00+00:00       180305  227.779699     FB  \n",
       "2020-06-05 04:00:00+00:00       166521  229.928852     FB  \n",
       "2020-06-01 04:00:00+00:00        91305   31.700367   TWTR  \n",
       "2020-06-02 04:00:00+00:00        80500   32.076930   TWTR  \n",
       "2020-06-03 04:00:00+00:00       153153   34.010520   TWTR  \n",
       "2020-06-04 04:00:00+00:00       107081   33.960112   TWTR  \n",
       "2020-06-05 04:00:00+00:00       133449   35.232562   TWTR  "
      ]
     },
     "execution_count": 28,
     "metadata": {},
     "output_type": "execute_result"
    }
   ],
   "source": [
    "# Get current closing prices for FB and TWTR\n",
    "df_portfolio = alpaca.get_bars(\n",
    "    tickers,\n",
    "    timeframe,\n",
    "    start = start_date,\n",
    "    end = end_date\n",
    ").df\n",
    "\n",
    "# Display sample data\n",
    "df_portfolio"
   ]
  },
  {
   "cell_type": "code",
   "execution_count": 29,
   "id": "6082ed6a-599e-4e1a-a7c7-403b89d67a76",
   "metadata": {},
   "outputs": [],
   "source": [
    "# Separate Ticker Data\n",
    "FB = df_portfolio[df_portfolio['symbol']=='FB'].drop('symbol', axis=1)\n",
    "TWTR = df_portfolio[df_portfolio['symbol']=='TWTR'].drop('symbol', axis=1)"
   ]
  },
  {
   "cell_type": "code",
   "execution_count": 30,
   "id": "532ddaed-8cf6-48cf-959b-da1f9e0883f8",
   "metadata": {},
   "outputs": [],
   "source": [
    "# Concatenate the Ticker DataFrames\n",
    "df_portfolio = pd.concat([FB,TWTR],axis=1, keys=['FB','TWTR'])"
   ]
  },
  {
   "cell_type": "code",
   "execution_count": 52,
   "id": "60c899a8-4b67-486d-b871-dc18d74f6d50",
   "metadata": {},
   "outputs": [
    {
     "data": {
      "text/html": [
       "<div>\n",
       "<style scoped>\n",
       "    .dataframe tbody tr th:only-of-type {\n",
       "        vertical-align: middle;\n",
       "    }\n",
       "\n",
       "    .dataframe tbody tr th {\n",
       "        vertical-align: top;\n",
       "    }\n",
       "\n",
       "    .dataframe thead tr th {\n",
       "        text-align: left;\n",
       "    }\n",
       "\n",
       "    .dataframe thead tr:last-of-type th {\n",
       "        text-align: right;\n",
       "    }\n",
       "</style>\n",
       "<table border=\"1\" class=\"dataframe\">\n",
       "  <thead>\n",
       "    <tr>\n",
       "      <th></th>\n",
       "      <th colspan=\"7\" halign=\"left\">FB</th>\n",
       "      <th colspan=\"7\" halign=\"left\">TWTR</th>\n",
       "    </tr>\n",
       "    <tr>\n",
       "      <th></th>\n",
       "      <th>open</th>\n",
       "      <th>high</th>\n",
       "      <th>low</th>\n",
       "      <th>close</th>\n",
       "      <th>volume</th>\n",
       "      <th>trade_count</th>\n",
       "      <th>vwap</th>\n",
       "      <th>open</th>\n",
       "      <th>high</th>\n",
       "      <th>low</th>\n",
       "      <th>close</th>\n",
       "      <th>volume</th>\n",
       "      <th>trade_count</th>\n",
       "      <th>vwap</th>\n",
       "    </tr>\n",
       "    <tr>\n",
       "      <th>timestamp</th>\n",
       "      <th></th>\n",
       "      <th></th>\n",
       "      <th></th>\n",
       "      <th></th>\n",
       "      <th></th>\n",
       "      <th></th>\n",
       "      <th></th>\n",
       "      <th></th>\n",
       "      <th></th>\n",
       "      <th></th>\n",
       "      <th></th>\n",
       "      <th></th>\n",
       "      <th></th>\n",
       "      <th></th>\n",
       "    </tr>\n",
       "  </thead>\n",
       "  <tbody>\n",
       "    <tr>\n",
       "      <th>2020-06-01 04:00:00+00:00</th>\n",
       "      <td>224.39</td>\n",
       "      <td>232.44</td>\n",
       "      <td>223.5000</td>\n",
       "      <td>231.91</td>\n",
       "      <td>18223839</td>\n",
       "      <td>174871</td>\n",
       "      <td>229.264613</td>\n",
       "      <td>31.06</td>\n",
       "      <td>32.100</td>\n",
       "      <td>30.84</td>\n",
       "      <td>31.89</td>\n",
       "      <td>14583619</td>\n",
       "      <td>91305</td>\n",
       "      <td>31.700367</td>\n",
       "    </tr>\n",
       "    <tr>\n",
       "      <th>2020-06-02 04:00:00+00:00</th>\n",
       "      <td>230.94</td>\n",
       "      <td>233.00</td>\n",
       "      <td>226.5600</td>\n",
       "      <td>232.72</td>\n",
       "      <td>20919029</td>\n",
       "      <td>191654</td>\n",
       "      <td>229.851235</td>\n",
       "      <td>32.19</td>\n",
       "      <td>32.425</td>\n",
       "      <td>31.61</td>\n",
       "      <td>32.26</td>\n",
       "      <td>15318429</td>\n",
       "      <td>80500</td>\n",
       "      <td>32.076930</td>\n",
       "    </tr>\n",
       "    <tr>\n",
       "      <th>2020-06-03 04:00:00+00:00</th>\n",
       "      <td>232.39</td>\n",
       "      <td>232.65</td>\n",
       "      <td>228.5300</td>\n",
       "      <td>230.16</td>\n",
       "      <td>15380282</td>\n",
       "      <td>166039</td>\n",
       "      <td>230.239980</td>\n",
       "      <td>32.68</td>\n",
       "      <td>35.040</td>\n",
       "      <td>32.44</td>\n",
       "      <td>34.88</td>\n",
       "      <td>28414273</td>\n",
       "      <td>153153</td>\n",
       "      <td>34.010520</td>\n",
       "    </tr>\n",
       "    <tr>\n",
       "      <th>2020-06-04 04:00:00+00:00</th>\n",
       "      <td>229.56</td>\n",
       "      <td>231.63</td>\n",
       "      <td>224.6100</td>\n",
       "      <td>226.29</td>\n",
       "      <td>17041481</td>\n",
       "      <td>180305</td>\n",
       "      <td>227.779699</td>\n",
       "      <td>34.49</td>\n",
       "      <td>34.940</td>\n",
       "      <td>33.34</td>\n",
       "      <td>33.72</td>\n",
       "      <td>20106238</td>\n",
       "      <td>107081</td>\n",
       "      <td>33.960112</td>\n",
       "    </tr>\n",
       "    <tr>\n",
       "      <th>2020-06-05 04:00:00+00:00</th>\n",
       "      <td>226.57</td>\n",
       "      <td>231.35</td>\n",
       "      <td>225.3105</td>\n",
       "      <td>230.77</td>\n",
       "      <td>16750586</td>\n",
       "      <td>166521</td>\n",
       "      <td>229.928852</td>\n",
       "      <td>34.52</td>\n",
       "      <td>35.970</td>\n",
       "      <td>34.47</td>\n",
       "      <td>34.87</td>\n",
       "      <td>23211535</td>\n",
       "      <td>133449</td>\n",
       "      <td>35.232562</td>\n",
       "    </tr>\n",
       "  </tbody>\n",
       "</table>\n",
       "</div>"
      ],
      "text/plain": [
       "                               FB                                      \\\n",
       "                             open    high       low   close    volume   \n",
       "timestamp                                                               \n",
       "2020-06-01 04:00:00+00:00  224.39  232.44  223.5000  231.91  18223839   \n",
       "2020-06-02 04:00:00+00:00  230.94  233.00  226.5600  232.72  20919029   \n",
       "2020-06-03 04:00:00+00:00  232.39  232.65  228.5300  230.16  15380282   \n",
       "2020-06-04 04:00:00+00:00  229.56  231.63  224.6100  226.29  17041481   \n",
       "2020-06-05 04:00:00+00:00  226.57  231.35  225.3105  230.77  16750586   \n",
       "\n",
       "                                                    TWTR                 \\\n",
       "                          trade_count        vwap   open    high    low   \n",
       "timestamp                                                                 \n",
       "2020-06-01 04:00:00+00:00      174871  229.264613  31.06  32.100  30.84   \n",
       "2020-06-02 04:00:00+00:00      191654  229.851235  32.19  32.425  31.61   \n",
       "2020-06-03 04:00:00+00:00      166039  230.239980  32.68  35.040  32.44   \n",
       "2020-06-04 04:00:00+00:00      180305  227.779699  34.49  34.940  33.34   \n",
       "2020-06-05 04:00:00+00:00      166521  229.928852  34.52  35.970  34.47   \n",
       "\n",
       "                                                                   \n",
       "                           close    volume trade_count       vwap  \n",
       "timestamp                                                          \n",
       "2020-06-01 04:00:00+00:00  31.89  14583619       91305  31.700367  \n",
       "2020-06-02 04:00:00+00:00  32.26  15318429       80500  32.076930  \n",
       "2020-06-03 04:00:00+00:00  34.88  28414273      153153  34.010520  \n",
       "2020-06-04 04:00:00+00:00  33.72  20106238      107081  33.960112  \n",
       "2020-06-05 04:00:00+00:00  34.87  23211535      133449  35.232562  "
      ]
     },
     "execution_count": 52,
     "metadata": {},
     "output_type": "execute_result"
    }
   ],
   "source": [
    "# Display sample data\n",
    "df_portfolio"
   ]
  },
  {
   "cell_type": "code",
   "execution_count": 53,
   "id": "b3778420-555a-4885-a3df-4ffb155c49e1",
   "metadata": {},
   "outputs": [],
   "source": [
    "fb_close = df_portfolio[\"FB\"][\"close\"]"
   ]
  },
  {
   "cell_type": "code",
   "execution_count": 54,
   "id": "0c23dbdd-4b4d-4b41-afb4-68a970024d61",
   "metadata": {},
   "outputs": [
    {
     "data": {
      "text/plain": [
       "timestamp\n",
       "2020-06-01 04:00:00+00:00    231.91\n",
       "2020-06-02 04:00:00+00:00    232.72\n",
       "2020-06-03 04:00:00+00:00    230.16\n",
       "2020-06-04 04:00:00+00:00    226.29\n",
       "2020-06-05 04:00:00+00:00    230.77\n",
       "Name: close, dtype: float64"
      ]
     },
     "execution_count": 54,
     "metadata": {},
     "output_type": "execute_result"
    }
   ],
   "source": [
    "fb_close"
   ]
  },
  {
   "cell_type": "code",
   "execution_count": 55,
   "id": "445c9c17-834a-44e6-b3ad-5f9ea1aadba6",
   "metadata": {},
   "outputs": [
    {
     "data": {
      "text/plain": [
       "timestamp\n",
       "2020-06-01 04:00:00+00:00    30.84\n",
       "2020-06-02 04:00:00+00:00    31.61\n",
       "2020-06-03 04:00:00+00:00    32.44\n",
       "2020-06-04 04:00:00+00:00    33.34\n",
       "2020-06-05 04:00:00+00:00    34.47\n",
       "Name: low, dtype: float64"
      ]
     },
     "execution_count": 55,
     "metadata": {},
     "output_type": "execute_result"
    }
   ],
   "source": [
    "twtr_close = df_portfolio[\"TWTR\"][\"low\"]\n",
    "twtr_close"
   ]
  },
  {
   "cell_type": "code",
   "execution_count": 56,
   "id": "5a809b68-cd27-4d4e-9c76-d9d65f82d259",
   "metadata": {
    "tags": []
   },
   "outputs": [],
   "source": [
    "# Create an empty DataFrame for closing prices\n",
    "closing_prices_df = pd.DataFrame()"
   ]
  },
  {
   "cell_type": "code",
   "execution_count": 57,
   "id": "dfdd8575-63ca-45ca-8554-2421428ef410",
   "metadata": {
    "tags": []
   },
   "outputs": [],
   "source": [
    "# Get the closing prices of FB and TWTR\n",
    "closing_prices_df[\"FB\"] = df_portfolio[\"FB\"][\"close\"]\n",
    "closing_prices_df[\"TWTR\"] = df_portfolio[\"TWTR\"][\"close\"]"
   ]
  },
  {
   "cell_type": "code",
   "execution_count": 58,
   "id": "eca8e9f2-20a5-40ba-ba2f-83ab9709610c",
   "metadata": {},
   "outputs": [],
   "source": [
    "# Drop the time component of the date\n",
    "closing_prices_df.index = closing_prices_df.index.date"
   ]
  },
  {
   "cell_type": "code",
   "execution_count": 59,
   "id": "435b35ec-6403-4eec-8a66-154464b5b09c",
   "metadata": {},
   "outputs": [
    {
     "data": {
      "text/html": [
       "<div>\n",
       "<style scoped>\n",
       "    .dataframe tbody tr th:only-of-type {\n",
       "        vertical-align: middle;\n",
       "    }\n",
       "\n",
       "    .dataframe tbody tr th {\n",
       "        vertical-align: top;\n",
       "    }\n",
       "\n",
       "    .dataframe thead th {\n",
       "        text-align: right;\n",
       "    }\n",
       "</style>\n",
       "<table border=\"1\" class=\"dataframe\">\n",
       "  <thead>\n",
       "    <tr style=\"text-align: right;\">\n",
       "      <th></th>\n",
       "      <th>FB</th>\n",
       "      <th>TWTR</th>\n",
       "    </tr>\n",
       "  </thead>\n",
       "  <tbody>\n",
       "    <tr>\n",
       "      <th>2020-06-01</th>\n",
       "      <td>231.91</td>\n",
       "      <td>31.89</td>\n",
       "    </tr>\n",
       "    <tr>\n",
       "      <th>2020-06-02</th>\n",
       "      <td>232.72</td>\n",
       "      <td>32.26</td>\n",
       "    </tr>\n",
       "    <tr>\n",
       "      <th>2020-06-03</th>\n",
       "      <td>230.16</td>\n",
       "      <td>34.88</td>\n",
       "    </tr>\n",
       "    <tr>\n",
       "      <th>2020-06-04</th>\n",
       "      <td>226.29</td>\n",
       "      <td>33.72</td>\n",
       "    </tr>\n",
       "    <tr>\n",
       "      <th>2020-06-05</th>\n",
       "      <td>230.77</td>\n",
       "      <td>34.87</td>\n",
       "    </tr>\n",
       "  </tbody>\n",
       "</table>\n",
       "</div>"
      ],
      "text/plain": [
       "                FB   TWTR\n",
       "2020-06-01  231.91  31.89\n",
       "2020-06-02  232.72  32.26\n",
       "2020-06-03  230.16  34.88\n",
       "2020-06-04  226.29  33.72\n",
       "2020-06-05  230.77  34.87"
      ]
     },
     "execution_count": 59,
     "metadata": {},
     "output_type": "execute_result"
    }
   ],
   "source": [
    "# Display sample data\n",
    "closing_prices_df.head(10)"
   ]
  },
  {
   "cell_type": "code",
   "execution_count": 60,
   "id": "3816ff81-57f1-42a0-a171-58d18246b16e",
   "metadata": {},
   "outputs": [],
   "source": [
    "# Compute daily returns\n",
    "daily_returns_df = closing_prices_df.pct_change().dropna()"
   ]
  },
  {
   "cell_type": "code",
   "execution_count": 61,
   "id": "bee2f26a-f8c5-465b-a7b4-4b68bbe9c56a",
   "metadata": {},
   "outputs": [
    {
     "data": {
      "text/html": [
       "<div>\n",
       "<style scoped>\n",
       "    .dataframe tbody tr th:only-of-type {\n",
       "        vertical-align: middle;\n",
       "    }\n",
       "\n",
       "    .dataframe tbody tr th {\n",
       "        vertical-align: top;\n",
       "    }\n",
       "\n",
       "    .dataframe thead th {\n",
       "        text-align: right;\n",
       "    }\n",
       "</style>\n",
       "<table border=\"1\" class=\"dataframe\">\n",
       "  <thead>\n",
       "    <tr style=\"text-align: right;\">\n",
       "      <th></th>\n",
       "      <th>FB</th>\n",
       "      <th>TWTR</th>\n",
       "    </tr>\n",
       "  </thead>\n",
       "  <tbody>\n",
       "    <tr>\n",
       "      <th>2020-06-02</th>\n",
       "      <td>0.003493</td>\n",
       "      <td>0.011602</td>\n",
       "    </tr>\n",
       "    <tr>\n",
       "      <th>2020-06-03</th>\n",
       "      <td>-0.011000</td>\n",
       "      <td>0.081215</td>\n",
       "    </tr>\n",
       "    <tr>\n",
       "      <th>2020-06-04</th>\n",
       "      <td>-0.016814</td>\n",
       "      <td>-0.033257</td>\n",
       "    </tr>\n",
       "    <tr>\n",
       "      <th>2020-06-05</th>\n",
       "      <td>0.019798</td>\n",
       "      <td>0.034104</td>\n",
       "    </tr>\n",
       "  </tbody>\n",
       "</table>\n",
       "</div>"
      ],
      "text/plain": [
       "                  FB      TWTR\n",
       "2020-06-02  0.003493  0.011602\n",
       "2020-06-03 -0.011000  0.081215\n",
       "2020-06-04 -0.016814 -0.033257\n",
       "2020-06-05  0.019798  0.034104"
      ]
     },
     "execution_count": 61,
     "metadata": {},
     "output_type": "execute_result"
    }
   ],
   "source": [
    "# Display sample data\n",
    "daily_returns_df.head(10)\n"
   ]
  },
  {
   "cell_type": "code",
   "execution_count": 62,
   "id": "add1d6bd-1220-4dac-8755-8094237478f6",
   "metadata": {},
   "outputs": [
    {
     "data": {
      "text/plain": [
       "<AxesSubplot:title={'center':'Daily Returns of FB and TWTR - June 2020'}>"
      ]
     },
     "execution_count": 62,
     "metadata": {},
     "output_type": "execute_result"
    },
    {
     "data": {
      "image/png": "[encoded data removed]",
      "text/plain": [
       "<Figure size 720x504 with 1 Axes>"
      ]
     },
     "metadata": {
      "needs_background": "light"
     },
     "output_type": "display_data"
    }
   ],
   "source": [
    "# Plot daily returns\n",
    "daily_returns_df.plot(figsize=(10, 7), title=\"Daily Returns of FB and TWTR - June 2020\", rot=90)"
   ]
  },
  {
   "cell_type": "code",
   "execution_count": 112,
   "id": "a78eb9fa-08e6-4b08-8d7a-d2af74631e79",
   "metadata": {},
   "outputs": [],
   "source": [
    "# Set the Tesla and Coca-Cola ticker symbols\n",
    "tickers = [\"TSLA\",\"KO\",\"ZM\"]"
   ]
  },
  {
   "cell_type": "code",
   "execution_count": 113,
   "id": "b10cfe4f-a227-460b-a43f-ccf614d99475",
   "metadata": {},
   "outputs": [],
   "source": [
    "# Set timeframe to '1Day'\n",
    "timeframe = \"1Day\""
   ]
  },
  {
   "cell_type": "code",
   "execution_count": 114,
   "id": "8bc39b4b-8f5f-44c5-af93-b9ee32e1d5c9",
   "metadata": {},
   "outputs": [],
   "source": [
    "# Set start and end datetimes of 1 year, between now and 365 days ago.\n",
    "start_date = pd.Timestamp(\"2019-05-01\", tz=\"America/New_York\").isoformat()\n",
    "end_date = pd.Timestamp(\"2020-05-01\", tz=\"America/New_York\").isoformat()"
   ]
  },
  {
   "cell_type": "code",
   "execution_count": 115,
   "id": "8d603fe1-650a-4710-b033-54cde17a3127",
   "metadata": {},
   "outputs": [],
   "source": [
    "# Get 1 year's worth of historical data for Tesla and Coca-Cola\n",
    "prices_df = alpaca.get_bars(\n",
    "    tickers,\n",
    "    timeframe,\n",
    "    start=start_date,\n",
    "    end=end_date\n",
    ").df"
   ]
  },
  {
   "cell_type": "code",
   "execution_count": 116,
   "id": "8eef8166-059c-4995-a94e-4b5af0217a9f",
   "metadata": {},
   "outputs": [],
   "source": [
    "# Reorganize the DataFrame\n",
    "# Separate ticker data\n",
    "TSLA = prices_df[prices_df['symbol']=='TSLA'].drop('symbol', axis=1)\n",
    "KO = prices_df[prices_df['symbol']=='KO'].drop('symbol', axis=1)\n",
    "ZM = prices_df[prices_df['symbol']=='ZM'].drop('symbol', axis=1)"
   ]
  },
  {
   "cell_type": "code",
   "execution_count": 117,
   "id": "f746284f-96b9-4974-a643-3aa660d2a1cc",
   "metadata": {},
   "outputs": [],
   "source": [
    "# Concatenate the ticker DataFrames\n",
    "prices_df = pd.concat([TSLA, KO, ZM], axis=1, keys=[\"TSLA\", \"KO\", \"ZM\"])"
   ]
  },
  {
   "cell_type": "code",
   "execution_count": 119,
   "id": "def2059a-7262-4dfe-8d2f-e2b776ee85b5",
   "metadata": {},
   "outputs": [
    {
     "data": {
      "text/html": [
       "<div>\n",
       "<style scoped>\n",
       "    .dataframe tbody tr th:only-of-type {\n",
       "        vertical-align: middle;\n",
       "    }\n",
       "\n",
       "    .dataframe tbody tr th {\n",
       "        vertical-align: top;\n",
       "    }\n",
       "\n",
       "    .dataframe thead tr th {\n",
       "        text-align: left;\n",
       "    }\n",
       "\n",
       "    .dataframe thead tr:last-of-type th {\n",
       "        text-align: right;\n",
       "    }\n",
       "</style>\n",
       "<table border=\"1\" class=\"dataframe\">\n",
       "  <thead>\n",
       "    <tr>\n",
       "      <th></th>\n",
       "      <th colspan=\"7\" halign=\"left\">TSLA</th>\n",
       "      <th colspan=\"7\" halign=\"left\">KO</th>\n",
       "      <th colspan=\"7\" halign=\"left\">ZM</th>\n",
       "    </tr>\n",
       "    <tr>\n",
       "      <th></th>\n",
       "      <th>open</th>\n",
       "      <th>high</th>\n",
       "      <th>low</th>\n",
       "      <th>close</th>\n",
       "      <th>volume</th>\n",
       "      <th>trade_count</th>\n",
       "      <th>vwap</th>\n",
       "      <th>open</th>\n",
       "      <th>high</th>\n",
       "      <th>low</th>\n",
       "      <th>...</th>\n",
       "      <th>volume</th>\n",
       "      <th>trade_count</th>\n",
       "      <th>vwap</th>\n",
       "      <th>open</th>\n",
       "      <th>high</th>\n",
       "      <th>low</th>\n",
       "      <th>close</th>\n",
       "      <th>volume</th>\n",
       "      <th>trade_count</th>\n",
       "      <th>vwap</th>\n",
       "    </tr>\n",
       "    <tr>\n",
       "      <th>timestamp</th>\n",
       "      <th></th>\n",
       "      <th></th>\n",
       "      <th></th>\n",
       "      <th></th>\n",
       "      <th></th>\n",
       "      <th></th>\n",
       "      <th></th>\n",
       "      <th></th>\n",
       "      <th></th>\n",
       "      <th></th>\n",
       "      <th></th>\n",
       "      <th></th>\n",
       "      <th></th>\n",
       "      <th></th>\n",
       "      <th></th>\n",
       "      <th></th>\n",
       "      <th></th>\n",
       "      <th></th>\n",
       "      <th></th>\n",
       "      <th></th>\n",
       "      <th></th>\n",
       "    </tr>\n",
       "  </thead>\n",
       "  <tbody>\n",
       "    <tr>\n",
       "      <th>2019-05-01 04:00:00+00:00</th>\n",
       "      <td>238.85</td>\n",
       "      <td>240.0000</td>\n",
       "      <td>231.50</td>\n",
       "      <td>234.01</td>\n",
       "      <td>10704355</td>\n",
       "      <td>108382</td>\n",
       "      <td>234.544288</td>\n",
       "      <td>48.95</td>\n",
       "      <td>49.0750</td>\n",
       "      <td>48.55</td>\n",
       "      <td>...</td>\n",
       "      <td>10551594</td>\n",
       "      <td>55430</td>\n",
       "      <td>48.792137</td>\n",
       "      <td>72.72</td>\n",
       "      <td>76.95</td>\n",
       "      <td>70.8159</td>\n",
       "      <td>72.76</td>\n",
       "      <td>3301900</td>\n",
       "      <td>24222</td>\n",
       "      <td>74.231378</td>\n",
       "    </tr>\n",
       "    <tr>\n",
       "      <th>2019-05-02 04:00:00+00:00</th>\n",
       "      <td>245.65</td>\n",
       "      <td>247.1300</td>\n",
       "      <td>237.72</td>\n",
       "      <td>244.10</td>\n",
       "      <td>18167261</td>\n",
       "      <td>173521</td>\n",
       "      <td>242.763484</td>\n",
       "      <td>48.53</td>\n",
       "      <td>48.7657</td>\n",
       "      <td>48.27</td>\n",
       "      <td>...</td>\n",
       "      <td>8724932</td>\n",
       "      <td>49477</td>\n",
       "      <td>48.453170</td>\n",
       "      <td>72.75</td>\n",
       "      <td>75.89</td>\n",
       "      <td>69.6912</td>\n",
       "      <td>75.50</td>\n",
       "      <td>2525585</td>\n",
       "      <td>18048</td>\n",
       "      <td>72.558908</td>\n",
       "    </tr>\n",
       "    <tr>\n",
       "      <th>2019-05-03 04:00:00+00:00</th>\n",
       "      <td>244.00</td>\n",
       "      <td>256.6100</td>\n",
       "      <td>243.49</td>\n",
       "      <td>255.03</td>\n",
       "      <td>23740838</td>\n",
       "      <td>205076</td>\n",
       "      <td>252.330502</td>\n",
       "      <td>48.60</td>\n",
       "      <td>48.9600</td>\n",
       "      <td>48.52</td>\n",
       "      <td>...</td>\n",
       "      <td>7076949</td>\n",
       "      <td>39003</td>\n",
       "      <td>48.773171</td>\n",
       "      <td>75.00</td>\n",
       "      <td>80.25</td>\n",
       "      <td>75.0000</td>\n",
       "      <td>79.18</td>\n",
       "      <td>2590281</td>\n",
       "      <td>20668</td>\n",
       "      <td>78.298907</td>\n",
       "    </tr>\n",
       "    <tr>\n",
       "      <th>2019-05-06 04:00:00+00:00</th>\n",
       "      <td>250.00</td>\n",
       "      <td>258.3499</td>\n",
       "      <td>248.50</td>\n",
       "      <td>255.34</td>\n",
       "      <td>10860343</td>\n",
       "      <td>93066</td>\n",
       "      <td>254.021222</td>\n",
       "      <td>48.33</td>\n",
       "      <td>48.6100</td>\n",
       "      <td>48.26</td>\n",
       "      <td>...</td>\n",
       "      <td>8658209</td>\n",
       "      <td>44597</td>\n",
       "      <td>48.465858</td>\n",
       "      <td>75.01</td>\n",
       "      <td>80.79</td>\n",
       "      <td>74.5000</td>\n",
       "      <td>78.24</td>\n",
       "      <td>2051824</td>\n",
       "      <td>20419</td>\n",
       "      <td>78.125513</td>\n",
       "    </tr>\n",
       "    <tr>\n",
       "      <th>2019-05-07 04:00:00+00:00</th>\n",
       "      <td>256.80</td>\n",
       "      <td>257.2100</td>\n",
       "      <td>245.10</td>\n",
       "      <td>247.06</td>\n",
       "      <td>10261408</td>\n",
       "      <td>103693</td>\n",
       "      <td>249.863277</td>\n",
       "      <td>48.23</td>\n",
       "      <td>48.2900</td>\n",
       "      <td>47.77</td>\n",
       "      <td>...</td>\n",
       "      <td>12487481</td>\n",
       "      <td>59828</td>\n",
       "      <td>48.012280</td>\n",
       "      <td>77.85</td>\n",
       "      <td>78.05</td>\n",
       "      <td>73.2500</td>\n",
       "      <td>73.33</td>\n",
       "      <td>1975220</td>\n",
       "      <td>19517</td>\n",
       "      <td>75.579497</td>\n",
       "    </tr>\n",
       "  </tbody>\n",
       "</table>\n",
       "<p>5 rows × 21 columns</p>\n",
       "</div>"
      ],
      "text/plain": [
       "                             TSLA                                      \\\n",
       "                             open      high     low   close    volume   \n",
       "timestamp                                                               \n",
       "2019-05-01 04:00:00+00:00  238.85  240.0000  231.50  234.01  10704355   \n",
       "2019-05-02 04:00:00+00:00  245.65  247.1300  237.72  244.10  18167261   \n",
       "2019-05-03 04:00:00+00:00  244.00  256.6100  243.49  255.03  23740838   \n",
       "2019-05-06 04:00:00+00:00  250.00  258.3499  248.50  255.34  10860343   \n",
       "2019-05-07 04:00:00+00:00  256.80  257.2100  245.10  247.06  10261408   \n",
       "\n",
       "                                                      KO                  ...  \\\n",
       "                          trade_count        vwap   open     high    low  ...   \n",
       "timestamp                                                                 ...   \n",
       "2019-05-01 04:00:00+00:00      108382  234.544288  48.95  49.0750  48.55  ...   \n",
       "2019-05-02 04:00:00+00:00      173521  242.763484  48.53  48.7657  48.27  ...   \n",
       "2019-05-03 04:00:00+00:00      205076  252.330502  48.60  48.9600  48.52  ...   \n",
       "2019-05-06 04:00:00+00:00       93066  254.021222  48.33  48.6100  48.26  ...   \n",
       "2019-05-07 04:00:00+00:00      103693  249.863277  48.23  48.2900  47.77  ...   \n",
       "\n",
       "                                                               ZM         \\\n",
       "                             volume trade_count       vwap   open   high   \n",
       "timestamp                                                                  \n",
       "2019-05-01 04:00:00+00:00  10551594       55430  48.792137  72.72  76.95   \n",
       "2019-05-02 04:00:00+00:00   8724932       49477  48.453170  72.75  75.89   \n",
       "2019-05-03 04:00:00+00:00   7076949       39003  48.773171  75.00  80.25   \n",
       "2019-05-06 04:00:00+00:00   8658209       44597  48.465858  75.01  80.79   \n",
       "2019-05-07 04:00:00+00:00  12487481       59828  48.012280  77.85  78.05   \n",
       "\n",
       "                                                                           \n",
       "                               low  close   volume trade_count       vwap  \n",
       "timestamp                                                                  \n",
       "2019-05-01 04:00:00+00:00  70.8159  72.76  3301900       24222  74.231378  \n",
       "2019-05-02 04:00:00+00:00  69.6912  75.50  2525585       18048  72.558908  \n",
       "2019-05-03 04:00:00+00:00  75.0000  79.18  2590281       20668  78.298907  \n",
       "2019-05-06 04:00:00+00:00  74.5000  78.24  2051824       20419  78.125513  \n",
       "2019-05-07 04:00:00+00:00  73.2500  73.33  1975220       19517  75.579497  \n",
       "\n",
       "[5 rows x 21 columns]"
      ]
     },
     "metadata": {},
     "output_type": "display_data"
    },
    {
     "data": {
      "text/html": [
       "<div>\n",
       "<style scoped>\n",
       "    .dataframe tbody tr th:only-of-type {\n",
       "        vertical-align: middle;\n",
       "    }\n",
       "\n",
       "    .dataframe tbody tr th {\n",
       "        vertical-align: top;\n",
       "    }\n",
       "\n",
       "    .dataframe thead tr th {\n",
       "        text-align: left;\n",
       "    }\n",
       "\n",
       "    .dataframe thead tr:last-of-type th {\n",
       "        text-align: right;\n",
       "    }\n",
       "</style>\n",
       "<table border=\"1\" class=\"dataframe\">\n",
       "  <thead>\n",
       "    <tr>\n",
       "      <th></th>\n",
       "      <th colspan=\"7\" halign=\"left\">TSLA</th>\n",
       "      <th colspan=\"7\" halign=\"left\">KO</th>\n",
       "      <th colspan=\"7\" halign=\"left\">ZM</th>\n",
       "    </tr>\n",
       "    <tr>\n",
       "      <th></th>\n",
       "      <th>open</th>\n",
       "      <th>high</th>\n",
       "      <th>low</th>\n",
       "      <th>close</th>\n",
       "      <th>volume</th>\n",
       "      <th>trade_count</th>\n",
       "      <th>vwap</th>\n",
       "      <th>open</th>\n",
       "      <th>high</th>\n",
       "      <th>low</th>\n",
       "      <th>...</th>\n",
       "      <th>volume</th>\n",
       "      <th>trade_count</th>\n",
       "      <th>vwap</th>\n",
       "      <th>open</th>\n",
       "      <th>high</th>\n",
       "      <th>low</th>\n",
       "      <th>close</th>\n",
       "      <th>volume</th>\n",
       "      <th>trade_count</th>\n",
       "      <th>vwap</th>\n",
       "    </tr>\n",
       "    <tr>\n",
       "      <th>timestamp</th>\n",
       "      <th></th>\n",
       "      <th></th>\n",
       "      <th></th>\n",
       "      <th></th>\n",
       "      <th></th>\n",
       "      <th></th>\n",
       "      <th></th>\n",
       "      <th></th>\n",
       "      <th></th>\n",
       "      <th></th>\n",
       "      <th></th>\n",
       "      <th></th>\n",
       "      <th></th>\n",
       "      <th></th>\n",
       "      <th></th>\n",
       "      <th></th>\n",
       "      <th></th>\n",
       "      <th></th>\n",
       "      <th></th>\n",
       "      <th></th>\n",
       "      <th></th>\n",
       "    </tr>\n",
       "  </thead>\n",
       "  <tbody>\n",
       "    <tr>\n",
       "      <th>2020-04-27 04:00:00+00:00</th>\n",
       "      <td>737.61</td>\n",
       "      <td>799.4900</td>\n",
       "      <td>735.00</td>\n",
       "      <td>798.75</td>\n",
       "      <td>20681442</td>\n",
       "      <td>433976</td>\n",
       "      <td>783.972936</td>\n",
       "      <td>46.00</td>\n",
       "      <td>46.975</td>\n",
       "      <td>45.71</td>\n",
       "      <td>...</td>\n",
       "      <td>19175538</td>\n",
       "      <td>124750</td>\n",
       "      <td>46.501889</td>\n",
       "      <td>156.40</td>\n",
       "      <td>167.85</td>\n",
       "      <td>155.0000</td>\n",
       "      <td>164.60</td>\n",
       "      <td>19783693</td>\n",
       "      <td>195792</td>\n",
       "      <td>162.902187</td>\n",
       "    </tr>\n",
       "    <tr>\n",
       "      <th>2020-04-28 04:00:00+00:00</th>\n",
       "      <td>795.30</td>\n",
       "      <td>805.0000</td>\n",
       "      <td>756.69</td>\n",
       "      <td>769.12</td>\n",
       "      <td>15222719</td>\n",
       "      <td>313311</td>\n",
       "      <td>776.861887</td>\n",
       "      <td>47.90</td>\n",
       "      <td>48.000</td>\n",
       "      <td>46.57</td>\n",
       "      <td>...</td>\n",
       "      <td>17246696</td>\n",
       "      <td>119237</td>\n",
       "      <td>47.136381</td>\n",
       "      <td>165.00</td>\n",
       "      <td>166.00</td>\n",
       "      <td>155.2500</td>\n",
       "      <td>156.72</td>\n",
       "      <td>13477842</td>\n",
       "      <td>147692</td>\n",
       "      <td>159.360586</td>\n",
       "    </tr>\n",
       "    <tr>\n",
       "      <th>2020-04-29 04:00:00+00:00</th>\n",
       "      <td>791.68</td>\n",
       "      <td>803.1999</td>\n",
       "      <td>783.16</td>\n",
       "      <td>800.51</td>\n",
       "      <td>16215982</td>\n",
       "      <td>369253</td>\n",
       "      <td>806.509262</td>\n",
       "      <td>47.20</td>\n",
       "      <td>47.860</td>\n",
       "      <td>46.88</td>\n",
       "      <td>...</td>\n",
       "      <td>15780000</td>\n",
       "      <td>112218</td>\n",
       "      <td>47.381482</td>\n",
       "      <td>148.00</td>\n",
       "      <td>151.00</td>\n",
       "      <td>143.3800</td>\n",
       "      <td>146.48</td>\n",
       "      <td>22033690</td>\n",
       "      <td>219146</td>\n",
       "      <td>146.850471</td>\n",
       "    </tr>\n",
       "    <tr>\n",
       "      <th>2020-04-30 04:00:00+00:00</th>\n",
       "      <td>855.00</td>\n",
       "      <td>869.8200</td>\n",
       "      <td>763.50</td>\n",
       "      <td>781.88</td>\n",
       "      <td>28471861</td>\n",
       "      <td>615141</td>\n",
       "      <td>814.176323</td>\n",
       "      <td>46.80</td>\n",
       "      <td>47.000</td>\n",
       "      <td>45.70</td>\n",
       "      <td>...</td>\n",
       "      <td>20801092</td>\n",
       "      <td>142157</td>\n",
       "      <td>46.036240</td>\n",
       "      <td>140.00</td>\n",
       "      <td>143.80</td>\n",
       "      <td>133.6801</td>\n",
       "      <td>135.17</td>\n",
       "      <td>16682256</td>\n",
       "      <td>190729</td>\n",
       "      <td>137.123321</td>\n",
       "    </tr>\n",
       "    <tr>\n",
       "      <th>2020-05-01 04:00:00+00:00</th>\n",
       "      <td>755.00</td>\n",
       "      <td>772.7700</td>\n",
       "      <td>683.04</td>\n",
       "      <td>701.32</td>\n",
       "      <td>32531807</td>\n",
       "      <td>728692</td>\n",
       "      <td>719.404683</td>\n",
       "      <td>45.62</td>\n",
       "      <td>46.390</td>\n",
       "      <td>45.21</td>\n",
       "      <td>...</td>\n",
       "      <td>14290418</td>\n",
       "      <td>104457</td>\n",
       "      <td>45.640609</td>\n",
       "      <td>135.67</td>\n",
       "      <td>141.63</td>\n",
       "      <td>132.6700</td>\n",
       "      <td>138.56</td>\n",
       "      <td>13806992</td>\n",
       "      <td>150701</td>\n",
       "      <td>136.933247</td>\n",
       "    </tr>\n",
       "  </tbody>\n",
       "</table>\n",
       "<p>5 rows × 21 columns</p>\n",
       "</div>"
      ],
      "text/plain": [
       "                             TSLA                                      \\\n",
       "                             open      high     low   close    volume   \n",
       "timestamp                                                               \n",
       "2020-04-27 04:00:00+00:00  737.61  799.4900  735.00  798.75  20681442   \n",
       "2020-04-28 04:00:00+00:00  795.30  805.0000  756.69  769.12  15222719   \n",
       "2020-04-29 04:00:00+00:00  791.68  803.1999  783.16  800.51  16215982   \n",
       "2020-04-30 04:00:00+00:00  855.00  869.8200  763.50  781.88  28471861   \n",
       "2020-05-01 04:00:00+00:00  755.00  772.7700  683.04  701.32  32531807   \n",
       "\n",
       "                                                      KO                 ...  \\\n",
       "                          trade_count        vwap   open    high    low  ...   \n",
       "timestamp                                                                ...   \n",
       "2020-04-27 04:00:00+00:00      433976  783.972936  46.00  46.975  45.71  ...   \n",
       "2020-04-28 04:00:00+00:00      313311  776.861887  47.90  48.000  46.57  ...   \n",
       "2020-04-29 04:00:00+00:00      369253  806.509262  47.20  47.860  46.88  ...   \n",
       "2020-04-30 04:00:00+00:00      615141  814.176323  46.80  47.000  45.70  ...   \n",
       "2020-05-01 04:00:00+00:00      728692  719.404683  45.62  46.390  45.21  ...   \n",
       "\n",
       "                                                                ZM          \\\n",
       "                             volume trade_count       vwap    open    high   \n",
       "timestamp                                                                    \n",
       "2020-04-27 04:00:00+00:00  19175538      124750  46.501889  156.40  167.85   \n",
       "2020-04-28 04:00:00+00:00  17246696      119237  47.136381  165.00  166.00   \n",
       "2020-04-29 04:00:00+00:00  15780000      112218  47.381482  148.00  151.00   \n",
       "2020-04-30 04:00:00+00:00  20801092      142157  46.036240  140.00  143.80   \n",
       "2020-05-01 04:00:00+00:00  14290418      104457  45.640609  135.67  141.63   \n",
       "\n",
       "                                                                               \n",
       "                                low   close    volume trade_count        vwap  \n",
       "timestamp                                                                      \n",
       "2020-04-27 04:00:00+00:00  155.0000  164.60  19783693      195792  162.902187  \n",
       "2020-04-28 04:00:00+00:00  155.2500  156.72  13477842      147692  159.360586  \n",
       "2020-04-29 04:00:00+00:00  143.3800  146.48  22033690      219146  146.850471  \n",
       "2020-04-30 04:00:00+00:00  133.6801  135.17  16682256      190729  137.123321  \n",
       "2020-05-01 04:00:00+00:00  132.6700  138.56  13806992      150701  136.933247  \n",
       "\n",
       "[5 rows x 21 columns]"
      ]
     },
     "metadata": {},
     "output_type": "display_data"
    }
   ],
   "source": [
    "# Display sample data\n",
    "display(prices_df.head())\n",
    "display(prices_df.tail())"
   ]
  },
  {
   "cell_type": "code",
   "execution_count": 120,
   "id": "b2d12af0-c36f-469e-8e82-b2ea16ae14f7",
   "metadata": {},
   "outputs": [],
   "source": [
    "# Create an empty `closing_prices_df` DataFrame using Pandas\n",
    "closing_prices_df = pd.DataFrame()"
   ]
  },
  {
   "cell_type": "code",
   "execution_count": 121,
   "id": "81de2f6b-9442-4385-9258-b4cce8f7d8b9",
   "metadata": {},
   "outputs": [],
   "source": [
    "# Populate the `closing_prices_df` DataFrame by accessing the `close` column\n",
    "# from the `prices_df` DataFrame for both KO and TSLA .\n",
    "closing_prices_df[\"KO\"] = prices_df[\"KO\"][\"close\"]\n",
    "closing_prices_df[\"TSLA\"] = prices_df[\"TSLA\"][\"close\"]"
   ]
  },
  {
   "cell_type": "code",
   "execution_count": 122,
   "id": "a220ad4e-adeb-42df-97b5-ec87dc2988c3",
   "metadata": {},
   "outputs": [],
   "source": [
    "# Update the index for the `closing_prices_df` DataFrame\n",
    "# to retain only the `date` component.\n",
    "closing_prices_df.index = closing_prices_df.index.date"
   ]
  },
  {
   "cell_type": "code",
   "execution_count": 123,
   "id": "2918fe16-8260-4926-98c1-32ad705953b5",
   "metadata": {},
   "outputs": [],
   "source": [
    "# Compute the `daily_returns_df` DataFrame by chaining\n",
    "# the pct_change function with the dropna function.\n",
    "daily_returns_df = closing_prices_df.pct_change().dropna()"
   ]
  },
  {
   "cell_type": "code",
   "execution_count": 124,
   "id": "6e462cfa-dd7d-4d36-bbbe-5bcfd5471718",
   "metadata": {},
   "outputs": [
    {
     "data": {
      "text/html": [
       "<div>\n",
       "<style scoped>\n",
       "    .dataframe tbody tr th:only-of-type {\n",
       "        vertical-align: middle;\n",
       "    }\n",
       "\n",
       "    .dataframe tbody tr th {\n",
       "        vertical-align: top;\n",
       "    }\n",
       "\n",
       "    .dataframe thead th {\n",
       "        text-align: right;\n",
       "    }\n",
       "</style>\n",
       "<table border=\"1\" class=\"dataframe\">\n",
       "  <thead>\n",
       "    <tr style=\"text-align: right;\">\n",
       "      <th></th>\n",
       "      <th>KO</th>\n",
       "      <th>TSLA</th>\n",
       "    </tr>\n",
       "  </thead>\n",
       "  <tbody>\n",
       "    <tr>\n",
       "      <th>2019-05-02</th>\n",
       "      <td>-0.004116</td>\n",
       "      <td>0.043118</td>\n",
       "    </tr>\n",
       "    <tr>\n",
       "      <th>2019-05-03</th>\n",
       "      <td>0.006820</td>\n",
       "      <td>0.044777</td>\n",
       "    </tr>\n",
       "    <tr>\n",
       "      <th>2019-05-06</th>\n",
       "      <td>-0.005131</td>\n",
       "      <td>0.001216</td>\n",
       "    </tr>\n",
       "    <tr>\n",
       "      <th>2019-05-07</th>\n",
       "      <td>-0.009697</td>\n",
       "      <td>-0.032427</td>\n",
       "    </tr>\n",
       "    <tr>\n",
       "      <th>2019-05-08</th>\n",
       "      <td>-0.003125</td>\n",
       "      <td>-0.008986</td>\n",
       "    </tr>\n",
       "  </tbody>\n",
       "</table>\n",
       "</div>"
      ],
      "text/plain": [
       "                  KO      TSLA\n",
       "2019-05-02 -0.004116  0.043118\n",
       "2019-05-03  0.006820  0.044777\n",
       "2019-05-06 -0.005131  0.001216\n",
       "2019-05-07 -0.009697 -0.032427\n",
       "2019-05-08 -0.003125 -0.008986"
      ]
     },
     "metadata": {},
     "output_type": "display_data"
    },
    {
     "data": {
      "text/html": [
       "<div>\n",
       "<style scoped>\n",
       "    .dataframe tbody tr th:only-of-type {\n",
       "        vertical-align: middle;\n",
       "    }\n",
       "\n",
       "    .dataframe tbody tr th {\n",
       "        vertical-align: top;\n",
       "    }\n",
       "\n",
       "    .dataframe thead th {\n",
       "        text-align: right;\n",
       "    }\n",
       "</style>\n",
       "<table border=\"1\" class=\"dataframe\">\n",
       "  <thead>\n",
       "    <tr style=\"text-align: right;\">\n",
       "      <th></th>\n",
       "      <th>KO</th>\n",
       "      <th>TSLA</th>\n",
       "    </tr>\n",
       "  </thead>\n",
       "  <tbody>\n",
       "    <tr>\n",
       "      <th>2020-04-27</th>\n",
       "      <td>0.029716</td>\n",
       "      <td>0.101496</td>\n",
       "    </tr>\n",
       "    <tr>\n",
       "      <th>2020-04-28</th>\n",
       "      <td>-0.000855</td>\n",
       "      <td>-0.037095</td>\n",
       "    </tr>\n",
       "    <tr>\n",
       "      <th>2020-04-29</th>\n",
       "      <td>0.008130</td>\n",
       "      <td>0.040813</td>\n",
       "    </tr>\n",
       "    <tr>\n",
       "      <th>2020-04-30</th>\n",
       "      <td>-0.026104</td>\n",
       "      <td>-0.023273</td>\n",
       "    </tr>\n",
       "    <tr>\n",
       "      <th>2020-05-01</th>\n",
       "      <td>-0.006319</td>\n",
       "      <td>-0.103034</td>\n",
       "    </tr>\n",
       "  </tbody>\n",
       "</table>\n",
       "</div>"
      ],
      "text/plain": [
       "                  KO      TSLA\n",
       "2020-04-27  0.029716  0.101496\n",
       "2020-04-28 -0.000855 -0.037095\n",
       "2020-04-29  0.008130  0.040813\n",
       "2020-04-30 -0.026104 -0.023273\n",
       "2020-05-01 -0.006319 -0.103034"
      ]
     },
     "metadata": {},
     "output_type": "display_data"
    }
   ],
   "source": [
    "# Display both the head and tail of the `daily_returns_df` DataFrame\n",
    "display(daily_returns_df.head())\n",
    "display(daily_returns_df.tail())"
   ]
  },
  {
   "cell_type": "code",
   "execution_count": 125,
   "id": "a6bfbcd6-f346-4285-b118-b03363ca5484",
   "metadata": {},
   "outputs": [],
   "source": [
    "#Next, to get an overview of the distribution of these values, we’ll generate summary statistics"
   ]
  },
  {
   "cell_type": "code",
   "execution_count": 126,
   "id": "44f7079c-a6f1-4798-bfbd-598b50b572f0",
   "metadata": {},
   "outputs": [
    {
     "data": {
      "text/html": [
       "<div>\n",
       "<style scoped>\n",
       "    .dataframe tbody tr th:only-of-type {\n",
       "        vertical-align: middle;\n",
       "    }\n",
       "\n",
       "    .dataframe tbody tr th {\n",
       "        vertical-align: top;\n",
       "    }\n",
       "\n",
       "    .dataframe thead th {\n",
       "        text-align: right;\n",
       "    }\n",
       "</style>\n",
       "<table border=\"1\" class=\"dataframe\">\n",
       "  <thead>\n",
       "    <tr style=\"text-align: right;\">\n",
       "      <th></th>\n",
       "      <th>KO</th>\n",
       "      <th>TSLA</th>\n",
       "    </tr>\n",
       "  </thead>\n",
       "  <tbody>\n",
       "    <tr>\n",
       "      <th>count</th>\n",
       "      <td>253.000000</td>\n",
       "      <td>253.000000</td>\n",
       "    </tr>\n",
       "    <tr>\n",
       "      <th>mean</th>\n",
       "      <td>-0.000056</td>\n",
       "      <td>0.005515</td>\n",
       "    </tr>\n",
       "    <tr>\n",
       "      <th>std</th>\n",
       "      <td>0.019682</td>\n",
       "      <td>0.048388</td>\n",
       "    </tr>\n",
       "    <tr>\n",
       "      <th>min</th>\n",
       "      <td>-0.096725</td>\n",
       "      <td>-0.185778</td>\n",
       "    </tr>\n",
       "    <tr>\n",
       "      <th>25%</th>\n",
       "      <td>-0.006709</td>\n",
       "      <td>-0.011681</td>\n",
       "    </tr>\n",
       "    <tr>\n",
       "      <th>50%</th>\n",
       "      <td>0.000192</td>\n",
       "      <td>0.004019</td>\n",
       "    </tr>\n",
       "    <tr>\n",
       "      <th>75%</th>\n",
       "      <td>0.006820</td>\n",
       "      <td>0.024596</td>\n",
       "    </tr>\n",
       "    <tr>\n",
       "      <th>max</th>\n",
       "      <td>0.064796</td>\n",
       "      <td>0.198949</td>\n",
       "    </tr>\n",
       "  </tbody>\n",
       "</table>\n",
       "</div>"
      ],
      "text/plain": [
       "               KO        TSLA\n",
       "count  253.000000  253.000000\n",
       "mean    -0.000056    0.005515\n",
       "std      0.019682    0.048388\n",
       "min     -0.096725   -0.185778\n",
       "25%     -0.006709   -0.011681\n",
       "50%      0.000192    0.004019\n",
       "75%      0.006820    0.024596\n",
       "max      0.064796    0.198949"
      ]
     },
     "execution_count": 126,
     "metadata": {},
     "output_type": "execute_result"
    }
   ],
   "source": [
    "# Generate summary statistics for the `daily_returns_df` DataFrame\n",
    "daily_returns_df.describe()"
   ]
  },
  {
   "cell_type": "code",
   "execution_count": 127,
   "id": "e96f5bff-97f8-4e59-96e5-fc8c46e863ab",
   "metadata": {},
   "outputs": [],
   "source": [
    "# focus on in the summary statistics is the standard deviation (std).\n",
    "# A large standard deviation indicates that values lie further away from the mean. "
   ]
  },
  {
   "cell_type": "code",
   "execution_count": 128,
   "id": "b435b466-fcf2-4560-a278-7ae191dddf95",
   "metadata": {},
   "outputs": [],
   "source": [
    "#Plot the Probability Distribution\n",
    "#We visualize a probability distribution by plotting a Pandas histogram.\n",
    "#A histogram is a visualization that displays how often the different values appear in a DataFrame."
   ]
  },
  {
   "cell_type": "code",
   "execution_count": 129,
   "id": "57517d56-5219-4b21-89b3-feef46189d4a",
   "metadata": {},
   "outputs": [
    {
     "data": {
      "text/plain": [
       "<AxesSubplot:title={'center':'TSLA Probability Distribution'}, ylabel='Frequency'>"
      ]
     },
     "execution_count": 129,
     "metadata": {},
     "output_type": "execute_result"
    },
    {
     "data": {
      "image/png": "[encoded data removed]",
      "text/plain": [
       "<Figure size 432x288 with 1 Axes>"
      ]
     },
     "metadata": {
      "needs_background": "light"
     },
     "output_type": "display_data"
    }
   ],
   "source": [
    "# Visualize distribution of Tesla percent change in closing price using a histogram plot\n",
    "daily_returns_df[\"TSLA\"].plot.hist(title='TSLA Probability Distribution')"
   ]
  },
  {
   "cell_type": "code",
   "execution_count": 130,
   "id": "32f39f2e-a896-4f1d-a520-a07ada572f6e",
   "metadata": {},
   "outputs": [
    {
     "data": {
      "text/plain": [
       "<AxesSubplot:title={'center':'KO Probability Distribution'}, ylabel='Frequency'>"
      ]
     },
     "execution_count": 130,
     "metadata": {},
     "output_type": "execute_result"
    },
    {
     "data": {
      "image/png": "[encoded data removed]",
      "text/plain": [
       "<Figure size 432x288 with 1 Axes>"
      ]
     },
     "metadata": {
      "needs_background": "light"
     },
     "output_type": "display_data"
    }
   ],
   "source": [
    "# Visualize distribution of Coca-Cola percent change in closing price using a histogram plot\n",
    "daily_returns_df[\"KO\"].plot.hist(title='KO Probability Distribution')"
   ]
  },
  {
   "cell_type": "code",
   "execution_count": 131,
   "id": "f6e2fea5-a691-42e7-9099-11741059a788",
   "metadata": {},
   "outputs": [
    {
     "data": {
      "text/plain": [
       "<AxesSubplot:title={'center':'Density Plot for KO & TSLA'}, ylabel='Density'>"
      ]
     },
     "execution_count": 131,
     "metadata": {},
     "output_type": "execute_result"
    },
    {
     "data": {
      "image/png": "[encoded data removed]",
      "text/plain": [
       "<Figure size 432x288 with 1 Axes>"
      ]
     },
     "metadata": {
      "needs_background": "light"
     },
     "output_type": "display_data"
    }
   ],
   "source": [
    "# Visualize the distribution of daily returns data for both KO and TSLA\n",
    "# by calling the plot.density function on the daily_returns_df DataFrame.\n",
    "daily_returns_df.plot.density(title='Density Plot for KO & TSLA')"
   ]
  },
  {
   "cell_type": "code",
   "execution_count": 132,
   "id": "c5d413b8-e2a1-4950-90ac-9dc235402fac",
   "metadata": {},
   "outputs": [],
   "source": [
    "# Create an empty `closing_prices_df` DataFrame using Pandas\n",
    "closing_prices_df = pd.DataFrame()"
   ]
  },
  {
   "cell_type": "code",
   "execution_count": 133,
   "id": "29eb7f2b-d190-4080-a8e8-bcf80eb1acd8",
   "metadata": {},
   "outputs": [],
   "source": [
    "# Populate the `closing_prices_df` DataFrame by accessing the `close` column\n",
    "# from the `prices_df` DataFrame for both KO and TSLA .\n",
    "closing_prices_df[\"ZM\"] = prices_df[\"ZM\"][\"close\"]\n"
   ]
  },
  {
   "cell_type": "code",
   "execution_count": 134,
   "id": "e776345f-e20e-4836-8e5a-d4ffa2283a06",
   "metadata": {},
   "outputs": [],
   "source": [
    "# Update the index for the `closing_prices_df` DataFrame\n",
    "# to retain only the `date` component.\n",
    "closing_prices_df.index = closing_prices_df.index.date"
   ]
  },
  {
   "cell_type": "code",
   "execution_count": 135,
   "id": "5661fae1-daf3-4881-955d-5441b002c455",
   "metadata": {},
   "outputs": [],
   "source": [
    "# Compute the `daily_returns_df` DataFrame by chaining\n",
    "# the pct_change function with the dropna function.\n",
    "daily_returns_df = closing_prices_df.pct_change().dropna()"
   ]
  },
  {
   "cell_type": "code",
   "execution_count": 136,
   "id": "f1e7a03c-71b3-4c1d-8a17-b175ea5dfcc5",
   "metadata": {},
   "outputs": [
    {
     "data": {
      "text/html": [
       "<div>\n",
       "<style scoped>\n",
       "    .dataframe tbody tr th:only-of-type {\n",
       "        vertical-align: middle;\n",
       "    }\n",
       "\n",
       "    .dataframe tbody tr th {\n",
       "        vertical-align: top;\n",
       "    }\n",
       "\n",
       "    .dataframe thead th {\n",
       "        text-align: right;\n",
       "    }\n",
       "</style>\n",
       "<table border=\"1\" class=\"dataframe\">\n",
       "  <thead>\n",
       "    <tr style=\"text-align: right;\">\n",
       "      <th></th>\n",
       "      <th>ZM</th>\n",
       "    </tr>\n",
       "  </thead>\n",
       "  <tbody>\n",
       "    <tr>\n",
       "      <th>2019-05-02</th>\n",
       "      <td>0.037658</td>\n",
       "    </tr>\n",
       "    <tr>\n",
       "      <th>2019-05-03</th>\n",
       "      <td>0.048742</td>\n",
       "    </tr>\n",
       "    <tr>\n",
       "      <th>2019-05-06</th>\n",
       "      <td>-0.011872</td>\n",
       "    </tr>\n",
       "    <tr>\n",
       "      <th>2019-05-07</th>\n",
       "      <td>-0.062756</td>\n",
       "    </tr>\n",
       "    <tr>\n",
       "      <th>2019-05-08</th>\n",
       "      <td>0.059321</td>\n",
       "    </tr>\n",
       "  </tbody>\n",
       "</table>\n",
       "</div>"
      ],
      "text/plain": [
       "                  ZM\n",
       "2019-05-02  0.037658\n",
       "2019-05-03  0.048742\n",
       "2019-05-06 -0.011872\n",
       "2019-05-07 -0.062756\n",
       "2019-05-08  0.059321"
      ]
     },
     "metadata": {},
     "output_type": "display_data"
    },
    {
     "data": {
      "text/html": [
       "<div>\n",
       "<style scoped>\n",
       "    .dataframe tbody tr th:only-of-type {\n",
       "        vertical-align: middle;\n",
       "    }\n",
       "\n",
       "    .dataframe tbody tr th {\n",
       "        vertical-align: top;\n",
       "    }\n",
       "\n",
       "    .dataframe thead th {\n",
       "        text-align: right;\n",
       "    }\n",
       "</style>\n",
       "<table border=\"1\" class=\"dataframe\">\n",
       "  <thead>\n",
       "    <tr style=\"text-align: right;\">\n",
       "      <th></th>\n",
       "      <th>ZM</th>\n",
       "    </tr>\n",
       "  </thead>\n",
       "  <tbody>\n",
       "    <tr>\n",
       "      <th>2020-04-27</th>\n",
       "      <td>0.036524</td>\n",
       "    </tr>\n",
       "    <tr>\n",
       "      <th>2020-04-28</th>\n",
       "      <td>-0.047874</td>\n",
       "    </tr>\n",
       "    <tr>\n",
       "      <th>2020-04-29</th>\n",
       "      <td>-0.065339</td>\n",
       "    </tr>\n",
       "    <tr>\n",
       "      <th>2020-04-30</th>\n",
       "      <td>-0.077212</td>\n",
       "    </tr>\n",
       "    <tr>\n",
       "      <th>2020-05-01</th>\n",
       "      <td>0.025080</td>\n",
       "    </tr>\n",
       "  </tbody>\n",
       "</table>\n",
       "</div>"
      ],
      "text/plain": [
       "                  ZM\n",
       "2020-04-27  0.036524\n",
       "2020-04-28 -0.047874\n",
       "2020-04-29 -0.065339\n",
       "2020-04-30 -0.077212\n",
       "2020-05-01  0.025080"
      ]
     },
     "metadata": {},
     "output_type": "display_data"
    }
   ],
   "source": [
    "# Display both the head and tail of the `daily_returns_df` DataFrame\n",
    "display(daily_returns_df.head())\n",
    "display(daily_returns_df.tail())"
   ]
  },
  {
   "cell_type": "code",
   "execution_count": 146,
   "id": "f7ba09ab-6e9b-444e-9218-cb18ea706a49",
   "metadata": {
    "tags": []
   },
   "outputs": [
    {
     "data": {
      "text/html": [
       "<div>\n",
       "<style scoped>\n",
       "    .dataframe tbody tr th:only-of-type {\n",
       "        vertical-align: middle;\n",
       "    }\n",
       "\n",
       "    .dataframe tbody tr th {\n",
       "        vertical-align: top;\n",
       "    }\n",
       "\n",
       "    .dataframe thead th {\n",
       "        text-align: right;\n",
       "    }\n",
       "</style>\n",
       "<table border=\"1\" class=\"dataframe\">\n",
       "  <thead>\n",
       "    <tr style=\"text-align: right;\">\n",
       "      <th></th>\n",
       "      <th>ZM</th>\n",
       "    </tr>\n",
       "  </thead>\n",
       "  <tbody>\n",
       "    <tr>\n",
       "      <th>count</th>\n",
       "      <td>253.000000</td>\n",
       "    </tr>\n",
       "    <tr>\n",
       "      <th>mean</th>\n",
       "      <td>0.003493</td>\n",
       "    </tr>\n",
       "    <tr>\n",
       "      <th>std</th>\n",
       "      <td>0.043875</td>\n",
       "    </tr>\n",
       "    <tr>\n",
       "      <th>min</th>\n",
       "      <td>-0.152795</td>\n",
       "    </tr>\n",
       "    <tr>\n",
       "      <th>25%</th>\n",
       "      <td>-0.017709</td>\n",
       "    </tr>\n",
       "    <tr>\n",
       "      <th>50%</th>\n",
       "      <td>0.000965</td>\n",
       "    </tr>\n",
       "    <tr>\n",
       "      <th>75%</th>\n",
       "      <td>0.021675</td>\n",
       "    </tr>\n",
       "    <tr>\n",
       "      <th>max</th>\n",
       "      <td>0.222214</td>\n",
       "    </tr>\n",
       "  </tbody>\n",
       "</table>\n",
       "</div>"
      ],
      "text/plain": [
       "               ZM\n",
       "count  253.000000\n",
       "mean     0.003493\n",
       "std      0.043875\n",
       "min     -0.152795\n",
       "25%     -0.017709\n",
       "50%      0.000965\n",
       "75%      0.021675\n",
       "max      0.222214"
      ]
     },
     "execution_count": 146,
     "metadata": {},
     "output_type": "execute_result"
    }
   ],
   "source": [
    "# Generate descriptive statistics\n",
    "daily_returns_df.describe()\n",
    "\n"
   ]
  },
  {
   "cell_type": "code",
   "execution_count": 147,
   "id": "974b4cb3-c782-405d-97bb-168e2bc85a40",
   "metadata": {
    "tags": []
   },
   "outputs": [
    {
     "data": {
      "text/plain": [
       "<AxesSubplot:title={'center':'Zoom Probability Distribution'}, ylabel='Frequency'>"
      ]
     },
     "execution_count": 147,
     "metadata": {},
     "output_type": "execute_result"
    },
    {
     "data": {
      "image/png": "[encoded data removed]",
      "text/plain": [
       "<Figure size 432x288 with 1 Axes>"
      ]
     },
     "metadata": {
      "needs_background": "light"
     },
     "output_type": "display_data"
    }
   ],
   "source": [
    "# Visualize distribution of Zoom percent change in closing price using a histogram plot\n",
    "daily_returns_df[\"ZM\"].plot(kind='hist', title='Zoom Probability Distribution')"
   ]
  },
  {
   "cell_type": "code",
   "execution_count": 154,
   "id": "c44f1abb-9a2d-41de-885e-5bbfd640a473",
   "metadata": {},
   "outputs": [
    {
     "ename": "NameError",
     "evalue": "name 'MCForecastTools' is not defined",
     "output_type": "error",
     "traceback": [
      "\u001b[1;31m---------------------------------------------------------------------------\u001b[0m",
      "\u001b[1;31mNameError\u001b[0m                                 Traceback (most recent call last)",
      "\u001b[1;32m~\\AppData\\Local\\Temp\\ipykernel_6908\\1618507522.py\u001b[0m in \u001b[0;36m<module>\u001b[1;34m\u001b[0m\n\u001b[1;32m----> 1\u001b[1;33m \u001b[0mMCForecastTools\u001b[0m\u001b[1;33m.\u001b[0m\u001b[0mpy\u001b[0m\u001b[1;33m\u001b[0m\u001b[1;33m\u001b[0m\u001b[0m\n\u001b[0m",
      "\u001b[1;31mNameError\u001b[0m: name 'MCForecastTools' is not defined"
     ]
    }
   ],
   "source": [
    "MCForecastTools.py"
   ]
  },
  {
   "cell_type": "code",
   "execution_count": 153,
   "id": "2b22ec88-f46b-46d0-b4d0-d10006d16406",
   "metadata": {
    "tags": []
   },
   "outputs": [
    {
     "ename": "ModuleNotFoundError",
     "evalue": "No module named 'MCForecastTools'",
     "output_type": "error",
     "traceback": [
      "\u001b[1;31m---------------------------------------------------------------------------\u001b[0m",
      "\u001b[1;31mModuleNotFoundError\u001b[0m                       Traceback (most recent call last)",
      "\u001b[1;32m~\\AppData\\Local\\Temp\\ipykernel_6908\\138659614.py\u001b[0m in \u001b[0;36m<module>\u001b[1;34m\u001b[0m\n\u001b[0;32m      1\u001b[0m \u001b[1;31m# Import the MCSimulation module from the MCForecastTools library file\u001b[0m\u001b[1;33m\u001b[0m\u001b[1;33m\u001b[0m\u001b[1;33m\u001b[0m\u001b[0m\n\u001b[1;32m----> 2\u001b[1;33m \u001b[1;32mfrom\u001b[0m \u001b[0mMCForecastTools\u001b[0m \u001b[1;32mimport\u001b[0m \u001b[0mMCSimulation\u001b[0m\u001b[1;33m\u001b[0m\u001b[1;33m\u001b[0m\u001b[0m\n\u001b[0m",
      "\u001b[1;31mModuleNotFoundError\u001b[0m: No module named 'MCForecastTools'"
     ]
    }
   ],
   "source": [
    "# Import the MCSimulation module from the MCForecastTools library file\n",
    "from MCForecastTools import MCSimulation"
   ]
  },
  {
   "cell_type": "code",
   "execution_count": 149,
   "id": "82026a98-b997-4a97-8874-00b024272208",
   "metadata": {},
   "outputs": [
    {
     "name": "stdout",
     "output_type": "stream",
     "text": [
      "Object `MCSimulation` not found.\n"
     ]
    }
   ],
   "source": [
    "# Print the documentation of the MCSimulation module of the MCForecastTools library\n",
    "?MCSimulation"
   ]
  },
  {
   "cell_type": "code",
   "execution_count": null,
   "id": "f2156a67-db91-45e7-9eb9-5a9226866152",
   "metadata": {},
   "outputs": [],
   "source": []
  }
 ],
 "metadata": {
  "kernelspec": {
   "display_name": "Python 3 (ipykernel)",
   "language": "python",
   "name": "python3"
  },
  "language_info": {
   "codemirror_mode": {
    "name": "ipython",
    "version": 3
   },
   "file_extension": ".py",
   "mimetype": "text/x-python",
   "name": "python",
   "nbconvert_exporter": "python",
   "pygments_lexer": "ipython3",
   "version": "3.7.13"
  }
 },
 "nbformat": 4,
 "nbformat_minor": 5
}
