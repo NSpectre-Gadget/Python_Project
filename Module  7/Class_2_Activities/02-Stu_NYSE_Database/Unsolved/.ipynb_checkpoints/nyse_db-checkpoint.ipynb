{
 "cells": [
  {
   "cell_type": "markdown",
   "metadata": {},
   "source": [
    "# NYSE DataFrames and Databases\n",
    "\n",
    "In this activity, you will read, clean and load data to a database table. \n",
    "\n",
    "## Instructions\n",
    "\n",
    "### Create the Pandas DataFrame\n",
    "\n",
    "1. Import the modules for Pandas, the Path, and SQLAlchemy.\n",
    "2. Read the `nyse_companylist.csv` file from the Resources folder into a Pandas DataFrame called `nyse_df`. Review the DataFrame.\n",
    "3. Check the data types (`dtypes`) of each column in the DataFrame.\n",
    "\n",
    "### Clean the Pandas DataFrame\n",
    "\n",
    "1. Apply the provided `clean_currency` function to the 'MarketCap' column of the `nyse_df` DataFrame.\n",
    "\n",
    "  * The `clean_currency` function performs the following actions:\n",
    "    -Removes non-numeric characters (ie '\\$', 'M', and 'B') from the data entry\n",
    "    -Converts the value to a float\n",
    "    -Scales the data according to the suffixes 'M' and 'B'\n",
    "    -Returns the cleaned and scaled data entry\n",
    "\n",
    "2. Review the contents of the 'MarketCap' column to confirm that data has been cleaned as expected.\n",
    "\n",
    "### Load the DataFrame into a SQLite Database\n",
    "\n",
    "1. Create a database connection string that loads the SQLite database called `nyse.db` into the Resources folder.\n",
    "2. Create a [database engine](https://docs.sqlalchemy.org/en/14/core/engines.html) called `nyse_engine`. Be sure to include the `echo=True` parameter.\n",
    "3. Using the Pandas [`to_sql`](https://pandas.pydata.org/pandas-docs/stable/reference/api/pandas.DataFrame.to_sql.html) function, write the `nyse_df` DataFrame to a table called `NYSE` in the `nyse.db`. Be sure to include the parameters for `index` and `if_exists`.\n",
    "4. Get the table name from the database to confirm it was created.\n",
    "\n",
    "### Query the SQL Database\n",
    "\n",
    "1. Write a SQL query to select all companies in the Technology sector AND in the Software industry AND that have a market cap greater than 30 billion USD.\n",
    "2. Using the Pandas [`read_sql_query`](https://pandas.pydata.org/pandas-docs/stable/reference/api/pandas.read_sql_query.html) execute the SQL query and assign the results to a new Pandas DataFrame called `nyse_tech_companies_df`.\n",
    "3. Review the DataFrame.\n",
    "\n"
   ]
  },
  {
   "cell_type": "markdown",
   "metadata": {},
   "source": [
    "## Create the Pandas DataFrame"
   ]
  },
  {
   "cell_type": "markdown",
   "metadata": {},
   "source": [
    "### 1. Import the modules for Pandas, the Path, and SQLAlchemy."
   ]
  },
  {
   "cell_type": "code",
   "execution_count": 26,
   "metadata": {},
   "outputs": [],
   "source": [
    "# Import modules\n",
    "import pandas as pd\n",
    "import sqlalchemy as sql\n",
    "from pathlib import Path\n"
   ]
  },
  {
   "cell_type": "markdown",
   "metadata": {},
   "source": [
    "### 2. Read the `nyse_companylist.csv` file from the Resources folder into a Pandas DataFrame called `nyse_df`. Review the DataFrame."
   ]
  },
  {
   "cell_type": "code",
   "execution_count": 27,
   "metadata": {},
   "outputs": [
    {
     "data": {
      "text/html": [
       "<div>\n",
       "<style scoped>\n",
       "    .dataframe tbody tr th:only-of-type {\n",
       "        vertical-align: middle;\n",
       "    }\n",
       "\n",
       "    .dataframe tbody tr th {\n",
       "        vertical-align: top;\n",
       "    }\n",
       "\n",
       "    .dataframe thead th {\n",
       "        text-align: right;\n",
       "    }\n",
       "</style>\n",
       "<table border=\"1\" class=\"dataframe\">\n",
       "  <thead>\n",
       "    <tr style=\"text-align: right;\">\n",
       "      <th></th>\n",
       "      <th>Symbol</th>\n",
       "      <th>Name</th>\n",
       "      <th>LastSale</th>\n",
       "      <th>MarketCap</th>\n",
       "      <th>IPOyear</th>\n",
       "      <th>Sector</th>\n",
       "      <th>industry</th>\n",
       "      <th>Summary Quote</th>\n",
       "      <th>Unnamed: 8</th>\n",
       "    </tr>\n",
       "  </thead>\n",
       "  <tbody>\n",
       "    <tr>\n",
       "      <th>0</th>\n",
       "      <td>DDD</td>\n",
       "      <td>3D Systems Corporation</td>\n",
       "      <td>4.79</td>\n",
       "      <td>$580.24M</td>\n",
       "      <td>NaN</td>\n",
       "      <td>Technology</td>\n",
       "      <td>Computer Software: Prepackaged Software</td>\n",
       "      <td>https://old.nasdaq.com/symbol/ddd</td>\n",
       "      <td>NaN</td>\n",
       "    </tr>\n",
       "    <tr>\n",
       "      <th>1</th>\n",
       "      <td>MMM</td>\n",
       "      <td>3M Company</td>\n",
       "      <td>161.66</td>\n",
       "      <td>$93.12B</td>\n",
       "      <td>NaN</td>\n",
       "      <td>Health Care</td>\n",
       "      <td>Medical/Dental Instruments</td>\n",
       "      <td>https://old.nasdaq.com/symbol/mmm</td>\n",
       "      <td>NaN</td>\n",
       "    </tr>\n",
       "    <tr>\n",
       "      <th>2</th>\n",
       "      <td>WBAI</td>\n",
       "      <td>500.com Limited</td>\n",
       "      <td>2.94</td>\n",
       "      <td>$126.42M</td>\n",
       "      <td>2013.0</td>\n",
       "      <td>Consumer Services</td>\n",
       "      <td>Services-Misc. Amusement &amp; Recreation</td>\n",
       "      <td>https://old.nasdaq.com/symbol/wbai</td>\n",
       "      <td>NaN</td>\n",
       "    </tr>\n",
       "    <tr>\n",
       "      <th>3</th>\n",
       "      <td>EGHT</td>\n",
       "      <td>8x8 Inc</td>\n",
       "      <td>15.71</td>\n",
       "      <td>$1.64B</td>\n",
       "      <td>NaN</td>\n",
       "      <td>Technology</td>\n",
       "      <td>EDP Services</td>\n",
       "      <td>https://old.nasdaq.com/symbol/eght</td>\n",
       "      <td>NaN</td>\n",
       "    </tr>\n",
       "    <tr>\n",
       "      <th>4</th>\n",
       "      <td>AHC</td>\n",
       "      <td>A.H. Belo Corporation</td>\n",
       "      <td>1.39</td>\n",
       "      <td>$33.19M</td>\n",
       "      <td>NaN</td>\n",
       "      <td>Consumer Services</td>\n",
       "      <td>Newspapers/Magazines</td>\n",
       "      <td>https://old.nasdaq.com/symbol/ahc</td>\n",
       "      <td>NaN</td>\n",
       "    </tr>\n",
       "    <tr>\n",
       "      <th>...</th>\n",
       "      <td>...</td>\n",
       "      <td>...</td>\n",
       "      <td>...</td>\n",
       "      <td>...</td>\n",
       "      <td>...</td>\n",
       "      <td>...</td>\n",
       "      <td>...</td>\n",
       "      <td>...</td>\n",
       "      <td>...</td>\n",
       "    </tr>\n",
       "    <tr>\n",
       "      <th>3173</th>\n",
       "      <td>ZBH</td>\n",
       "      <td>Zimmer Biomet Holdings, Inc.</td>\n",
       "      <td>136.31</td>\n",
       "      <td>$28.22B</td>\n",
       "      <td>NaN</td>\n",
       "      <td>Health Care</td>\n",
       "      <td>Industrial Specialties</td>\n",
       "      <td>https://old.nasdaq.com/symbol/zbh</td>\n",
       "      <td>NaN</td>\n",
       "    </tr>\n",
       "    <tr>\n",
       "      <th>3174</th>\n",
       "      <td>ZTS</td>\n",
       "      <td>Zoetis Inc.</td>\n",
       "      <td>161.32</td>\n",
       "      <td>$76.65B</td>\n",
       "      <td>2013.0</td>\n",
       "      <td>Health Care</td>\n",
       "      <td>Major Pharmaceuticals</td>\n",
       "      <td>https://old.nasdaq.com/symbol/zts</td>\n",
       "      <td>NaN</td>\n",
       "    </tr>\n",
       "    <tr>\n",
       "      <th>3175</th>\n",
       "      <td>ZTO</td>\n",
       "      <td>ZTO Express (Cayman) Inc.</td>\n",
       "      <td>31.97</td>\n",
       "      <td>$25.06B</td>\n",
       "      <td>2016.0</td>\n",
       "      <td>Transportation</td>\n",
       "      <td>Trucking Freight/Courier Services</td>\n",
       "      <td>https://old.nasdaq.com/symbol/zto</td>\n",
       "      <td>NaN</td>\n",
       "    </tr>\n",
       "    <tr>\n",
       "      <th>3176</th>\n",
       "      <td>ZUO</td>\n",
       "      <td>Zuora, Inc.</td>\n",
       "      <td>10.66</td>\n",
       "      <td>$1.26B</td>\n",
       "      <td>2018.0</td>\n",
       "      <td>Technology</td>\n",
       "      <td>Computer Software: Prepackaged Software</td>\n",
       "      <td>https://old.nasdaq.com/symbol/zuo</td>\n",
       "      <td>NaN</td>\n",
       "    </tr>\n",
       "    <tr>\n",
       "      <th>3177</th>\n",
       "      <td>ZYME</td>\n",
       "      <td>Zymeworks Inc.</td>\n",
       "      <td>44.98</td>\n",
       "      <td>$2.05B</td>\n",
       "      <td>2017.0</td>\n",
       "      <td>Health Care</td>\n",
       "      <td>Major Pharmaceuticals</td>\n",
       "      <td>https://old.nasdaq.com/symbol/zyme</td>\n",
       "      <td>NaN</td>\n",
       "    </tr>\n",
       "  </tbody>\n",
       "</table>\n",
       "<p>3178 rows × 9 columns</p>\n",
       "</div>"
      ],
      "text/plain": [
       "     Symbol                          Name  LastSale MarketCap  IPOyear  \\\n",
       "0       DDD        3D Systems Corporation      4.79  $580.24M      NaN   \n",
       "1       MMM                    3M Company    161.66   $93.12B      NaN   \n",
       "2      WBAI               500.com Limited      2.94  $126.42M   2013.0   \n",
       "3      EGHT                       8x8 Inc     15.71    $1.64B      NaN   \n",
       "4       AHC         A.H. Belo Corporation      1.39   $33.19M      NaN   \n",
       "...     ...                           ...       ...       ...      ...   \n",
       "3173    ZBH  Zimmer Biomet Holdings, Inc.    136.31   $28.22B      NaN   \n",
       "3174    ZTS                   Zoetis Inc.    161.32   $76.65B   2013.0   \n",
       "3175    ZTO     ZTO Express (Cayman) Inc.     31.97   $25.06B   2016.0   \n",
       "3176    ZUO                   Zuora, Inc.     10.66    $1.26B   2018.0   \n",
       "3177   ZYME                Zymeworks Inc.     44.98    $2.05B   2017.0   \n",
       "\n",
       "                 Sector                                 industry  \\\n",
       "0            Technology  Computer Software: Prepackaged Software   \n",
       "1           Health Care               Medical/Dental Instruments   \n",
       "2     Consumer Services    Services-Misc. Amusement & Recreation   \n",
       "3            Technology                             EDP Services   \n",
       "4     Consumer Services                     Newspapers/Magazines   \n",
       "...                 ...                                      ...   \n",
       "3173        Health Care                   Industrial Specialties   \n",
       "3174        Health Care                    Major Pharmaceuticals   \n",
       "3175     Transportation        Trucking Freight/Courier Services   \n",
       "3176         Technology  Computer Software: Prepackaged Software   \n",
       "3177        Health Care                    Major Pharmaceuticals   \n",
       "\n",
       "                           Summary Quote  Unnamed: 8  \n",
       "0      https://old.nasdaq.com/symbol/ddd         NaN  \n",
       "1      https://old.nasdaq.com/symbol/mmm         NaN  \n",
       "2     https://old.nasdaq.com/symbol/wbai         NaN  \n",
       "3     https://old.nasdaq.com/symbol/eght         NaN  \n",
       "4      https://old.nasdaq.com/symbol/ahc         NaN  \n",
       "...                                  ...         ...  \n",
       "3173   https://old.nasdaq.com/symbol/zbh         NaN  \n",
       "3174   https://old.nasdaq.com/symbol/zts         NaN  \n",
       "3175   https://old.nasdaq.com/symbol/zto         NaN  \n",
       "3176   https://old.nasdaq.com/symbol/zuo         NaN  \n",
       "3177  https://old.nasdaq.com/symbol/zyme         NaN  \n",
       "\n",
       "[3178 rows x 9 columns]"
      ]
     },
     "execution_count": 27,
     "metadata": {},
     "output_type": "execute_result"
    }
   ],
   "source": [
    "# Read the `nyse_companylist.csv` file from the Resources folder into a Pandas DataFrame \n",
    "nyse_df = pd.read_csv(Path(\"../Resources/nyse_companylist.csv\"))\n",
    "\n",
    "# Review the DataFrame\n",
    "nyse_df\n"
   ]
  },
  {
   "cell_type": "markdown",
   "metadata": {},
   "source": [
    "### 3. Review the data types (`dtypes`) of each column in the DataFrame."
   ]
  },
  {
   "cell_type": "code",
   "execution_count": 28,
   "metadata": {},
   "outputs": [
    {
     "data": {
      "text/plain": [
       "Symbol            object\n",
       "Name              object\n",
       "LastSale         float64\n",
       "MarketCap         object\n",
       "IPOyear          float64\n",
       "Sector            object\n",
       "industry          object\n",
       "Summary Quote     object\n",
       "Unnamed: 8       float64\n",
       "dtype: object"
      ]
     },
     "execution_count": 28,
     "metadata": {},
     "output_type": "execute_result"
    }
   ],
   "source": [
    "# Check dtypes of dataframe\n",
    "nyse_df.dtypes"
   ]
  },
  {
   "cell_type": "markdown",
   "metadata": {},
   "source": [
    "## Clean the Pandas DataFrame"
   ]
  },
  {
   "cell_type": "markdown",
   "metadata": {},
   "source": [
    "### 1. Apply the provided `clean_currency` function to the 'MarketCap' column of the `nyse_df` DataFrame. \n",
    "\n",
    "The `clean_currency` function performs the following actions:\n",
    "   - Removes non-numeric characters (ie '$', 'M', and 'B') from the data entry\n",
    "   - Converts the value to a float\n",
    "   - Scales the data according to the suffixes 'M' and 'B'\n",
    "   - Returns the cleaned and scaled data entry"
   ]
  },
  {
   "cell_type": "code",
   "execution_count": 29,
   "metadata": {},
   "outputs": [],
   "source": [
    "# This function converts the string values into a floating point number\n",
    "def clean_currency(price_string):\n",
    "    price = price_string\n",
    "    if type(price_string) == str:\n",
    "        if price_string[-1] == 'M':\n",
    "            million = 1000000\n",
    "            price_string = price_string.replace('$', '')\n",
    "            price_string = price_string.replace('M', '')\n",
    "            price = float(price_string)\n",
    "            price = price * million\n",
    "        else:\n",
    "            billion = 1000000000\n",
    "            price_string = price_string.replace('$', '')\n",
    "            price_string = price_string.replace('B', '')\n",
    "            price = float(price_string)\n",
    "            price = price * billion\n",
    "    return price\n",
    "\n"
   ]
  },
  {
   "cell_type": "code",
   "execution_count": 30,
   "metadata": {},
   "outputs": [],
   "source": [
    "# Apply the clean_currency function to MarketCap column\n",
    "nyse_df['MarketCap'] = nyse_df['MarketCap'].apply(clean_currency)\n"
   ]
  },
  {
   "cell_type": "markdown",
   "metadata": {},
   "source": [
    "### 2. Review the contents of the 'MarketCap' column."
   ]
  },
  {
   "cell_type": "code",
   "execution_count": 31,
   "metadata": {},
   "outputs": [
    {
     "data": {
      "text/plain": [
       "0       5.802400e+08\n",
       "1       9.312000e+10\n",
       "2       1.264200e+08\n",
       "3       1.640000e+09\n",
       "4       3.319000e+07\n",
       "            ...     \n",
       "3173    2.822000e+10\n",
       "3174    7.665000e+10\n",
       "3175    2.506000e+10\n",
       "3176    1.260000e+09\n",
       "3177    2.050000e+09\n",
       "Name: MarketCap, Length: 3178, dtype: float64"
      ]
     },
     "execution_count": 31,
     "metadata": {},
     "output_type": "execute_result"
    }
   ],
   "source": [
    "# Review the contents for the MarketCap column\n",
    "nyse_df['MarketCap']\n"
   ]
  },
  {
   "cell_type": "markdown",
   "metadata": {},
   "source": [
    "## Load the DataFrame into a SQLite Database"
   ]
  },
  {
   "cell_type": "markdown",
   "metadata": {},
   "source": [
    "### 1. Create a database connection string that loads the SQLite database called `nyse.db` into the Resources folder."
   ]
  },
  {
   "cell_type": "code",
   "execution_count": 32,
   "metadata": {},
   "outputs": [],
   "source": [
    "# Create a database connection string\n",
    "nyse_connection_string = 'sqlite:///'\n"
   ]
  },
  {
   "cell_type": "markdown",
   "metadata": {},
   "source": [
    "### 2. Create a [database engine](https://docs.sqlalchemy.org/en/14/core/engines.html) called `nyse_engine`. Be sure to include the `echo=True` parameter."
   ]
  },
  {
   "cell_type": "code",
   "execution_count": 34,
   "metadata": {},
   "outputs": [],
   "source": [
    "# Create a database engine\n",
    "nyse_engine = sql.create_engine( nyse_connection_string, echo=True)\n"
   ]
  },
  {
   "cell_type": "markdown",
   "metadata": {},
   "source": [
    "### 3. Using the Pandas [`to_sql`](https://pandas.pydata.org/pandas-docs/stable/reference/api/pandas.DataFrame.to_sql.html) function, write the `nyse_df` DataFrame to a table called `NYSE` in the `nyse.db`."
   ]
  },
  {
   "cell_type": "code",
   "execution_count": null,
   "metadata": {},
   "outputs": [],
   "source": [
    "# Add the cleaned data to a table named NYSE in the database.\n",
    "# YOUR CODE HERE!\n"
   ]
  },
  {
   "cell_type": "markdown",
   "metadata": {},
   "source": [
    "### 4. Get the table name from the database to confirm it was created."
   ]
  },
  {
   "cell_type": "code",
   "execution_count": null,
   "metadata": {},
   "outputs": [],
   "source": [
    "# Get the table name from the database\n",
    "# YOUR CODE HERE!\n"
   ]
  },
  {
   "cell_type": "markdown",
   "metadata": {},
   "source": [
    "## Query the SQL Database"
   ]
  },
  {
   "cell_type": "markdown",
   "metadata": {},
   "source": [
    "### 1. Write a SQL query to select all companies in the Technology sector AND in the Software industry AND that have a market cap greater than 30 billion USD."
   ]
  },
  {
   "cell_type": "code",
   "execution_count": null,
   "metadata": {},
   "outputs": [],
   "source": [
    "# Select all stocks where the industry is related to Software in the Technology sector having a market cap greater than 30,000,000,000.\n",
    "sql_query = \"\"\"\n",
    "YOUR CODE HERE!\n",
    "\"\"\""
   ]
  },
  {
   "cell_type": "markdown",
   "metadata": {},
   "source": [
    "### 2. Using the Pandas [`read_sql_query`](https://pandas.pydata.org/pandas-docs/stable/reference/api/pandas.read_sql_query.html) execute the SQL query and assign the results to a new Pandas DataFrame called `nyse_tech_companies_df`."
   ]
  },
  {
   "cell_type": "code",
   "execution_count": null,
   "metadata": {},
   "outputs": [],
   "source": [
    "# Execute the SQL query and read the data into a Pandas DataFrame\n",
    "nyse_tech_companies_df = # YOUR CODE HERE!\n"
   ]
  },
  {
   "cell_type": "markdown",
   "metadata": {},
   "source": [
    "### 3. Review the DataFrame."
   ]
  },
  {
   "cell_type": "code",
   "execution_count": null,
   "metadata": {},
   "outputs": [],
   "source": [
    "# Review the DataFrame\n",
    "# YOUR CODE HERE!\n"
   ]
  },
  {
   "cell_type": "code",
   "execution_count": null,
   "metadata": {},
   "outputs": [],
   "source": []
  }
 ],
 "metadata": {
  "kernelspec": {
   "display_name": "Python 3 (ipykernel)",
   "language": "python",
   "name": "python3"
  },
  "language_info": {
   "codemirror_mode": {
    "name": "ipython",
    "version": 3
   },
   "file_extension": ".py",
   "mimetype": "text/x-python",
   "name": "python",
   "nbconvert_exporter": "python",
   "pygments_lexer": "ipython3",
   "version": "3.7.13"
  },
  "nteract": {
   "version": "0.28.0"
  }
 },
 "nbformat": 4,
 "nbformat_minor": 4
}
