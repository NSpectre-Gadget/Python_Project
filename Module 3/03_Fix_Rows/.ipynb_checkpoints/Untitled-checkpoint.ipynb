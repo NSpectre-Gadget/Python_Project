{
 "cells": [
  {
   "cell_type": "code",
   "execution_count": null,
   "id": "c91dd397-c4c5-499c-b3c6-df61e9ce2dd7",
   "metadata": {},
   "outputs": [],
   "source": [
    "import panda as pd"
   ]
  },
  {
   "cell_type": "code",
   "execution_count": null,
   "id": "60aa1b25-f682-46b2-87e7-80523978f73f",
   "metadata": {},
   "outputs": [],
   "source": [
    "from pathlib import Path"
   ]
  },
  {
   "cell_type": "code",
   "execution_count": null,
   "id": "d353a542-bbdb-40dc-a967-5233d5fe1654",
   "metadata": {},
   "outputs": [],
   "source": [
    "sales_df.set_index(\"Date\")"
   ]
  },
  {
   "cell_type": "code",
   "execution_count": null,
   "id": "5ba39bb1-c10f-487a-a05b-715285974482",
   "metadata": {},
   "outputs": [],
   "source": [
    "sales_dataframe = pd.read_csv(\n",
    "    Path('../Resources/sales.csv'),\n",
    "    index_col=\"Date\",\n",
    "    parse_dates=True,\n",
    "    infer_datetime_format=True)"
   ]
  },
  {
   "cell_type": "code",
   "execution_count": null,
   "id": "ec38e5be-44fd-4cb6-a841-324d938cc156",
   "metadata": {},
   "outputs": [],
   "source": []
  }
 ],
 "metadata": {
  "kernelspec": {
   "display_name": "dev",
   "language": "python",
   "name": "dev"
  },
  "language_info": {
   "name": ""
  }
 },
 "nbformat": 4,
 "nbformat_minor": 5
}
