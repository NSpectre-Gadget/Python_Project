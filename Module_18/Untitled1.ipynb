{
 "cells": [
  {
   "cell_type": "code",
   "execution_count": null,
   "id": "376cdcfd-2cef-4ed6-8538-32fc1e07561b",
   "metadata": {},
   "outputs": [],
   "source": [
    "import requests\n",
    "from requests import get\n",
    "from bs4 import BeautifulSoup\n",
    "import pandas\n",
    "import itertools\n",
    "import streamlit as st"
   ]
  },
  {
   "cell_type": "code",
   "execution_count": null,
   "id": "9f737cc5-f4f0-442e-a821-c45139739900",
   "metadata": {},
   "outputs": [],
   "source": [
    "def net_operating(rent, tax_rate, price):\n",
    "    \n",
    "    #Takes input as monthly mortgage amount and monthly rental amount\n",
    "    #Uses managment expense, amount for repairs, vacancy ratio\n",
    "    #Example input: net_operating(1000,1,400,200)\n",
    "    #879.33\n",
    "    #1000 - 16.67 (tax) - 100 (managment) - 4 (repairs)\n",
    "    \n",
    "    mortgage_amt = mortgage_monthly(price,20,3)\n",
    "    prop_managment = rent * 0.10\n",
    "    prop_tax = (price * (tax_rate/100)/12)\n",
    "    prop_repairs = (price * 0.02)/12\n",
    "    vacancy = (rent*0.02)\n",
    "    #These sections are a list of all the expenses used and formulas for each\n",
    "    \n",
    "    net_income = rent - prop_managment - prop_tax - prop_repairs - vacancy - mortgage_amt\n",
    "    #Summing up expenses\n",
    "    output = [prop_managment, prop_tax, prop_repairs, vacancy, net_income]\n",
    "  \n",
    "    \n",
    "    return output"
   ]
  },
  {
   "cell_type": "code",
   "execution_count": null,
   "id": "aa238b7d-88be-4cb9-9751-271c5bbbaea8",
   "metadata": {},
   "outputs": [],
   "source": [
    "def down_payment(price,percent):\n",
    "    #This function takes the price and the downpayment rate and returns the downpayment amount \n",
    "    #Ie down_payment(100,20) returns 20\n",
    "    amt_down = price*(percent/100)\n",
    "    return(amt_down)"
   ]
  },
  {
   "cell_type": "code",
   "execution_count": null,
   "id": "9b3c032b-db6c-4e6e-a82f-778e9f4f45bb",
   "metadata": {},
   "outputs": [],
   "source": [
    "def mortgage_monthly(price,years,percent):\n",
    "    \n",
    "    \n",
    "    #This implements an approach to finding a monthly mortgage amount from the purchase price,\n",
    "    #years and percent. \n",
    "    #Sample input: (300000,20,4) = 2422\n",
    "    #\n",
    "    \n",
    "    \n",
    "    percent = percent /100\n",
    "    down = down_payment(price,20)\n",
    "    loan = price - down\n",
    "    months = years*12\n",
    "    interest_monthly = percent/12\n",
    "    interest_plus = interest_monthly + 1\n",
    "    exponent = (interest_plus)**(-1*months)\n",
    "    subtract = 1 - exponent\n",
    "    division = interest_monthly / subtract\n",
    "    payment = division * loan\n",
    "    \n",
    "    \n",
    "    return(payment)"
   ]
  },
  {
   "cell_type": "code",
   "execution_count": null,
   "id": "d71fada9-ad7e-465b-bb9e-0b61db04ed3f",
   "metadata": {},
   "outputs": [],
   "source": [
    "def price_mine(url):\n",
    "    #Currently this function takes an input of a URL and returns the listing prices \n",
    "    #The site it mines is remax\n",
    "    #The input must be a string input, we can reformat the input to force this to work\n",
    "    #Next we use regex to remove space and commas and dollar signs \n",
    "    headers = ({'User-Agent':\n",
    "            'Mozilla/5.0 (Windows NT 6.1) AppleWebKit/537.36 (KHTML, like Gecko) Chrome/41.0.2228.0 Safari/537.36'})\n",
    "    response = get(url)\n",
    "    response_text = response.text\n",
    "    html_soup = BeautifulSoup(response_text, 'html.parser')\n",
    "    prices = html_soup.find('h2',{'class': 'price'}).text\n",
    "    prices = prices.replace(\",\", \"\")\n",
    "    prices = prices.replace(\"$\", \"\")\n",
    "    prices = prices.replace(\" \", \"\")\n",
    "    prices = float(prices)\n",
    "  \n",
    "    return prices"
   ]
  },
  {
   "cell_type": "code",
   "execution_count": null,
   "id": "494102f8-f619-413a-abb0-68e97d2ad942",
   "metadata": {},
   "outputs": [],
   "source": [
    "def cap_rate(monthly_income, price):\n",
    "    #This function takes net income, and price and calculates the cap rate\n",
    "    #\n",
    "    cap_rate = ((monthly_income*12) / price)*100\n",
    "    \n",
    "    return cap_rate"
   ]
  },
  {
   "cell_type": "code",
   "execution_count": null,
   "id": "bfa70ad6-268b-4777-ae64-d2f7cc93164a",
   "metadata": {},
   "outputs": [],
   "source": [
    "def cash_on_cash(monthly_income, down_payment):\n",
    "    cash_return = ((monthly_income*12)/down_payment)*100\n",
    "    return cash_return"
   ]
  },
  {
   "cell_type": "code",
   "execution_count": null,
   "id": "20c1ab86-7c3e-4c3f-aefb-62226e3a74ac",
   "metadata": {},
   "outputs": [],
   "source": [
    "st.write(\"\"\"# Python Real Estate Investment Analysis Bot\"\"\")\n",
    "st.write(\"\"\"Any real estate listing can be automatically analyzed\"\"\") "
   ]
  },
  {
   "cell_type": "code",
   "execution_count": null,
   "id": "96619f9e-c79d-4af7-b303-b50ac415d51a",
   "metadata": {},
   "outputs": [],
   "source": [
    "# trial = input(\"Enter a URL to a Remax listing:   \")\n",
    "# rent_amt = input(\"Enter the monthly rent price:  \")\n",
    "# property_tax = input(\"Enter the tax rate:  \")\n",
    "#We have to change these generic inputs to streamlit inputs\n",
    "\n",
    "trial = st.sidebar.text_input(\"Enter the listing URL:   \")\n",
    "rent_amt = st.sidebar.text_input(\"Enter the monthly rent price:   \")\n",
    "property_tax = st.sidebar.text_input(\"Enter the tax rate:   \")"
   ]
  },
  {
   "cell_type": "code",
   "execution_count": null,
   "id": "2bea26c6-03d1-49d9-97bb-df5af63d8747",
   "metadata": {},
   "outputs": [],
   "source": [
    "trial = str(trial)\n",
    "rent_amt = float(rent_amt)\n",
    "property_tax = float(property_tax)"
   ]
  },
  {
   "cell_type": "code",
   "execution_count": null,
   "id": "6ad9a8c7-99b1-4c87-b6cf-2dd484b455f7",
   "metadata": {},
   "outputs": [],
   "source": [
    "listing_notice = price_mine(trial)\n",
    "mortgage = mortgage_monthly(listing_notice, 20, 3)"
   ]
  },
  {
   "cell_type": "code",
   "execution_count": null,
   "id": "f51b9b54-2075-495c-af66-154575d1e9d6",
   "metadata": {},
   "outputs": [],
   "source": [
    "cash = down_payment(listing_notice, 20)\n",
    "net_income = net_operating(rent_amt, property_tax , listing_notice)\n",
    "monthly_cash = net_income[4]\n",
    "cap_return = cap_rate(monthly_cash,listing_notice)\n",
    "cash_percent = cash_on_cash(monthly_cash,cash)\n",
    "# net_operating(rent, tax_rate, mortgage_amt, price):\n"
   ]
  },
  {
   "cell_type": "code",
   "execution_count": null,
   "id": "0b2043bf-6254-4538-a1e7-ce482bff0053",
   "metadata": {},
   "outputs": [],
   "source": [
    "# print(\"INPUT: \")\n",
    "# print(\"The price of: \", listing_notice) \n",
    "# print(\"The monthly rent of : \", rent_amt)\n",
    "# print(\"The tax rate of : \", property_tax)\n",
    "# print(\"OUTPUTS: \")\n",
    "# print(\"Monthly mortgage of  :  \",mortgage)\n",
    "# print(\"Net operating income:  \", net_income)\n",
    "# print(\"Cap rate of:  \", cap_return,\" % \")\n",
    "# print(\"Cash return rate of:  \", cash_percent, \" % \")\n",
    "\n",
    "#We have to convert the above outputs to streamlit outputs \n",
    "\n",
    "st.write(\"The monthly cashflow is: \")\n",
    "st.write(monthly_cash)\n",
    "st.write(\"The cap rate is: \")\n",
    "st.write(cap_return)\n",
    "st.write(\"The cash on cash return rate is: \")\n",
    "st.write(cash_percent)"
   ]
  },
  {
   "cell_type": "code",
   "execution_count": null,
   "id": "92e72ba4-2fcf-4682-97de-da01ee9ecb93",
   "metadata": {},
   "outputs": [],
   "source": []
  },
  {
   "cell_type": "code",
   "execution_count": null,
   "id": "ab397517-e8a8-4719-815b-1789da390848",
   "metadata": {},
   "outputs": [],
   "source": []
  },
  {
   "cell_type": "code",
   "execution_count": null,
   "id": "a2c93936-961d-4ab2-8be4-39ea18673602",
   "metadata": {},
   "outputs": [],
   "source": []
  },
  {
   "cell_type": "code",
   "execution_count": null,
   "id": "3314e741-fcbb-4685-b3c6-fe288fb785ab",
   "metadata": {},
   "outputs": [],
   "source": []
  },
  {
   "cell_type": "code",
   "execution_count": null,
   "id": "9ad6eb88-96da-4aa3-81a8-40311881c737",
   "metadata": {},
   "outputs": [],
   "source": []
  },
  {
   "cell_type": "code",
   "execution_count": null,
   "id": "d0c3b128-4cfb-4e2f-ba9f-f0ff2a5b4f11",
   "metadata": {},
   "outputs": [],
   "source": []
  },
  {
   "cell_type": "code",
   "execution_count": null,
   "id": "ae2b08b5-dfa0-46e2-8239-d55d1985bee5",
   "metadata": {},
   "outputs": [],
   "source": []
  }
 ],
 "metadata": {
  "kernelspec": {
   "display_name": "Python 3 (ipykernel)",
   "language": "python",
   "name": "python3"
  },
  "language_info": {
   "codemirror_mode": {
    "name": "ipython",
    "version": 3
   },
   "file_extension": ".py",
   "mimetype": "text/x-python",
   "name": "python",
   "nbconvert_exporter": "python",
   "pygments_lexer": "ipython3",
   "version": "3.7.13"
  }
 },
 "nbformat": 4,
 "nbformat_minor": 5
}
